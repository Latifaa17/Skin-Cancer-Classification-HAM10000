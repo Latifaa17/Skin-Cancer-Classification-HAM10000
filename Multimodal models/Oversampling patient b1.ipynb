{
  "cells": [
    {
      "cell_type": "code",
      "execution_count": null,
      "metadata": {
        "id": "g5ZmtDklRKfA"
      },
      "outputs": [],
      "source": [
        "! mkdir ~/.kaggle"
      ]
    },
    {
      "cell_type": "code",
      "execution_count": null,
      "metadata": {
        "id": "hfOqJbAsRL1F"
      },
      "outputs": [],
      "source": [
        "! cp kaggle.json ~/.kaggle/"
      ]
    },
    {
      "cell_type": "code",
      "execution_count": null,
      "metadata": {
        "id": "dDUILSndRL2W"
      },
      "outputs": [],
      "source": [
        "! chmod 600 ~/.kaggle/kaggle.json"
      ]
    },
    {
      "cell_type": "code",
      "execution_count": null,
      "metadata": {
        "colab": {
          "base_uri": "https://localhost:8080/"
        },
        "id": "DDH0Ok1GRL4-",
        "outputId": "ac8e874a-125f-4d4d-b26c-026082bef264"
      },
      "outputs": [
        {
          "name": "stdout",
          "output_type": "stream",
          "text": [
            "Downloading metadata-fromcnn.zip to /content\n",
            " 85% 10.0M/11.8M [00:01<00:00, 12.1MB/s]\n",
            "100% 11.8M/11.8M [00:01<00:00, 9.56MB/s]\n"
          ]
        }
      ],
      "source": [
        "! kaggle datasets download 'latifaadhibi/metadata-fromcnn'"
      ]
    },
    {
      "cell_type": "code",
      "execution_count": null,
      "metadata": {
        "colab": {
          "base_uri": "https://localhost:8080/"
        },
        "id": "AJkwhRMQTUdX",
        "outputId": "d4fe6755-1ef4-43db-fcdc-fa19dc2030ad"
      },
      "outputs": [
        {
          "name": "stdout",
          "output_type": "stream",
          "text": [
            "Downloading skin-cancer-mnist-ham10000.zip to /content\n",
            "100% 5.20G/5.20G [03:17<00:00, 28.8MB/s]\n",
            "100% 5.20G/5.20G [03:17<00:00, 28.3MB/s]\n"
          ]
        }
      ],
      "source": [
        "!kaggle datasets download kmader/skin-cancer-mnist-ham10000"
      ]
    },
    {
      "cell_type": "code",
      "execution_count": null,
      "metadata": {
        "colab": {
          "base_uri": "https://localhost:8080/"
        },
        "id": "PgyrZPqsTcY8",
        "outputId": "abf25f42-6d3f-4022-ef40-495e18562b29"
      },
      "outputs": [],
      "source": [
        "!unzip skin-cancer-mnist-ham10000.zip"
      ]
    },
    {
      "cell_type": "code",
      "execution_count": null,
      "metadata": {
        "colab": {
          "base_uri": "https://localhost:8080/"
        },
        "id": "jGAGzY-_TcaW",
        "outputId": "19fd0ae4-b1fd-4f4b-a799-3b6ac0a4bdb0"
      },
      "outputs": [
        {
          "name": "stdout",
          "output_type": "stream",
          "text": [
            "Archive:  metadata-fromcnn.zip\n",
            "  inflating: metadata_fromCNN.csv    \n"
          ]
        }
      ],
      "source": [
        "!unzip metadata-fromcnn.zip"
      ]
    },
    {
      "cell_type": "code",
      "execution_count": null,
      "metadata": {
        "id": "vboxxlLqTUiM"
      },
      "outputs": [],
      "source": []
    },
    {
      "cell_type": "code",
      "execution_count": null,
      "metadata": {
        "colab": {
          "base_uri": "https://localhost:8080/"
        },
        "id": "8hUkvTqURDf8",
        "outputId": "80ca3705-6f4a-4017-b90e-436eb136c7d9"
      },
      "outputs": [],
      "source": [
        "!pip install efficientnet_pytorch torchtoolbox"
      ]
    },
    {
      "cell_type": "code",
      "execution_count": null,
      "metadata": {
        "id": "GjhiQiDsRDf9"
      },
      "outputs": [],
      "source": [
        "import torch\n",
        "import torchvision\n",
        "from torchvision import models,transforms\n",
        "import torch.nn.functional as F\n",
        "import torch.nn as nn\n",
        "from torchvision import transforms\n",
        "from torch.utils.data.sampler import RandomSampler, SequentialSampler\n",
        "\n",
        "from torch.utils.data import Dataset, DataLoader, Subset\n",
        "from torch.optim.lr_scheduler import ReduceLROnPlateau\n",
        "from sklearn.metrics import accuracy_score, roc_auc_score\n",
        "from sklearn.model_selection import StratifiedKFold, GroupKFold\n",
        "import pandas as pd\n",
        "import numpy as np\n",
        "import gc\n",
        "import os\n",
        "import cv2\n",
        "import time\n",
        "import datetime\n",
        "import warnings\n",
        "import random\n",
        "import matplotlib.pyplot as plt\n",
        "import seaborn as sns\n",
        "from efficientnet_pytorch import EfficientNet\n",
        "\n",
        "from sklearn.model_selection import train_test_split\n",
        "\n",
        "%matplotlib inline"
      ]
    },
    {
      "cell_type": "code",
      "execution_count": null,
      "metadata": {
        "id": "qxVU-AI3RDf-"
      },
      "outputs": [],
      "source": [
        "torch.cuda.empty_cache()"
      ]
    },
    {
      "cell_type": "code",
      "execution_count": null,
      "metadata": {
        "id": "-Y5SVvNnRDf-"
      },
      "outputs": [],
      "source": [
        "# At least fixing some random seeds. \n",
        "# It is still impossible to make results 100% reproducible when using GPU\n",
        "warnings.simplefilter('ignore')\n",
        "torch.manual_seed(47)\n",
        "np.random.seed(47)"
      ]
    },
    {
      "cell_type": "code",
      "execution_count": null,
      "metadata": {
        "id": "pY-0wVC1RDf_"
      },
      "outputs": [],
      "source": [
        "device = torch.device(\"cuda\" if torch.cuda.is_available() else \"cpu\")"
      ]
    },
    {
      "cell_type": "code",
      "execution_count": null,
      "metadata": {
        "id": "U4noOyqdRDf_"
      },
      "outputs": [],
      "source": [
        "class MelanomaDataset(Dataset):\n",
        "    def __init__(self, df: pd.DataFrame, train: bool = True, transforms = None, meta_features = None):\n",
        "        \"\"\"\n",
        "        Class initialization\n",
        "        Args:\n",
        "            df (pd.DataFrame): DataFrame with data description\n",
        "            imfolder (str): folder with images\n",
        "            train (bool): flag of whether a training dataset is being initialized or testing one\n",
        "            transforms: image transformation method to be applied\n",
        "            meta_features (list): list of features with meta information, such as sex and age\n",
        "            \n",
        "        \"\"\"\n",
        "        self.df = df\n",
        "        self.path1 = '/content/HAM10000_images_part_1'\n",
        "        self.path2 = '/content/HAM10000_images_part_2'\n",
        "        # self.path1 = '/kaggle/input/skin-cancer-mnist-ham10000/HAM10000_images_part_1'\n",
        "        # self.path2 = '/kaggle/input/skin-cancer-mnist-ham10000/HAM10000_images_part_2'\n",
        "        self.transforms = transforms\n",
        "        self.train = train\n",
        "        self.meta_features = meta_features\n",
        "        \n",
        "    def __getitem__(self, index):\n",
        "        image_path = os.path.join(self.path1, self.df.iloc[index]['image_id'] + '.jpg')\n",
        "        if os.path.exists(image_path):\n",
        "            image = cv2.imread(image_path)\n",
        "        else:\n",
        "            # If the image is not in part 1, try to load it from part 2\n",
        "            image_path = os.path.join(self.path2, self.df.iloc[index]['image_id'] + '.jpg')\n",
        "            if os.path.exists(image_path):\n",
        "                image = cv2.imread(image_path)\n",
        "                \n",
        "        meta = np.array(self.df.iloc[index][self.meta_features].values, dtype=np.float32)\n",
        "\n",
        "        if self.transforms:\n",
        "            x = self.transforms(image)\n",
        "            \n",
        "        if self.train:\n",
        "            y = self.df.iloc[index]['target']\n",
        "            return (x, meta), y\n",
        "        else:\n",
        "            return (x, meta)\n",
        "    \n",
        "    def __len__(self):\n",
        "        return len(self.df)\n",
        "    \n",
        "    def _get_label(self, dataset, idx):\n",
        "        return self.df.iloc[idx]['target']\n",
        "    \n",
        "    "
      ]
    },
    {
      "cell_type": "code",
      "execution_count": null,
      "metadata": {
        "id": "so_cIosqRDf_"
      },
      "outputs": [],
      "source": [
        "train_transform = transforms.Compose([\n",
        "    transforms.ToPILImage(),\n",
        "    transforms.RandomHorizontalFlip(),\n",
        "    transforms.RandomVerticalFlip(),\n",
        "    transforms.ToTensor(),\n",
        "    transforms.Normalize(mean=[0.485, 0.456, 0.406],std=[0.229, 0.224, 0.225])\n",
        "])\n",
        "test_transform = transforms.Compose([\n",
        "    transforms.ToTensor(),\n",
        "    transforms.Normalize(mean=[0.485, 0.456, 0.406],std=[0.229, 0.224, 0.225])\n",
        "])\n"
      ]
    },
    {
      "cell_type": "code",
      "execution_count": null,
      "metadata": {
        "colab": {
          "base_uri": "https://localhost:8080/"
        },
        "id": "9Pa5VkHxRDgA",
        "outputId": "7d588975-825c-434a-b1dd-caf146338e05"
      },
      "outputs": [
        {
          "name": "stdout",
          "output_type": "stream",
          "text": [
            "6009\n",
            "2003\n",
            "2003\n"
          ]
        }
      ],
      "source": [
        "# df = pd.read_csv('/kaggle/input/skin-cancer-mnist-ham10000/HAM10000_metadata.csv')\n",
        "# df = pd.read_csv('/kaggle/input/meta-abcd/metadata_ABCD.csv')\n",
        "df = pd.read_csv('./metadata_fromCNN.csv')\n",
        "\n",
        "\n",
        "# this will tell us how many images are associated with each lesion_id\n",
        "df_undup = df.groupby('lesion_id').count()\n",
        "# now we filter out lesion_id's that have only one image associated with it\n",
        "df_undup = df_undup[df_undup['image_id'] == 1]\n",
        "df_undup.reset_index(inplace=True)\n",
        "\n",
        "def get_duplicates(x):\n",
        "    unique_list = list(df_undup['lesion_id'])\n",
        "    if x in unique_list:\n",
        "        return 'unduplicated'\n",
        "    else:\n",
        "        return 'duplicated'\n",
        "\n",
        "# create a new colum that is a copy of the lesion_id column\n",
        "df['duplicates'] = df['lesion_id']\n",
        "# apply the function to this new column\n",
        "df['duplicates'] = df['duplicates'].apply(get_duplicates)\n",
        "\n",
        "df_undup  = df[df['duplicates'] == 'unduplicated']\n",
        "\n",
        "#now we create a test set using df_undup because we are sure that none of these images have augmented duplicates in the train set\n",
        "y = df_undup['dx']\n",
        "_, test_df_csv = train_test_split(df_undup, test_size=0.7265, random_state=101, stratify=y)\n",
        "test_df_csv.shape\n",
        "\n",
        "# This set will be df_original excluding all rows that are in the test set\n",
        "# This function identifies if an image is part of the train or test set.\n",
        "def get_test_rows(x):\n",
        "    # create a list of all the lesion_id's in the val test\n",
        "    test_list = list(test_df_csv['image_id'])\n",
        "    if str(x) in test_list:\n",
        "        return 'test'\n",
        "    else:\n",
        "        return 'train'\n",
        "\n",
        "# identify train and test rows\n",
        "# create a new colum that is a copy of the image_id column\n",
        "df['train_or_test'] = df['image_id']\n",
        "# apply the function to this new column\n",
        "df['train_or_test'] = df['train_or_test'].apply(get_test_rows)\n",
        "# filter out train rows\n",
        "train_df_csv = df[df['train_or_test'] == 'train']\n",
        "\n",
        "# Split the test into 50% test and 50% validation\n",
        "test_df, val_df = train_test_split(test_df_csv, test_size=0.5, random_state=101, stratify=test_df_csv['dx'])\n",
        "\n",
        "train_df = train_df_csv\n",
        "print(len(train_df))\n",
        "print(len(val_df))\n",
        "print(len(test_df))"
      ]
    },
    {
      "cell_type": "code",
      "execution_count": null,
      "metadata": {
        "colab": {
          "base_uri": "https://localhost:8080/"
        },
        "id": "a6jsFyb8RDgA",
        "outputId": "2a0997ba-daf7-40cc-8023-7f2d13dd9bd4"
      },
      "outputs": [
        {
          "data": {
            "text/plain": [
              "nv       3497\n",
              "mel       946\n",
              "bkl       779\n",
              "bcc       387\n",
              "akiec     217\n",
              "vasc       96\n",
              "df         87\n",
              "Name: dx, dtype: int64"
            ]
          },
          "execution_count": 16,
          "metadata": {},
          "output_type": "execute_result"
        }
      ],
      "source": [
        "train_df.dx.value_counts()"
      ]
    },
    {
      "cell_type": "code",
      "execution_count": null,
      "metadata": {
        "id": "h5W5CEt1RDgB"
      },
      "outputs": [],
      "source": [
        "from sklearn.preprocessing import LabelEncoder\n",
        "le = LabelEncoder()\n",
        "train_df['target'] = le.fit_transform(train_df['dx'])\n",
        "val_df['target'] = le.fit_transform(val_df['dx'])\n",
        "test_df['target'] = le.fit_transform(test_df['dx'])"
      ]
    },
    {
      "cell_type": "code",
      "execution_count": null,
      "metadata": {
        "colab": {
          "base_uri": "https://localhost:8080/"
        },
        "id": "MeLCtQJhRDgB",
        "outputId": "f3af59ce-ca8c-4c63-eae1-b027a8dbba54"
      },
      "outputs": [
        {
          "data": {
            "text/plain": [
              "5    3497\n",
              "4     946\n",
              "2     779\n",
              "1     387\n",
              "0     217\n",
              "6      96\n",
              "3      87\n",
              "Name: target, dtype: int64"
            ]
          },
          "execution_count": 18,
          "metadata": {},
          "output_type": "execute_result"
        }
      ],
      "source": [
        "train_df.target.value_counts()"
      ]
    },
    {
      "cell_type": "code",
      "execution_count": null,
      "metadata": {
        "colab": {
          "base_uri": "https://localhost:8080/"
        },
        "id": "-IZJxI8kRDgB",
        "outputId": "2cd14f45-f7d6-4663-fac6-5f8ea23feb1c"
      },
      "outputs": [
        {
          "name": "stdout",
          "output_type": "stream",
          "text": [
            "5    3497\n",
            "1    3483\n",
            "3    3480\n",
            "0    3472\n",
            "6    3456\n",
            "2    3116\n",
            "4    2838\n",
            "Name: target, dtype: int64\n"
          ]
        }
      ],
      "source": [
        "from collections import Counter\n",
        "from sklearn.utils import resample\n",
        "\n",
        "# Count the number of samples for each class\n",
        "class_counts = Counter(train_df['target'])\n",
        "\n",
        "# Get the size of the majority class\n",
        "majority_class_size = max(class_counts.values())\n",
        "\n",
        "# Oversample minority classes to match the size of the majority class\n",
        "for class_label, class_size in class_counts.items():\n",
        "    if class_label != train_df['target'].mode()[0]:\n",
        "        # Determine the number of times to resample the class\n",
        "        resample_rate = int(majority_class_size / class_size)\n",
        "        \n",
        "        X_subset = train_df[train_df['target'] == class_label].drop(['target'], axis=1)\n",
        "        y_subset = train_df[train_df['target'] == class_label]['target']\n",
        "        \n",
        "        # Resample the class with replacement\n",
        "        X_subset_resampled, y_subset_resampled = resample(X_subset, y_subset, \n",
        "                                                          replace=True, n_samples=(resample_rate-1)*class_size, \n",
        "                                                          random_state=42)\n",
        "        \n",
        "        # Concatenate the resampled data with the original data\n",
        "        train_df = pd.concat([train_df, pd.concat([X_subset_resampled, y_subset_resampled], axis=1)])\n",
        "\n",
        "# Verify that all classes have the same number of samples\n",
        "print(train_df['target'].value_counts())\n"
      ]
    },
    {
      "cell_type": "code",
      "execution_count": null,
      "metadata": {
        "id": "LLaeWpVSRDgC"
      },
      "outputs": [],
      "source": [
        "train_df['sex'] = train_df['sex'].map({'male': 1, 'female': 0})\n",
        "val_df['sex'] = val_df['sex'].map({'male': 1, 'female': 0})\n",
        "test_df['sex'] = test_df['sex'].map({'male': 1, 'female': 0})\n",
        "\n",
        "train_df['sex'] = train_df['sex'].fillna(-1)\n",
        "val_df['sex'] = val_df['sex'].fillna(-1)\n",
        "test_df['sex'] = test_df['sex'].fillna(-1)\n"
      ]
    },
    {
      "cell_type": "code",
      "execution_count": null,
      "metadata": {
        "id": "83ebCsUrRDgC"
      },
      "outputs": [],
      "source": [
        "imp_mean=(train_df[\"age\"].sum())/(train_df[\"age\"].count()-train_df[\"age\"].isna().sum())\n",
        "train_df['age']=train_df['age'].fillna(imp_mean)\n",
        "\n",
        "imp_mean=(val_df[\"age\"].sum())/(val_df[\"age\"].count()-val_df[\"age\"].isna().sum())\n",
        "val_df['age']=val_df['age'].fillna(imp_mean)\n",
        "\n",
        "imp_mean_test=(test_df[\"age\"].sum())/(test_df[\"age\"].count()-test_df[\"age\"].isna().sum())\n",
        "test_df['age']=test_df['age'].fillna(imp_mean_test)"
      ]
    },
    {
      "cell_type": "code",
      "execution_count": null,
      "metadata": {
        "id": "t95zMKmhRDgC"
      },
      "outputs": [],
      "source": [
        "train_df = pd.get_dummies(train_df, columns=['localization'],prefix='site')\n",
        "val_df = pd.get_dummies(val_df, columns=['localization'],prefix='site')\n",
        "\n",
        "test_df = pd.get_dummies(test_df, columns=['localization'],prefix='site')\n",
        "\n",
        "# adding missing cols to val and test sets\n",
        "val_df = val_df.reindex(columns=train_df.columns, fill_value=0)\n",
        "test_df = test_df.reindex(columns=train_df.columns, fill_value=0)"
      ]
    },
    {
      "cell_type": "code",
      "execution_count": null,
      "metadata": {
        "id": "pr1dLuH3RDgC"
      },
      "outputs": [],
      "source": [
        "# meta_features = ['sex', 'age'] + [col for col in train_df.columns if 'site_' in col]\n",
        "meta_features = ['age', 'sex'] + [col for col in train_df.columns if 'site_' in col]"
      ]
    },
    {
      "cell_type": "code",
      "execution_count": null,
      "metadata": {
        "id": "4vvuUes6RDgC"
      },
      "outputs": [],
      "source": [
        "cnn = list(range(0,256))\n",
        "# abcd = list(range(0,6))"
      ]
    },
    {
      "cell_type": "code",
      "execution_count": null,
      "metadata": {
        "id": "ZjPNBaXNRDgD"
      },
      "outputs": [],
      "source": [
        "# cnn only\n",
        "# meta_features = cnn\n",
        "# meta_features = abcd             '''uncomment for cnn only'''\n",
        "meta_features = meta_features + cnn"
      ]
    },
    {
      "cell_type": "code",
      "execution_count": null,
      "metadata": {
        "id": "H7RZer-wRDgD"
      },
      "outputs": [],
      "source": [
        "meta_features = [str(x) for x in meta_features]"
      ]
    },
    {
      "cell_type": "code",
      "execution_count": null,
      "metadata": {
        "colab": {
          "base_uri": "https://localhost:8080/"
        },
        "id": "LkKtenakRDgD",
        "outputId": "e0f3a86f-e761-4b81-858b-1b53d15efe53"
      },
      "outputs": [
        {
          "data": {
            "text/plain": [
              "17"
            ]
          },
          "execution_count": 24,
          "metadata": {},
          "output_type": "execute_result"
        }
      ],
      "source": [
        "len(meta_features)"
      ]
    },
    {
      "cell_type": "code",
      "execution_count": null,
      "metadata": {
        "id": "IPmKbPwiRDgD"
      },
      "outputs": [],
      "source": [
        "#meta_features"
      ]
    },
    {
      "cell_type": "code",
      "execution_count": null,
      "metadata": {
        "id": "73aTU_NnRDgD"
      },
      "outputs": [],
      "source": [
        "test = MelanomaDataset(df=test_df,\n",
        "                       train=False,\n",
        "                       transforms=test_transform,\n",
        "                        meta_features=meta_features)"
      ]
    },
    {
      "cell_type": "code",
      "execution_count": null,
      "metadata": {
        "id": "iU35sjAMRDgE"
      },
      "outputs": [],
      "source": [
        "class Net(nn.Module):\n",
        "    def __init__(self, output_size, no_columns, b1=False, b4=False):\n",
        "        super().__init__()\n",
        "        self.no_columns = no_columns\n",
        "        \n",
        "        self.b1 = b1\n",
        "        self.b4 = b4\n",
        "        \n",
        "        if self.b1:\n",
        "            self.features = EfficientNet.from_pretrained('efficientnet-b1')\n",
        "            self.classification = nn.Sequential(nn.Linear(1280 + 16, output_size))\n",
        "        elif self.b4:\n",
        "            self.features = EfficientNet.from_pretrained('efficientnet-b4')\n",
        "            self.classification = nn.Sequential(nn.Linear(1792 + 16, output_size))\n",
        "        \n",
        "        \n",
        "        # (CSV)\n",
        "        self.csv = nn.Sequential(nn.Linear(self.no_columns, 32),\n",
        "                                 nn.BatchNorm1d(32),\n",
        "                                 nn.ReLU(),\n",
        "                                 nn.Dropout(p=0.3),\n",
        "                                 \n",
        "                                 nn.Linear(32, 16),\n",
        "                                 nn.BatchNorm1d(16),\n",
        "                                 nn.ReLU(),\n",
        "                                 nn.Dropout(p=0.2))\n",
        "          \n",
        "        \n",
        "        \n",
        "    def forward(self, image, csv_data, prints=False):    \n",
        "        \n",
        "        if prints: print('Input Image shape:', image.shape, '\\n'+\n",
        "                         'Input csv_data shape:', csv_data.shape)\n",
        "        \n",
        "        # IMAGE CNN\n",
        "        image = self.features.extract_features(image)\n",
        "        if prints: print('Features Image shape:', image.shape)\n",
        "\n",
        "        if self.b1:\n",
        "            image = F.avg_pool2d(image, image.size()[2:]).reshape(-1, 1280)\n",
        "        elif self.b4:\n",
        "            image = F.avg_pool2d(image, image.size()[2:]).reshape(-1, 1792)\n",
        "     \n",
        "        if prints: print('Image Reshaped shape:', image.shape)\n",
        "            \n",
        "        # CSV FNN\n",
        "        csv_data = self.csv(csv_data)\n",
        "        if prints: print('CSV Data:', csv_data.shape)\n",
        "            \n",
        "        # Concatenate\n",
        "        image_csv_data = torch.cat((image, csv_data), dim=1)\n",
        "        \n",
        "#         image_csv_data = F.relu(image_csv_data)\n",
        "        \n",
        "        # CLASSIF\n",
        "        out = self.classification(image_csv_data)\n",
        "        if prints: print('Out shape:', out.shape)\n",
        "        \n",
        "        return out"
      ]
    },
    {
      "cell_type": "code",
      "execution_count": null,
      "metadata": {
        "id": "6RSJX4wlRDgE"
      },
      "outputs": [],
      "source": [
        "epochs = 3 # Number of epochs to run\n",
        "model_path = 'model.pth'  # Path and filename to save model to\n",
        "es_patience = 3  # Early Stopping patience - for how many epochs with no improvements to wait\n",
        "TTA = 3 # Test Time Augmentation \n",
        "\n",
        "oof = np.zeros((len(train_df), 7))  # Out Of Fold predictions\n"
      ]
    },
    {
      "cell_type": "code",
      "execution_count": null,
      "metadata": {
        "id": "hYmw5AUDRDgE"
      },
      "outputs": [],
      "source": [
        "from tqdm import tqdm\n",
        "import tqdm.notebook as tq\n",
        "import torch.nn.functional as F\n",
        "from sklearn.utils.class_weight import compute_class_weight"
      ]
    },
    {
      "cell_type": "code",
      "execution_count": null,
      "metadata": {
        "id": "-vYus4OYRDgE"
      },
      "outputs": [],
      "source": [
        "# Define Focal loss implementation\n",
        "class FocalLoss(nn.Module):\n",
        "    def __init__(self, gamma=2, alpha=None, reduction='mean'):\n",
        "        super(FocalLoss, self).__init__()\n",
        "        self.gamma = gamma\n",
        "        self.alpha = alpha\n",
        "        if isinstance(alpha,(float,int)): self.alpha = torch.Tensor([alpha,1-alpha])\n",
        "        if isinstance(alpha,list): self.alpha = torch.Tensor(alpha)\n",
        "        self.reduction = reduction\n",
        "\n",
        "    def forward(self, inputs, targets):\n",
        "        CE_loss = F.cross_entropy(inputs, targets, reduction=self.reduction, weight=self.alpha)\n",
        "        pt = torch.exp(-CE_loss)\n",
        "        F_loss = ((1-pt)**self.gamma) * CE_loss\n",
        "        if self.reduction == 'mean': return F_loss.mean()\n",
        "        else: return F_loss.sum()"
      ]
    },
    {
      "cell_type": "code",
      "execution_count": null,
      "metadata": {
        "colab": {
          "background_save": true,
          "base_uri": "https://localhost:8080/",
          "height": 252,
          "referenced_widgets": [
            "fa33ccd705364be3b55e6d9235429f2e",
            "88bd88de0a2d4387af1f6ebb7a2ffabe",
            "7a753fcf05ba4de7b9058430e78de8e2",
            "46cfbb5e500d48ab9ea53d40ec6dd5ac",
            "e5e7f0325cb64ef2ada5fa828eaf578e",
            "275377b0efaa4f30a2dccadfd058581f",
            "96c8586fb3324b9db47994db4c523e3e",
            "7167cff35f764498b4fde6fe5d112012",
            "9b00116c28cb40e893073aea352e45b9",
            "4ee8de9de6d94b18957deeab6972c803",
            "3d587e814ab540db9fbbc12f98e84c63",
            "eaa7e1a5c9594bb48f1578643fd59577",
            "aa63fbaeda884bb487734327cdb36c69",
            "16b6d00308df4eaf9e58e1575cba5688",
            "8f617c21a609401a9d2a11e3a1191518",
            "bb345a2e1f9d45b4b32fe790f102e18d",
            "151250d5876e4db59ae5e0b2578c8e9a",
            "2c742c241dad430481c791cb5788b1e5",
            "7ed53007a5cb4f1f817d396b7e947843",
            "546cc758dda84ed596b56cc85ed864f2",
            "1b56483d6c9e4a63810b470219860bb3",
            "7f01ad81f88f45ddb76423f1c0b900bb",
            "f5bacd7263264782b8c64d201b70858a",
            "92a44bdddf584e20a490269ffcaf3933",
            "de7002b78e224f8ca53fc194f9159318",
            "47e75535607b4eab99585b1438dd1515",
            "f3dc3f4ef04f49c68626707d47339899",
            "249792924ee9419c90a6ed7e12fa5261",
            "86f383645ce8434a800c4830cd5e5acf",
            "acc7442a48d9401c8bf356322a6ed443",
            "f38e4576fedb4a7b81dd2264cf283685",
            "d65f7c06d51d46d9a819274cb19c0e39",
            "549111e1769247b09b6aeb7054ea065c"
          ]
        },
        "id": "GEEJ90i2RDgF",
        "outputId": "61e727fa-94f4-46db-b4bc-9c24ccab8666"
      },
      "outputs": [
        {
          "name": "stderr",
          "output_type": "stream",
          "text": [
            "Downloading: \"https://github.com/lukemelas/EfficientNet-PyTorch/releases/download/1.0/efficientnet-b1-f1951068.pth\" to /root/.cache/torch/hub/checkpoints/efficientnet-b1-f1951068.pth\n",
            "100%|██████████| 30.1M/30.1M [00:01<00:00, 23.0MB/s]\n"
          ]
        },
        {
          "name": "stdout",
          "output_type": "stream",
          "text": [
            "Loaded pretrained weights for efficientnet-b1\n"
          ]
        },
        {
          "name": "stderr",
          "output_type": "stream",
          "text": [
            "\r  0%|          | 0/3 [00:00<?, ?it/s]"
          ]
        },
        {
          "data": {
            "application/vnd.jupyter.widget-view+json": {
              "model_id": "fa33ccd705364be3b55e6d9235429f2e",
              "version_major": 2,
              "version_minor": 0
            },
            "text/plain": [
              "  0%|          | 0/1458 [00:00<?, ?it/s]"
            ]
          },
          "metadata": {},
          "output_type": "display_data"
        },
        {
          "name": "stderr",
          "output_type": "stream",
          "text": [
            "\r 33%|███▎      | 1/3 [24:29<48:59, 1469.72s/it]"
          ]
        },
        {
          "name": "stdout",
          "output_type": "stream",
          "text": [
            "Epoch 001: | Loss: 0.547 | Train acc: 0.812 | Val acc: 0.915 | Val roc_auc: 0.961 | Training time: 0:24:29\n"
          ]
        },
        {
          "data": {
            "application/vnd.jupyter.widget-view+json": {
              "model_id": "eaa7e1a5c9594bb48f1578643fd59577",
              "version_major": 2,
              "version_minor": 0
            },
            "text/plain": [
              "  0%|          | 0/1458 [00:00<?, ?it/s]"
            ]
          },
          "metadata": {},
          "output_type": "display_data"
        },
        {
          "name": "stderr",
          "output_type": "stream",
          "text": [
            "\r 67%|██████▋   | 2/3 [48:47<24:22, 1462.74s/it]"
          ]
        },
        {
          "name": "stdout",
          "output_type": "stream",
          "text": [
            "Epoch 002: | Loss: 0.185 | Train acc: 0.939 | Val acc: 0.887 | Val roc_auc: 0.956 | Training time: 0:24:17\n"
          ]
        },
        {
          "data": {
            "application/vnd.jupyter.widget-view+json": {
              "model_id": "f5bacd7263264782b8c64d201b70858a",
              "version_major": 2,
              "version_minor": 0
            },
            "text/plain": [
              "  0%|          | 0/1458 [00:00<?, ?it/s]"
            ]
          },
          "metadata": {},
          "output_type": "display_data"
        },
        {
          "name": "stderr",
          "output_type": "stream",
          "text": [
            "100%|██████████| 3/3 [1:12:55<00:00, 1458.65s/it]"
          ]
        },
        {
          "name": "stdout",
          "output_type": "stream",
          "text": [
            "Epoch 003: | Loss: 0.114 | Train acc: 0.963 | Val acc: 0.892 | Val roc_auc: 0.969 | Training time: 0:24:08\n"
          ]
        },
        {
          "name": "stderr",
          "output_type": "stream",
          "text": [
            "\n"
          ]
        }
      ],
      "source": [
        "best_val = None  # Best validation score within this fold\n",
        "patience = es_patience  # Current patience counter\n",
        "#     arch = EfficientNet.from_pretrained('efficientnet-b1')\n",
        "#     arch = models.resnet50(pretrained=True)\n",
        "#     model = Net(arch=arch, n_meta_features=len(meta_features))  # New model for each fold\n",
        "\n",
        "model = Net(output_size = 7 , no_columns=len(meta_features), b1=True)\n",
        "model = model.to(device)\n",
        "\n",
        "\n",
        "optim = torch.optim.Adam(model.parameters(), lr=0.0001)\n",
        "scheduler = ReduceLROnPlateau(optimizer=optim, mode='max', patience=1, verbose=True, factor=0.4)\n",
        "\n",
        "\n",
        "# Get the class weights for the training data\n",
        "#class_weights1 = torch.tensor(compute_class_weight('balanced', classes=np.unique(train_df.iloc[train_idx]['target']), y=train_df.iloc[train_idx]['target']), dtype=torch.float32)\n",
        "#class_weights = class_weights1.to(device)\n",
        "\n",
        "#giving more importance to mel\n",
        "\n",
        "# Define weight factors\n",
        "class_factor_interest = 2.0\n",
        "class_factor_minority = 1.0\n",
        "class_factor_majority = 0.5\n",
        "\n",
        "# Get class labels and weights\n",
        "class_labels = np.unique(train_df['target'])\n",
        "class_weights_all = compute_class_weight('balanced', classes=class_labels, y=train_df['target'])\n",
        "\n",
        "# Modify class weights to reflect weight factors\n",
        "class_weights = np.zeros_like(class_weights_all)\n",
        "for i, weight in enumerate(class_weights_all):\n",
        "    if class_labels[i] == 4:  # class of interest\n",
        "        class_weights[i] = weight * class_factor_interest\n",
        "    elif weight == np.max(class_weights_all):  # majority class\n",
        "        class_weights[i] = weight * class_factor_majority\n",
        "    else:  # minority class\n",
        "        class_weights[i] = weight * class_factor_minority\n",
        "\n",
        "# Convert class weights to PyTorch tensor\n",
        "class_weights = torch.tensor(class_weights, dtype=torch.float32).to(device)\n",
        "\n",
        "\n",
        "\n",
        "focal_loss = FocalLoss(gamma=2, alpha=class_weights)\n",
        "criterion = nn.CrossEntropyLoss(weight = class_weights)\n",
        "\n",
        "train = MelanomaDataset(df=train_df.reset_index(drop=True), \n",
        "                        train=True, \n",
        "                        transforms=train_transform,\n",
        "                        meta_features=meta_features)\n",
        "val = MelanomaDataset(df=val_df.reset_index(drop=True), \n",
        "                        train=True, \n",
        "                        transforms=test_transform,\n",
        "                        meta_features=meta_features)   \n",
        "\n",
        "train_loader = DataLoader(dataset=train, batch_size=16, shuffle=True, num_workers=0, drop_last=True)\n",
        "val_loader = DataLoader(dataset=val, batch_size=8, shuffle=False, num_workers=0, drop_last=True)\n",
        "test_loader = DataLoader(dataset=test, batch_size=8, shuffle=False, num_workers=0)\n",
        "\n",
        "for epoch in tqdm(range(epochs)):\n",
        "    start_time = time.time()\n",
        "    correct = 0\n",
        "    epoch_loss = 0\n",
        "    model.train()\n",
        "\n",
        "    for x, y in tq.tqdm(train_loader):\n",
        "        x[0] = torch.tensor(x[0], device=device, dtype=torch.float32)\n",
        "        x[1] = torch.tensor(x[1], device=device, dtype=torch.float32)\n",
        "        y = torch.tensor(y, device=device, dtype=torch.long)\n",
        "\n",
        "        optim.zero_grad()\n",
        "#             z = model(x)\n",
        "        z = model(x[0],x[1])\n",
        "      #  loss = focal_loss(z, y)\n",
        "        loss = criterion(z, y)\n",
        "        loss.backward()\n",
        "        optim.step()\n",
        "        pred = torch.argmax(z, dim=1)  # get the index of the highest value in out\n",
        "        correct += (pred.cpu() == y.cpu()).sum().item()  # tracking number of correctly predicted samples\n",
        "        epoch_loss += loss.item()\n",
        "    train_acc = correct / len(train_df)\n",
        "\n",
        "    model.eval()  # switch model to the evaluation mode\n",
        "    val_preds = torch.zeros((len(val_df), 7), dtype=torch.float32, device=device)\n",
        "    with torch.no_grad():  # Do not calculate gradient since we are only predicting\n",
        "        # Predicting on validation set\n",
        "        for j, (x_val, y_val) in enumerate(val_loader):\n",
        "            x_val[0] = torch.tensor(x_val[0], device=device, dtype=torch.float32)\n",
        "            x_val[1] = torch.tensor(x_val[1], device=device, dtype=torch.float32)\n",
        "            y_val = torch.tensor(y_val, device=device, dtype=torch.long)\n",
        "#                 z_val = model(x_val)\n",
        "            z_val = model(x_val[0],x_val[1])\n",
        "            val_pred = torch.sigmoid(z_val)\n",
        "            val_preds[j*x_val[0].shape[0]:j*x_val[0].shape[0] + x_val[0].shape[0]] = val_pred\n",
        "\n",
        "        val_preds = torch.softmax(val_preds, dim=1) # use softmax to convert logits to probabilities\n",
        "        val_acc = accuracy_score(val_df['target'].values, torch.argmax(val_preds.cpu(), dim=1))\n",
        "        val_preds = val_preds.cpu().detach().numpy()\n",
        "        val_preds = val_preds.reshape(-1, 7) # reshape val_preds to a 2D tensor\n",
        "\n",
        "        val_roc = roc_auc_score(val_df['target'].values, val_preds, multi_class='ovr')\n",
        "\n",
        "        print('Epoch {:03}: | Loss: {:.3f} | Train acc: {:.3f} | Val acc: {:.3f} | Val roc_auc: {:.3f} | Training time: {}'.format(\n",
        "        epoch + 1, \n",
        "        epoch_loss/len(train_loader), \n",
        "        train_acc, \n",
        "        val_acc, \n",
        "        val_roc, \n",
        "        str(datetime.timedelta(seconds=time.time() - start_time))[:7]))\n",
        "\n",
        "        scheduler.step(val_roc)\n",
        "        # During the first iteration (first epoch) best validation is set to None\n",
        "        if not best_val:\n",
        "            best_val = val_roc  # So any validation roc_auc we have is the best one for now\n",
        "            torch.save(model, model_path)  # Saving the model\n",
        "            continue\n",
        "\n",
        "        if val_roc >= best_val:\n",
        "            best_val = val_roc\n",
        "            patience = es_patience  # Resetting patience since we have new best validation accuracy\n",
        "            torch.save(model, model_path)  # Saving current best model\n",
        "        else:\n",
        "            patience -= 1\n",
        "            if patience == 0:\n",
        "                print('Early stopping. Best Val roc_auc: {:.3f}'.format(best_val))\n",
        "                break\n"
      ]
    },
    {
      "cell_type": "code",
      "execution_count": null,
      "metadata": {
        "colab": {
          "background_save": true
        },
        "id": "JUQybxokRDgF"
      },
      "outputs": [],
      "source": [
        "test_loader = DataLoader(dataset=test, batch_size=8, shuffle=False,num_workers=0)"
      ]
    },
    {
      "cell_type": "code",
      "execution_count": null,
      "metadata": {
        "colab": {
          "background_save": true,
          "base_uri": "https://localhost:8080/"
        },
        "id": "Zps3gscjRDgF",
        "outputId": "e5039b59-ffe1-46cf-ac9c-9ce6da995a11"
      },
      "outputs": [
        {
          "data": {
            "text/plain": [
              "nv       1604\n",
              "bkl       160\n",
              "mel        83\n",
              "bcc        64\n",
              "akiec      55\n",
              "vasc       23\n",
              "df         14\n",
              "Name: dx, dtype: int64"
            ]
          },
          "execution_count": 34,
          "metadata": {},
          "output_type": "execute_result"
        }
      ],
      "source": [
        "test_df.dx.value_counts()"
      ]
    },
    {
      "cell_type": "code",
      "execution_count": null,
      "metadata": {
        "colab": {
          "background_save": true
        },
        "id": "1465rOIURDgF"
      },
      "outputs": [],
      "source": [
        "import gc\n",
        "gc.collect()\n",
        "torch.cuda.empty_cache()"
      ]
    },
    {
      "cell_type": "code",
      "execution_count": null,
      "metadata": {
        "id": "rBsGAe0pRDgG"
      },
      "outputs": [],
      "source": [
        "model = torch.load('./model.pth')\n",
        "model.eval()  # switch model to the evaluation mode\n",
        "preds = torch.zeros((len(test), 7), dtype=torch.float32, device=device)\n",
        "with torch.no_grad():\n",
        "\n",
        "    for i, x_test in enumerate(test_loader):\n",
        "        x_test[0] = torch.tensor(x_test[0], device=device, dtype=torch.float32)\n",
        "        x_test[1] = torch.tensor(x_test[1], device=device, dtype=torch.float32)\n",
        "#         z_test = model(x_test)\n",
        "        z_test = model(x_test[0],x_test[1])\n",
        "        z_test = torch.softmax(z_test, dim=1) # use softmax to convert logits to probabilities\n",
        "        preds[i*x_test[0].shape[0]:i*x_test[0].shape[0] + x_test[0].shape[0]] += z_test\n",
        "\n",
        "\n",
        "\n",
        "gc.collect()   \n",
        "           \n"
      ]
    },
    {
      "cell_type": "code",
      "execution_count": null,
      "metadata": {
        "colab": {
          "background_save": true
        },
        "id": "GKN4AX0cRDgG"
      },
      "outputs": [],
      "source": [
        "\n",
        "from sklearn.metrics import accuracy_score, precision_score,recall_score, f1_score\n",
        "\n",
        "from sklearn.preprocessing import LabelBinarizer\n",
        "\n",
        "# Convert the target data to one-hot encoded format\n",
        "lb = LabelBinarizer()\n",
        "test_labels = lb.fit_transform(test_df['target'])\n",
        "\n",
        "# Get predictions for the test set\n",
        "test_preds = preds.cpu()\n",
        "\n",
        "# Convert the predictions to one-hot encoded format if needed\n",
        "if len(test_preds.shape) > 1 and test_preds.shape[1] > 1:\n",
        "    test_preds = np.argmax(test_preds, axis=1)\n",
        "    test_preds = lb.transform(test_preds)\n",
        "\n",
        "# Calculate metrics\n",
        "acc = accuracy_score(test_labels, test_preds)\n",
        "prec = precision_score(test_labels, test_preds, average='macro')\n",
        "rec = recall_score(test_labels, test_preds, average='macro')\n",
        "f1 = f1_score(test_labels, test_preds, average='macro')\n",
        "roc = roc_auc_score(test_labels, test_preds, multi_class='ovr')\n"
      ]
    },
    {
      "cell_type": "code",
      "execution_count": null,
      "metadata": {
        "colab": {
          "background_save": true
        },
        "id": "Moi9EH7LRDgG",
        "outputId": "bcf622b4-9b88-4667-a94f-f2781630b5bc"
      },
      "outputs": [
        {
          "name": "stdout",
          "output_type": "stream",
          "text": [
            "acc  0.9066400399400899\n",
            "prec  0.7775573863378719\n",
            "rec  0.7490652005742472\n",
            "f1  0.7383455770123035\n",
            "roc  0.8644322674351133\n"
          ]
        }
      ],
      "source": [
        "print(\"acc \", acc)\n",
        "print(\"prec \",prec)\n",
        "print(\"rec \",rec)\n",
        "print(\"f1 \",f1)\n",
        "print(\"roc \",roc)"
      ]
    },
    {
      "cell_type": "code",
      "execution_count": null,
      "metadata": {
        "colab": {
          "background_save": true
        },
        "id": "BRqTlsAXRDgG",
        "outputId": "31874433-19c5-491c-8426-467cc1bf5ed3"
      },
      "outputs": [
        {
          "data": {
            "image/png": "[encoded data removed]",
            "text/plain": [
              "<Figure size 640x480 with 2 Axes>"
            ]
          },
          "metadata": {},
          "output_type": "display_data"
        }
      ],
      "source": [
        "from sklearn.metrics import confusion_matrix\n",
        "\n",
        "import seaborn as sns\n",
        "import matplotlib.pyplot as plt\n",
        "\n",
        "# Generate the confusion matrix\n",
        "conf_matrix = confusion_matrix(test_labels.argmax(axis=1), test_preds.argmax(axis=1))\n",
        "\n",
        "# Create a heatmap of the confusion matrix\n",
        "sns.heatmap(conf_matrix, annot=True, fmt='d', cmap='Blues')\n",
        "\n",
        "# Set the axis labels and title\n",
        "plt.xlabel('Predicted Label')\n",
        "plt.ylabel('True Label')\n",
        "plt.title('Confusion Matrix')\n",
        "\n",
        "# Display the plot\n",
        "plt.show()\n"
      ]
    },
    {
      "cell_type": "code",
      "execution_count": 43,
      "metadata": {
        "colab": {
          "base_uri": "https://localhost:8080/"
        },
        "id": "Sj6h8Q5JRDgG",
        "outputId": "a5e567b7-23fe-49d1-d5bc-3d3f51a55e3f"
      },
      "outputs": [
        {
          "name": "stdout",
          "output_type": "stream",
          "text": [
            "False Negative Rate for mel: 10.84%\n"
          ]
        }
      ],
      "source": [
        "# Extract the row and column corresponding to class 4: mel\n",
        "class_idx = 4\n",
        "fn = conf_matrix[class_idx, :].sum() - conf_matrix[class_idx, class_idx]\n",
        "\n",
        "# Calculate the percentage of instances from class 4 that were classified as another class\n",
        "fn_percent = (fn / conf_matrix[class_idx, :].sum()) * 100\n",
        "\n",
        "# Print the results\n",
        "print(f\"False Negative Rate for mel: {fn_percent:.2f}%\")"
      ]
    },
    {
      "cell_type": "code",
      "execution_count": null,
      "metadata": {
        "id": "N89ktKmJRDgH"
      },
      "outputs": [],
      "source": []
    },
    {
      "cell_type": "code",
      "execution_count": null,
      "metadata": {
        "id": "BM4x_CrgRDgH"
      },
      "outputs": [],
      "source": []
    },
    {
      "cell_type": "code",
      "execution_count": null,
      "metadata": {
        "id": "V4Vwkts_RDgH"
      },
      "outputs": [],
      "source": []
    }
  ],
  "metadata": {
    "accelerator": "GPU",
    "colab": {
      "machine_shape": "hm",
      "provenance": []
    },
    "gpuClass": "standard",
    "kernelspec": {
      "display_name": "Python 3",
      "language": "python",
      "name": "python3"
    },
    "language_info": {
      "codemirror_mode": {
        "name": "ipython",
        "version": 3
      },
      "file_extension": ".py",
      "mimetype": "text/x-python",
      "name": "python",
      "nbconvert_exporter": "python",
      "pygments_lexer": "ipython3",
      "version": "3.7.6"
    },
    "widgets": {
      "application/vnd.jupyter.widget-state+json": {
        "151250d5876e4db59ae5e0b2578c8e9a": {
          "model_module": "@jupyter-widgets/base",
          "model_module_version": "1.2.0",
          "model_name": "LayoutModel",
          "state": {
            "_model_module": "@jupyter-widgets/base",
            "_model_module_version": "1.2.0",
            "_model_name": "LayoutModel",
            "_view_count": null,
            "_view_module": "@jupyter-widgets/base",
            "_view_module_version": "1.2.0",
            "_view_name": "LayoutView",
            "align_content": null,
            "align_items": null,
            "align_self": null,
            "border": null,
            "bottom": null,
            "display": null,
            "flex": null,
            "flex_flow": null,
            "grid_area": null,
            "grid_auto_columns": null,
            "grid_auto_flow": null,
            "grid_auto_rows": null,
            "grid_column": null,
            "grid_gap": null,
            "grid_row": null,
            "grid_template_areas": null,
            "grid_template_columns": null,
            "grid_template_rows": null,
            "height": null,
            "justify_content": null,
            "justify_items": null,
            "left": null,
            "margin": null,
            "max_height": null,
            "max_width": null,
            "min_height": null,
            "min_width": null,
            "object_fit": null,
            "object_position": null,
            "order": null,
            "overflow": null,
            "overflow_x": null,
            "overflow_y": null,
            "padding": null,
            "right": null,
            "top": null,
            "visibility": null,
            "width": null
          }
        },
        "16b6d00308df4eaf9e58e1575cba5688": {
          "model_module": "@jupyter-widgets/controls",
          "model_module_version": "1.5.0",
          "model_name": "FloatProgressModel",
          "state": {
            "_dom_classes": [],
            "_model_module": "@jupyter-widgets/controls",
            "_model_module_version": "1.5.0",
            "_model_name": "FloatProgressModel",
            "_view_count": null,
            "_view_module": "@jupyter-widgets/controls",
            "_view_module_version": "1.5.0",
            "_view_name": "ProgressView",
            "bar_style": "success",
            "description": "",
            "description_tooltip": null,
            "layout": "IPY_MODEL_7ed53007a5cb4f1f817d396b7e947843",
            "max": 1458,
            "min": 0,
            "orientation": "horizontal",
            "style": "IPY_MODEL_546cc758dda84ed596b56cc85ed864f2",
            "value": 1458
          }
        },
        "1b56483d6c9e4a63810b470219860bb3": {
          "model_module": "@jupyter-widgets/base",
          "model_module_version": "1.2.0",
          "model_name": "LayoutModel",
          "state": {
            "_model_module": "@jupyter-widgets/base",
            "_model_module_version": "1.2.0",
            "_model_name": "LayoutModel",
            "_view_count": null,
            "_view_module": "@jupyter-widgets/base",
            "_view_module_version": "1.2.0",
            "_view_name": "LayoutView",
            "align_content": null,
            "align_items": null,
            "align_self": null,
            "border": null,
            "bottom": null,
            "display": null,
            "flex": null,
            "flex_flow": null,
            "grid_area": null,
            "grid_auto_columns": null,
            "grid_auto_flow": null,
            "grid_auto_rows": null,
            "grid_column": null,
            "grid_gap": null,
            "grid_row": null,
            "grid_template_areas": null,
            "grid_template_columns": null,
            "grid_template_rows": null,
            "height": null,
            "justify_content": null,
            "justify_items": null,
            "left": null,
            "margin": null,
            "max_height": null,
            "max_width": null,
            "min_height": null,
            "min_width": null,
            "object_fit": null,
            "object_position": null,
            "order": null,
            "overflow": null,
            "overflow_x": null,
            "overflow_y": null,
            "padding": null,
            "right": null,
            "top": null,
            "visibility": null,
            "width": null
          }
        },
        "249792924ee9419c90a6ed7e12fa5261": {
          "model_module": "@jupyter-widgets/base",
          "model_module_version": "1.2.0",
          "model_name": "LayoutModel",
          "state": {
            "_model_module": "@jupyter-widgets/base",
            "_model_module_version": "1.2.0",
            "_model_name": "LayoutModel",
            "_view_count": null,
            "_view_module": "@jupyter-widgets/base",
            "_view_module_version": "1.2.0",
            "_view_name": "LayoutView",
            "align_content": null,
            "align_items": null,
            "align_self": null,
            "border": null,
            "bottom": null,
            "display": null,
            "flex": null,
            "flex_flow": null,
            "grid_area": null,
            "grid_auto_columns": null,
            "grid_auto_flow": null,
            "grid_auto_rows": null,
            "grid_column": null,
            "grid_gap": null,
            "grid_row": null,
            "grid_template_areas": null,
            "grid_template_columns": null,
            "grid_template_rows": null,
            "height": null,
            "justify_content": null,
            "justify_items": null,
            "left": null,
            "margin": null,
            "max_height": null,
            "max_width": null,
            "min_height": null,
            "min_width": null,
            "object_fit": null,
            "object_position": null,
            "order": null,
            "overflow": null,
            "overflow_x": null,
            "overflow_y": null,
            "padding": null,
            "right": null,
            "top": null,
            "visibility": null,
            "width": null
          }
        },
        "275377b0efaa4f30a2dccadfd058581f": {
          "model_module": "@jupyter-widgets/base",
          "model_module_version": "1.2.0",
          "model_name": "LayoutModel",
          "state": {
            "_model_module": "@jupyter-widgets/base",
            "_model_module_version": "1.2.0",
            "_model_name": "LayoutModel",
            "_view_count": null,
            "_view_module": "@jupyter-widgets/base",
            "_view_module_version": "1.2.0",
            "_view_name": "LayoutView",
            "align_content": null,
            "align_items": null,
            "align_self": null,
            "border": null,
            "bottom": null,
            "display": null,
            "flex": null,
            "flex_flow": null,
            "grid_area": null,
            "grid_auto_columns": null,
            "grid_auto_flow": null,
            "grid_auto_rows": null,
            "grid_column": null,
            "grid_gap": null,
            "grid_row": null,
            "grid_template_areas": null,
            "grid_template_columns": null,
            "grid_template_rows": null,
            "height": null,
            "justify_content": null,
            "justify_items": null,
            "left": null,
            "margin": null,
            "max_height": null,
            "max_width": null,
            "min_height": null,
            "min_width": null,
            "object_fit": null,
            "object_position": null,
            "order": null,
            "overflow": null,
            "overflow_x": null,
            "overflow_y": null,
            "padding": null,
            "right": null,
            "top": null,
            "visibility": null,
            "width": null
          }
        },
        "2c742c241dad430481c791cb5788b1e5": {
          "model_module": "@jupyter-widgets/controls",
          "model_module_version": "1.5.0",
          "model_name": "DescriptionStyleModel",
          "state": {
            "_model_module": "@jupyter-widgets/controls",
            "_model_module_version": "1.5.0",
            "_model_name": "DescriptionStyleModel",
            "_view_count": null,
            "_view_module": "@jupyter-widgets/base",
            "_view_module_version": "1.2.0",
            "_view_name": "StyleView",
            "description_width": ""
          }
        },
        "3d587e814ab540db9fbbc12f98e84c63": {
          "model_module": "@jupyter-widgets/controls",
          "model_module_version": "1.5.0",
          "model_name": "DescriptionStyleModel",
          "state": {
            "_model_module": "@jupyter-widgets/controls",
            "_model_module_version": "1.5.0",
            "_model_name": "DescriptionStyleModel",
            "_view_count": null,
            "_view_module": "@jupyter-widgets/base",
            "_view_module_version": "1.2.0",
            "_view_name": "StyleView",
            "description_width": ""
          }
        },
        "46cfbb5e500d48ab9ea53d40ec6dd5ac": {
          "model_module": "@jupyter-widgets/controls",
          "model_module_version": "1.5.0",
          "model_name": "HTMLModel",
          "state": {
            "_dom_classes": [],
            "_model_module": "@jupyter-widgets/controls",
            "_model_module_version": "1.5.0",
            "_model_name": "HTMLModel",
            "_view_count": null,
            "_view_module": "@jupyter-widgets/controls",
            "_view_module_version": "1.5.0",
            "_view_name": "HTMLView",
            "description": "",
            "description_tooltip": null,
            "layout": "IPY_MODEL_4ee8de9de6d94b18957deeab6972c803",
            "placeholder": "​",
            "style": "IPY_MODEL_3d587e814ab540db9fbbc12f98e84c63",
            "value": " 1458/1458 [24:00&lt;00:00,  1.02it/s]"
          }
        },
        "47e75535607b4eab99585b1438dd1515": {
          "model_module": "@jupyter-widgets/controls",
          "model_module_version": "1.5.0",
          "model_name": "HTMLModel",
          "state": {
            "_dom_classes": [],
            "_model_module": "@jupyter-widgets/controls",
            "_model_module_version": "1.5.0",
            "_model_name": "HTMLModel",
            "_view_count": null,
            "_view_module": "@jupyter-widgets/controls",
            "_view_module_version": "1.5.0",
            "_view_name": "HTMLView",
            "description": "",
            "description_tooltip": null,
            "layout": "IPY_MODEL_d65f7c06d51d46d9a819274cb19c0e39",
            "placeholder": "​",
            "style": "IPY_MODEL_549111e1769247b09b6aeb7054ea065c",
            "value": " 1458/1458 [23:40&lt;00:00,  1.02it/s]"
          }
        },
        "4ee8de9de6d94b18957deeab6972c803": {
          "model_module": "@jupyter-widgets/base",
          "model_module_version": "1.2.0",
          "model_name": "LayoutModel",
          "state": {
            "_model_module": "@jupyter-widgets/base",
            "_model_module_version": "1.2.0",
            "_model_name": "LayoutModel",
            "_view_count": null,
            "_view_module": "@jupyter-widgets/base",
            "_view_module_version": "1.2.0",
            "_view_name": "LayoutView",
            "align_content": null,
            "align_items": null,
            "align_self": null,
            "border": null,
            "bottom": null,
            "display": null,
            "flex": null,
            "flex_flow": null,
            "grid_area": null,
            "grid_auto_columns": null,
            "grid_auto_flow": null,
            "grid_auto_rows": null,
            "grid_column": null,
            "grid_gap": null,
            "grid_row": null,
            "grid_template_areas": null,
            "grid_template_columns": null,
            "grid_template_rows": null,
            "height": null,
            "justify_content": null,
            "justify_items": null,
            "left": null,
            "margin": null,
            "max_height": null,
            "max_width": null,
            "min_height": null,
            "min_width": null,
            "object_fit": null,
            "object_position": null,
            "order": null,
            "overflow": null,
            "overflow_x": null,
            "overflow_y": null,
            "padding": null,
            "right": null,
            "top": null,
            "visibility": null,
            "width": null
          }
        },
        "546cc758dda84ed596b56cc85ed864f2": {
          "model_module": "@jupyter-widgets/controls",
          "model_module_version": "1.5.0",
          "model_name": "ProgressStyleModel",
          "state": {
            "_model_module": "@jupyter-widgets/controls",
            "_model_module_version": "1.5.0",
            "_model_name": "ProgressStyleModel",
            "_view_count": null,
            "_view_module": "@jupyter-widgets/base",
            "_view_module_version": "1.2.0",
            "_view_name": "StyleView",
            "bar_color": null,
            "description_width": ""
          }
        },
        "549111e1769247b09b6aeb7054ea065c": {
          "model_module": "@jupyter-widgets/controls",
          "model_module_version": "1.5.0",
          "model_name": "DescriptionStyleModel",
          "state": {
            "_model_module": "@jupyter-widgets/controls",
            "_model_module_version": "1.5.0",
            "_model_name": "DescriptionStyleModel",
            "_view_count": null,
            "_view_module": "@jupyter-widgets/base",
            "_view_module_version": "1.2.0",
            "_view_name": "StyleView",
            "description_width": ""
          }
        },
        "7167cff35f764498b4fde6fe5d112012": {
          "model_module": "@jupyter-widgets/base",
          "model_module_version": "1.2.0",
          "model_name": "LayoutModel",
          "state": {
            "_model_module": "@jupyter-widgets/base",
            "_model_module_version": "1.2.0",
            "_model_name": "LayoutModel",
            "_view_count": null,
            "_view_module": "@jupyter-widgets/base",
            "_view_module_version": "1.2.0",
            "_view_name": "LayoutView",
            "align_content": null,
            "align_items": null,
            "align_self": null,
            "border": null,
            "bottom": null,
            "display": null,
            "flex": null,
            "flex_flow": null,
            "grid_area": null,
            "grid_auto_columns": null,
            "grid_auto_flow": null,
            "grid_auto_rows": null,
            "grid_column": null,
            "grid_gap": null,
            "grid_row": null,
            "grid_template_areas": null,
            "grid_template_columns": null,
            "grid_template_rows": null,
            "height": null,
            "justify_content": null,
            "justify_items": null,
            "left": null,
            "margin": null,
            "max_height": null,
            "max_width": null,
            "min_height": null,
            "min_width": null,
            "object_fit": null,
            "object_position": null,
            "order": null,
            "overflow": null,
            "overflow_x": null,
            "overflow_y": null,
            "padding": null,
            "right": null,
            "top": null,
            "visibility": null,
            "width": null
          }
        },
        "7a753fcf05ba4de7b9058430e78de8e2": {
          "model_module": "@jupyter-widgets/controls",
          "model_module_version": "1.5.0",
          "model_name": "FloatProgressModel",
          "state": {
            "_dom_classes": [],
            "_model_module": "@jupyter-widgets/controls",
            "_model_module_version": "1.5.0",
            "_model_name": "FloatProgressModel",
            "_view_count": null,
            "_view_module": "@jupyter-widgets/controls",
            "_view_module_version": "1.5.0",
            "_view_name": "ProgressView",
            "bar_style": "success",
            "description": "",
            "description_tooltip": null,
            "layout": "IPY_MODEL_7167cff35f764498b4fde6fe5d112012",
            "max": 1458,
            "min": 0,
            "orientation": "horizontal",
            "style": "IPY_MODEL_9b00116c28cb40e893073aea352e45b9",
            "value": 1458
          }
        },
        "7ed53007a5cb4f1f817d396b7e947843": {
          "model_module": "@jupyter-widgets/base",
          "model_module_version": "1.2.0",
          "model_name": "LayoutModel",
          "state": {
            "_model_module": "@jupyter-widgets/base",
            "_model_module_version": "1.2.0",
            "_model_name": "LayoutModel",
            "_view_count": null,
            "_view_module": "@jupyter-widgets/base",
            "_view_module_version": "1.2.0",
            "_view_name": "LayoutView",
            "align_content": null,
            "align_items": null,
            "align_self": null,
            "border": null,
            "bottom": null,
            "display": null,
            "flex": null,
            "flex_flow": null,
            "grid_area": null,
            "grid_auto_columns": null,
            "grid_auto_flow": null,
            "grid_auto_rows": null,
            "grid_column": null,
            "grid_gap": null,
            "grid_row": null,
            "grid_template_areas": null,
            "grid_template_columns": null,
            "grid_template_rows": null,
            "height": null,
            "justify_content": null,
            "justify_items": null,
            "left": null,
            "margin": null,
            "max_height": null,
            "max_width": null,
            "min_height": null,
            "min_width": null,
            "object_fit": null,
            "object_position": null,
            "order": null,
            "overflow": null,
            "overflow_x": null,
            "overflow_y": null,
            "padding": null,
            "right": null,
            "top": null,
            "visibility": null,
            "width": null
          }
        },
        "7f01ad81f88f45ddb76423f1c0b900bb": {
          "model_module": "@jupyter-widgets/controls",
          "model_module_version": "1.5.0",
          "model_name": "DescriptionStyleModel",
          "state": {
            "_model_module": "@jupyter-widgets/controls",
            "_model_module_version": "1.5.0",
            "_model_name": "DescriptionStyleModel",
            "_view_count": null,
            "_view_module": "@jupyter-widgets/base",
            "_view_module_version": "1.2.0",
            "_view_name": "StyleView",
            "description_width": ""
          }
        },
        "86f383645ce8434a800c4830cd5e5acf": {
          "model_module": "@jupyter-widgets/controls",
          "model_module_version": "1.5.0",
          "model_name": "DescriptionStyleModel",
          "state": {
            "_model_module": "@jupyter-widgets/controls",
            "_model_module_version": "1.5.0",
            "_model_name": "DescriptionStyleModel",
            "_view_count": null,
            "_view_module": "@jupyter-widgets/base",
            "_view_module_version": "1.2.0",
            "_view_name": "StyleView",
            "description_width": ""
          }
        },
        "88bd88de0a2d4387af1f6ebb7a2ffabe": {
          "model_module": "@jupyter-widgets/controls",
          "model_module_version": "1.5.0",
          "model_name": "HTMLModel",
          "state": {
            "_dom_classes": [],
            "_model_module": "@jupyter-widgets/controls",
            "_model_module_version": "1.5.0",
            "_model_name": "HTMLModel",
            "_view_count": null,
            "_view_module": "@jupyter-widgets/controls",
            "_view_module_version": "1.5.0",
            "_view_name": "HTMLView",
            "description": "",
            "description_tooltip": null,
            "layout": "IPY_MODEL_275377b0efaa4f30a2dccadfd058581f",
            "placeholder": "​",
            "style": "IPY_MODEL_96c8586fb3324b9db47994db4c523e3e",
            "value": "100%"
          }
        },
        "8f617c21a609401a9d2a11e3a1191518": {
          "model_module": "@jupyter-widgets/controls",
          "model_module_version": "1.5.0",
          "model_name": "HTMLModel",
          "state": {
            "_dom_classes": [],
            "_model_module": "@jupyter-widgets/controls",
            "_model_module_version": "1.5.0",
            "_model_name": "HTMLModel",
            "_view_count": null,
            "_view_module": "@jupyter-widgets/controls",
            "_view_module_version": "1.5.0",
            "_view_name": "HTMLView",
            "description": "",
            "description_tooltip": null,
            "layout": "IPY_MODEL_1b56483d6c9e4a63810b470219860bb3",
            "placeholder": "​",
            "style": "IPY_MODEL_7f01ad81f88f45ddb76423f1c0b900bb",
            "value": " 1458/1458 [23:49&lt;00:00,  1.03it/s]"
          }
        },
        "92a44bdddf584e20a490269ffcaf3933": {
          "model_module": "@jupyter-widgets/controls",
          "model_module_version": "1.5.0",
          "model_name": "HTMLModel",
          "state": {
            "_dom_classes": [],
            "_model_module": "@jupyter-widgets/controls",
            "_model_module_version": "1.5.0",
            "_model_name": "HTMLModel",
            "_view_count": null,
            "_view_module": "@jupyter-widgets/controls",
            "_view_module_version": "1.5.0",
            "_view_name": "HTMLView",
            "description": "",
            "description_tooltip": null,
            "layout": "IPY_MODEL_249792924ee9419c90a6ed7e12fa5261",
            "placeholder": "​",
            "style": "IPY_MODEL_86f383645ce8434a800c4830cd5e5acf",
            "value": "100%"
          }
        },
        "96c8586fb3324b9db47994db4c523e3e": {
          "model_module": "@jupyter-widgets/controls",
          "model_module_version": "1.5.0",
          "model_name": "DescriptionStyleModel",
          "state": {
            "_model_module": "@jupyter-widgets/controls",
            "_model_module_version": "1.5.0",
            "_model_name": "DescriptionStyleModel",
            "_view_count": null,
            "_view_module": "@jupyter-widgets/base",
            "_view_module_version": "1.2.0",
            "_view_name": "StyleView",
            "description_width": ""
          }
        },
        "9b00116c28cb40e893073aea352e45b9": {
          "model_module": "@jupyter-widgets/controls",
          "model_module_version": "1.5.0",
          "model_name": "ProgressStyleModel",
          "state": {
            "_model_module": "@jupyter-widgets/controls",
            "_model_module_version": "1.5.0",
            "_model_name": "ProgressStyleModel",
            "_view_count": null,
            "_view_module": "@jupyter-widgets/base",
            "_view_module_version": "1.2.0",
            "_view_name": "StyleView",
            "bar_color": null,
            "description_width": ""
          }
        },
        "aa63fbaeda884bb487734327cdb36c69": {
          "model_module": "@jupyter-widgets/controls",
          "model_module_version": "1.5.0",
          "model_name": "HTMLModel",
          "state": {
            "_dom_classes": [],
            "_model_module": "@jupyter-widgets/controls",
            "_model_module_version": "1.5.0",
            "_model_name": "HTMLModel",
            "_view_count": null,
            "_view_module": "@jupyter-widgets/controls",
            "_view_module_version": "1.5.0",
            "_view_name": "HTMLView",
            "description": "",
            "description_tooltip": null,
            "layout": "IPY_MODEL_151250d5876e4db59ae5e0b2578c8e9a",
            "placeholder": "​",
            "style": "IPY_MODEL_2c742c241dad430481c791cb5788b1e5",
            "value": "100%"
          }
        },
        "acc7442a48d9401c8bf356322a6ed443": {
          "model_module": "@jupyter-widgets/base",
          "model_module_version": "1.2.0",
          "model_name": "LayoutModel",
          "state": {
            "_model_module": "@jupyter-widgets/base",
            "_model_module_version": "1.2.0",
            "_model_name": "LayoutModel",
            "_view_count": null,
            "_view_module": "@jupyter-widgets/base",
            "_view_module_version": "1.2.0",
            "_view_name": "LayoutView",
            "align_content": null,
            "align_items": null,
            "align_self": null,
            "border": null,
            "bottom": null,
            "display": null,
            "flex": null,
            "flex_flow": null,
            "grid_area": null,
            "grid_auto_columns": null,
            "grid_auto_flow": null,
            "grid_auto_rows": null,
            "grid_column": null,
            "grid_gap": null,
            "grid_row": null,
            "grid_template_areas": null,
            "grid_template_columns": null,
            "grid_template_rows": null,
            "height": null,
            "justify_content": null,
            "justify_items": null,
            "left": null,
            "margin": null,
            "max_height": null,
            "max_width": null,
            "min_height": null,
            "min_width": null,
            "object_fit": null,
            "object_position": null,
            "order": null,
            "overflow": null,
            "overflow_x": null,
            "overflow_y": null,
            "padding": null,
            "right": null,
            "top": null,
            "visibility": null,
            "width": null
          }
        },
        "bb345a2e1f9d45b4b32fe790f102e18d": {
          "model_module": "@jupyter-widgets/base",
          "model_module_version": "1.2.0",
          "model_name": "LayoutModel",
          "state": {
            "_model_module": "@jupyter-widgets/base",
            "_model_module_version": "1.2.0",
            "_model_name": "LayoutModel",
            "_view_count": null,
            "_view_module": "@jupyter-widgets/base",
            "_view_module_version": "1.2.0",
            "_view_name": "LayoutView",
            "align_content": null,
            "align_items": null,
            "align_self": null,
            "border": null,
            "bottom": null,
            "display": null,
            "flex": null,
            "flex_flow": null,
            "grid_area": null,
            "grid_auto_columns": null,
            "grid_auto_flow": null,
            "grid_auto_rows": null,
            "grid_column": null,
            "grid_gap": null,
            "grid_row": null,
            "grid_template_areas": null,
            "grid_template_columns": null,
            "grid_template_rows": null,
            "height": null,
            "justify_content": null,
            "justify_items": null,
            "left": null,
            "margin": null,
            "max_height": null,
            "max_width": null,
            "min_height": null,
            "min_width": null,
            "object_fit": null,
            "object_position": null,
            "order": null,
            "overflow": null,
            "overflow_x": null,
            "overflow_y": null,
            "padding": null,
            "right": null,
            "top": null,
            "visibility": null,
            "width": null
          }
        },
        "d65f7c06d51d46d9a819274cb19c0e39": {
          "model_module": "@jupyter-widgets/base",
          "model_module_version": "1.2.0",
          "model_name": "LayoutModel",
          "state": {
            "_model_module": "@jupyter-widgets/base",
            "_model_module_version": "1.2.0",
            "_model_name": "LayoutModel",
            "_view_count": null,
            "_view_module": "@jupyter-widgets/base",
            "_view_module_version": "1.2.0",
            "_view_name": "LayoutView",
            "align_content": null,
            "align_items": null,
            "align_self": null,
            "border": null,
            "bottom": null,
            "display": null,
            "flex": null,
            "flex_flow": null,
            "grid_area": null,
            "grid_auto_columns": null,
            "grid_auto_flow": null,
            "grid_auto_rows": null,
            "grid_column": null,
            "grid_gap": null,
            "grid_row": null,
            "grid_template_areas": null,
            "grid_template_columns": null,
            "grid_template_rows": null,
            "height": null,
            "justify_content": null,
            "justify_items": null,
            "left": null,
            "margin": null,
            "max_height": null,
            "max_width": null,
            "min_height": null,
            "min_width": null,
            "object_fit": null,
            "object_position": null,
            "order": null,
            "overflow": null,
            "overflow_x": null,
            "overflow_y": null,
            "padding": null,
            "right": null,
            "top": null,
            "visibility": null,
            "width": null
          }
        },
        "de7002b78e224f8ca53fc194f9159318": {
          "model_module": "@jupyter-widgets/controls",
          "model_module_version": "1.5.0",
          "model_name": "FloatProgressModel",
          "state": {
            "_dom_classes": [],
            "_model_module": "@jupyter-widgets/controls",
            "_model_module_version": "1.5.0",
            "_model_name": "FloatProgressModel",
            "_view_count": null,
            "_view_module": "@jupyter-widgets/controls",
            "_view_module_version": "1.5.0",
            "_view_name": "ProgressView",
            "bar_style": "success",
            "description": "",
            "description_tooltip": null,
            "layout": "IPY_MODEL_acc7442a48d9401c8bf356322a6ed443",
            "max": 1458,
            "min": 0,
            "orientation": "horizontal",
            "style": "IPY_MODEL_f38e4576fedb4a7b81dd2264cf283685",
            "value": 1458
          }
        },
        "e5e7f0325cb64ef2ada5fa828eaf578e": {
          "model_module": "@jupyter-widgets/base",
          "model_module_version": "1.2.0",
          "model_name": "LayoutModel",
          "state": {
            "_model_module": "@jupyter-widgets/base",
            "_model_module_version": "1.2.0",
            "_model_name": "LayoutModel",
            "_view_count": null,
            "_view_module": "@jupyter-widgets/base",
            "_view_module_version": "1.2.0",
            "_view_name": "LayoutView",
            "align_content": null,
            "align_items": null,
            "align_self": null,
            "border": null,
            "bottom": null,
            "display": null,
            "flex": null,
            "flex_flow": null,
            "grid_area": null,
            "grid_auto_columns": null,
            "grid_auto_flow": null,
            "grid_auto_rows": null,
            "grid_column": null,
            "grid_gap": null,
            "grid_row": null,
            "grid_template_areas": null,
            "grid_template_columns": null,
            "grid_template_rows": null,
            "height": null,
            "justify_content": null,
            "justify_items": null,
            "left": null,
            "margin": null,
            "max_height": null,
            "max_width": null,
            "min_height": null,
            "min_width": null,
            "object_fit": null,
            "object_position": null,
            "order": null,
            "overflow": null,
            "overflow_x": null,
            "overflow_y": null,
            "padding": null,
            "right": null,
            "top": null,
            "visibility": null,
            "width": null
          }
        },
        "eaa7e1a5c9594bb48f1578643fd59577": {
          "model_module": "@jupyter-widgets/controls",
          "model_module_version": "1.5.0",
          "model_name": "HBoxModel",
          "state": {
            "_dom_classes": [],
            "_model_module": "@jupyter-widgets/controls",
            "_model_module_version": "1.5.0",
            "_model_name": "HBoxModel",
            "_view_count": null,
            "_view_module": "@jupyter-widgets/controls",
            "_view_module_version": "1.5.0",
            "_view_name": "HBoxView",
            "box_style": "",
            "children": [
              "IPY_MODEL_aa63fbaeda884bb487734327cdb36c69",
              "IPY_MODEL_16b6d00308df4eaf9e58e1575cba5688",
              "IPY_MODEL_8f617c21a609401a9d2a11e3a1191518"
            ],
            "layout": "IPY_MODEL_bb345a2e1f9d45b4b32fe790f102e18d"
          }
        },
        "f38e4576fedb4a7b81dd2264cf283685": {
          "model_module": "@jupyter-widgets/controls",
          "model_module_version": "1.5.0",
          "model_name": "ProgressStyleModel",
          "state": {
            "_model_module": "@jupyter-widgets/controls",
            "_model_module_version": "1.5.0",
            "_model_name": "ProgressStyleModel",
            "_view_count": null,
            "_view_module": "@jupyter-widgets/base",
            "_view_module_version": "1.2.0",
            "_view_name": "StyleView",
            "bar_color": null,
            "description_width": ""
          }
        },
        "f3dc3f4ef04f49c68626707d47339899": {
          "model_module": "@jupyter-widgets/base",
          "model_module_version": "1.2.0",
          "model_name": "LayoutModel",
          "state": {
            "_model_module": "@jupyter-widgets/base",
            "_model_module_version": "1.2.0",
            "_model_name": "LayoutModel",
            "_view_count": null,
            "_view_module": "@jupyter-widgets/base",
            "_view_module_version": "1.2.0",
            "_view_name": "LayoutView",
            "align_content": null,
            "align_items": null,
            "align_self": null,
            "border": null,
            "bottom": null,
            "display": null,
            "flex": null,
            "flex_flow": null,
            "grid_area": null,
            "grid_auto_columns": null,
            "grid_auto_flow": null,
            "grid_auto_rows": null,
            "grid_column": null,
            "grid_gap": null,
            "grid_row": null,
            "grid_template_areas": null,
            "grid_template_columns": null,
            "grid_template_rows": null,
            "height": null,
            "justify_content": null,
            "justify_items": null,
            "left": null,
            "margin": null,
            "max_height": null,
            "max_width": null,
            "min_height": null,
            "min_width": null,
            "object_fit": null,
            "object_position": null,
            "order": null,
            "overflow": null,
            "overflow_x": null,
            "overflow_y": null,
            "padding": null,
            "right": null,
            "top": null,
            "visibility": null,
            "width": null
          }
        },
        "f5bacd7263264782b8c64d201b70858a": {
          "model_module": "@jupyter-widgets/controls",
          "model_module_version": "1.5.0",
          "model_name": "HBoxModel",
          "state": {
            "_dom_classes": [],
            "_model_module": "@jupyter-widgets/controls",
            "_model_module_version": "1.5.0",
            "_model_name": "HBoxModel",
            "_view_count": null,
            "_view_module": "@jupyter-widgets/controls",
            "_view_module_version": "1.5.0",
            "_view_name": "HBoxView",
            "box_style": "",
            "children": [
              "IPY_MODEL_92a44bdddf584e20a490269ffcaf3933",
              "IPY_MODEL_de7002b78e224f8ca53fc194f9159318",
              "IPY_MODEL_47e75535607b4eab99585b1438dd1515"
            ],
            "layout": "IPY_MODEL_f3dc3f4ef04f49c68626707d47339899"
          }
        },
        "fa33ccd705364be3b55e6d9235429f2e": {
          "model_module": "@jupyter-widgets/controls",
          "model_module_version": "1.5.0",
          "model_name": "HBoxModel",
          "state": {
            "_dom_classes": [],
            "_model_module": "@jupyter-widgets/controls",
            "_model_module_version": "1.5.0",
            "_model_name": "HBoxModel",
            "_view_count": null,
            "_view_module": "@jupyter-widgets/controls",
            "_view_module_version": "1.5.0",
            "_view_name": "HBoxView",
            "box_style": "",
            "children": [
              "IPY_MODEL_88bd88de0a2d4387af1f6ebb7a2ffabe",
              "IPY_MODEL_7a753fcf05ba4de7b9058430e78de8e2",
              "IPY_MODEL_46cfbb5e500d48ab9ea53d40ec6dd5ac"
            ],
            "layout": "IPY_MODEL_e5e7f0325cb64ef2ada5fa828eaf578e"
          }
        }
      }
    }
  },
  "nbformat": 4,
  "nbformat_minor": 0
}
