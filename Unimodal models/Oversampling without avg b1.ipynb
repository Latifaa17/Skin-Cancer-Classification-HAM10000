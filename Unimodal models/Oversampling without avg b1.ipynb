{
  "cells": [
    {
      "cell_type": "code",
      "execution_count": 1,
      "metadata": {
        "id": "sCTK565r6A2v"
      },
      "outputs": [],
      "source": [
        "! mkdir ~/.kaggle"
      ]
    },
    {
      "cell_type": "code",
      "execution_count": 2,
      "metadata": {
        "id": "PXa_KHa26BtM"
      },
      "outputs": [],
      "source": [
        "! cp kaggle.json ~/.kaggle/"
      ]
    },
    {
      "cell_type": "code",
      "execution_count": 3,
      "metadata": {
        "id": "LF9L5S976B0y"
      },
      "outputs": [],
      "source": [
        "! chmod 600 ~/.kaggle/kaggle.json"
      ]
    },
    {
      "cell_type": "code",
      "execution_count": 4,
      "metadata": {
        "colab": {
          "base_uri": "https://localhost:8080/"
        },
        "id": "TEMb6gf-6CW6",
        "outputId": "8c6b1954-09e9-409a-95cf-e082a1ff31c0"
      },
      "outputs": [
        {
          "name": "stdout",
          "output_type": "stream",
          "text": [
            "Downloading skin-cancer-mnist-ham10000.zip to /content\n",
            "100% 5.20G/5.20G [03:54<00:00, 25.2MB/s]\n",
            "100% 5.20G/5.20G [03:54<00:00, 23.8MB/s]\n"
          ]
        }
      ],
      "source": [
        "!kaggle datasets download kmader/skin-cancer-mnist-ham10000"
      ]
    },
    {
      "cell_type": "code",
      "execution_count": null,
      "metadata": {
        "colab": {
          "base_uri": "https://localhost:8080/"
        },
        "id": "yr3aV4-a6CY1",
        "outputId": "5c42ef8d-baa3-4079-ddc7-84bf164c194f"
      },
      "outputs": [],
      "source": [
        "!unzip skin-cancer-mnist-ham10000.zip"
      ]
    },
    {
      "cell_type": "code",
      "execution_count": null,
      "metadata": {
        "_kg_hide-output": true,
        "colab": {
          "base_uri": "https://localhost:8080/"
        },
        "execution": {
          "iopub.execute_input": "2023-05-08T14:24:57.578695Z",
          "iopub.status.busy": "2023-05-08T14:24:57.578352Z",
          "iopub.status.idle": "2023-05-08T14:25:08.075180Z",
          "shell.execute_reply": "2023-05-08T14:25:08.072194Z",
          "shell.execute_reply.started": "2023-05-08T14:24:57.578664Z"
        },
        "id": "meFwe48r5sEO",
        "outputId": "83ebc6ef-68d2-47b0-9b53-28e3dbc3c703",
        "trusted": true
      },
      "outputs": [],
      "source": [
        "!pip install efficientnet_pytorch torchtoolbox"
      ]
    },
    {
      "cell_type": "code",
      "execution_count": 7,
      "metadata": {
        "_cell_guid": "b1076dfc-b9ad-4769-8c92-a6c4dae69d19",
        "_uuid": "8f2839f25d086af736a60e9eeb907d3b93b6e0e5",
        "execution": {
          "iopub.execute_input": "2023-05-08T14:25:14.506287Z",
          "iopub.status.busy": "2023-05-08T14:25:14.505958Z",
          "iopub.status.idle": "2023-05-08T14:25:16.857447Z",
          "shell.execute_reply": "2023-05-08T14:25:16.856529Z",
          "shell.execute_reply.started": "2023-05-08T14:25:14.506256Z"
        },
        "id": "UfpIUSxC5sEQ",
        "trusted": true
      },
      "outputs": [],
      "source": [
        "import torch\n",
        "import torchvision\n",
        "from torchvision import models,transforms\n",
        "\n",
        "import torch.nn.functional as F\n",
        "import torch.nn as nn\n",
        "from torchvision import transforms\n",
        "from torch.utils.data import Dataset, DataLoader, Subset\n",
        "from torch.optim.lr_scheduler import ReduceLROnPlateau\n",
        "from sklearn.metrics import accuracy_score, roc_auc_score\n",
        "from sklearn.model_selection import StratifiedKFold, GroupKFold\n",
        "import pandas as pd\n",
        "import numpy as np\n",
        "import gc\n",
        "import os\n",
        "import cv2\n",
        "import time\n",
        "import datetime\n",
        "import warnings\n",
        "import matplotlib.pyplot as plt\n",
        "import seaborn as sns\n",
        "from efficientnet_pytorch import EfficientNet\n",
        "\n",
        "from sklearn.model_selection import train_test_split\n",
        "\n",
        "import torch.nn.functional as F\n",
        "\n",
        "%matplotlib inline"
      ]
    },
    {
      "cell_type": "code",
      "execution_count": 8,
      "metadata": {
        "execution": {
          "iopub.execute_input": "2023-05-08T14:25:16.859491Z",
          "iopub.status.busy": "2023-05-08T14:25:16.859167Z",
          "iopub.status.idle": "2023-05-08T14:25:16.867232Z",
          "shell.execute_reply": "2023-05-08T14:25:16.866306Z",
          "shell.execute_reply.started": "2023-05-08T14:25:16.859462Z"
        },
        "id": "ghM8s-Bt5sER",
        "trusted": true
      },
      "outputs": [],
      "source": [
        "# At least fixing some random seeds. \n",
        "# It is still impossible to make results 100% reproducible when using GPU\n",
        "warnings.simplefilter('ignore')\n",
        "torch.manual_seed(47)\n",
        "np.random.seed(47)"
      ]
    },
    {
      "cell_type": "code",
      "execution_count": 9,
      "metadata": {
        "execution": {
          "iopub.execute_input": "2023-05-08T14:25:16.869669Z",
          "iopub.status.busy": "2023-05-08T14:25:16.869267Z",
          "iopub.status.idle": "2023-05-08T14:25:16.895959Z",
          "shell.execute_reply": "2023-05-08T14:25:16.894831Z",
          "shell.execute_reply.started": "2023-05-08T14:25:16.869631Z"
        },
        "id": "fy7TqjKM5sER",
        "trusted": true
      },
      "outputs": [],
      "source": [
        "device = torch.device(\"cuda\" if torch.cuda.is_available() else \"cpu\")"
      ]
    },
    {
      "cell_type": "code",
      "execution_count": 10,
      "metadata": {
        "execution": {
          "iopub.execute_input": "2023-05-08T14:25:16.898976Z",
          "iopub.status.busy": "2023-05-08T14:25:16.898156Z",
          "iopub.status.idle": "2023-05-08T14:25:16.910620Z",
          "shell.execute_reply": "2023-05-08T14:25:16.909936Z",
          "shell.execute_reply.started": "2023-05-08T14:25:16.898930Z"
        },
        "id": "FwZi4xdk5sES",
        "trusted": true
      },
      "outputs": [],
      "source": [
        "class MelanomaDataset(Dataset):\n",
        "    def __init__(self, df: pd.DataFrame, train: bool = True, transforms = None):\n",
        "        \"\"\"\n",
        "        Class initialization\n",
        "        Args:\n",
        "            df (pd.DataFrame): DataFrame with data description\n",
        "            imfolder (str): folder with images\n",
        "            train (bool): flag of whether a training dataset is being initialized or testing one\n",
        "            transforms: image transformation method to be applied\n",
        "            \n",
        "        \"\"\"\n",
        "        self.df = df\n",
        "        self.path1 = '/content/HAM10000_images_part_1'\n",
        "        self.path2 = '/content/HAM10000_images_part_2'\n",
        "        # self.path1 = '/kaggle/input/skin-cancer-mnist-ham10000/HAM10000_images_part_1'\n",
        "        # self.path2 = '/kaggle/input/skin-cancer-mnist-ham10000/HAM10000_images_part_2'\n",
        "        self.transforms = transforms\n",
        "        self.train = train\n",
        "        \n",
        "    def __getitem__(self, index):\n",
        "        \n",
        "        image_path = os.path.join(self.path1, self.df.iloc[index]['image_id'] + '.jpg')\n",
        "        if os.path.exists(image_path):\n",
        "            image = cv2.imread(image_path)\n",
        "        else:\n",
        "            # If the image is not in part 1, try to load it from part 2\n",
        "            image_path = os.path.join(self.path2, self.df.iloc[index]['image_id'] + '.jpg')\n",
        "            if os.path.exists(image_path):\n",
        "                image = cv2.imread(image_path)\n",
        "\n",
        "        if self.transforms:\n",
        "            x = self.transforms(image)\n",
        "            \n",
        "        if self.train:\n",
        "            y = self.df.loc[index]['target']\n",
        "            return x, y\n",
        "        else:\n",
        "            return x\n",
        "    \n",
        "    def __len__(self):\n",
        "        return len(self.df)\n",
        "    \n",
        "    def _get_label(self, dataset, idx):\n",
        "        return self.df.iloc[idx]['target']\n",
        "    \n",
        "    \n"
      ]
    },
    {
      "cell_type": "code",
      "execution_count": 11,
      "metadata": {
        "execution": {
          "iopub.execute_input": "2023-05-08T14:25:20.534637Z",
          "iopub.status.busy": "2023-05-08T14:25:20.534300Z",
          "iopub.status.idle": "2023-05-08T14:25:20.541012Z",
          "shell.execute_reply": "2023-05-08T14:25:20.539934Z",
          "shell.execute_reply.started": "2023-05-08T14:25:20.534604Z"
        },
        "id": "rOkvaqlo5sET",
        "trusted": true
      },
      "outputs": [],
      "source": [
        "train_transform = transforms.Compose([\n",
        "    transforms.ToPILImage(),\n",
        "    #transforms.RandomResizedCrop(size=240, scale=(0.8, 1.0)),\n",
        "    transforms.RandomHorizontalFlip(),\n",
        "    transforms.RandomVerticalFlip(),\n",
        "    transforms.ToTensor(),\n",
        "    transforms.Normalize(mean=[0.485, 0.456, 0.406],std=[0.229, 0.224, 0.225])\n",
        "])\n",
        "test_transform = transforms.Compose([\n",
        "    transforms.ToTensor(),\n",
        "    transforms.Normalize(mean=[0.485, 0.456, 0.406],std=[0.229, 0.224, 0.225])\n",
        "])\n"
      ]
    },
    {
      "cell_type": "code",
      "execution_count": 22,
      "metadata": {
        "colab": {
          "base_uri": "https://localhost:8080/"
        },
        "execution": {
          "iopub.execute_input": "2023-05-08T14:25:36.402818Z",
          "iopub.status.busy": "2023-05-08T14:25:36.402495Z",
          "iopub.status.idle": "2023-05-08T14:25:43.073061Z",
          "shell.execute_reply": "2023-05-08T14:25:43.072067Z",
          "shell.execute_reply.started": "2023-05-08T14:25:36.402788Z"
        },
        "id": "jx7SotwS5sET",
        "outputId": "5ecf40e4-6f77-456d-ea2e-9ebe522e0395",
        "trusted": true
      },
      "outputs": [
        {
          "name": "stdout",
          "output_type": "stream",
          "text": [
            "6009\n",
            "2003\n",
            "2003\n"
          ]
        }
      ],
      "source": [
        "df = pd.read_csv('/content/HAM10000_metadata.csv')\n",
        "# df = pd.read_csv('/content/metadata_ABCD.csv')\n",
        "\n",
        "\n",
        "# this will tell us how many images are associated with each lesion_id\n",
        "df_undup = df.groupby('lesion_id').count()\n",
        "# now we filter out lesion_id's that have only one image associated with it\n",
        "df_undup = df_undup[df_undup['image_id'] == 1]\n",
        "df_undup.reset_index(inplace=True)\n",
        "\n",
        "def get_duplicates(x):\n",
        "    unique_list = list(df_undup['lesion_id'])\n",
        "    if x in unique_list:\n",
        "        return 'unduplicated'\n",
        "    else:\n",
        "        return 'duplicated'\n",
        "\n",
        "# create a new colum that is a copy of the lesion_id column\n",
        "df['duplicates'] = df['lesion_id']\n",
        "# apply the function to this new column\n",
        "df['duplicates'] = df['duplicates'].apply(get_duplicates)\n",
        "\n",
        "df_undup  = df[df['duplicates'] == 'unduplicated']\n",
        "\n",
        "#now we create a test set using df_undup because we are sure that none of these images have augmented duplicates in the train set\n",
        "y = df_undup['dx']\n",
        "_, test_df_csv = train_test_split(df_undup, test_size=0.7265, random_state=101, stratify=y)\n",
        "test_df_csv.shape\n",
        "\n",
        "# This set will be df_original excluding all rows that are in the test set\n",
        "# This function identifies if an image is part of the train or test set.\n",
        "def get_test_rows(x):\n",
        "    # create a list of all the lesion_id's in the val test\n",
        "    test_list = list(test_df_csv['image_id'])\n",
        "    if str(x) in test_list:\n",
        "        return 'test'\n",
        "    else:\n",
        "        return 'train'\n",
        "\n",
        "# identify train and test rows\n",
        "# create a new colum that is a copy of the image_id column\n",
        "df['train_or_test'] = df['image_id']\n",
        "# apply the function to this new column\n",
        "df['train_or_test'] = df['train_or_test'].apply(get_test_rows)\n",
        "# filter out train rows\n",
        "train_df_csv = df[df['train_or_test'] == 'train']\n",
        "\n",
        "# Split the test into 50% test and 50% validation\n",
        "test_df, val_df = train_test_split(test_df_csv, test_size=0.5, random_state=101, stratify=test_df_csv['dx'])\n",
        "\n",
        "train_df = train_df_csv\n",
        "print(len(train_df))\n",
        "print(len(val_df))\n",
        "print(len(test_df))"
      ]
    },
    {
      "cell_type": "code",
      "execution_count": 23,
      "metadata": {
        "colab": {
          "base_uri": "https://localhost:8080/"
        },
        "execution": {
          "iopub.execute_input": "2023-05-08T14:25:43.075537Z",
          "iopub.status.busy": "2023-05-08T14:25:43.074957Z",
          "iopub.status.idle": "2023-05-08T14:25:43.086976Z",
          "shell.execute_reply": "2023-05-08T14:25:43.085938Z",
          "shell.execute_reply.started": "2023-05-08T14:25:43.075493Z"
        },
        "id": "Ol2j5aQg5sEU",
        "outputId": "99424085-ab5c-401d-9a9b-4118a17f92d8",
        "trusted": true
      },
      "outputs": [
        {
          "data": {
            "text/plain": [
              "nv       3497\n",
              "mel       946\n",
              "bkl       779\n",
              "bcc       387\n",
              "akiec     217\n",
              "vasc       96\n",
              "df         87\n",
              "Name: dx, dtype: int64"
            ]
          },
          "execution_count": 23,
          "metadata": {},
          "output_type": "execute_result"
        }
      ],
      "source": [
        "train_df.dx.value_counts()"
      ]
    },
    {
      "cell_type": "code",
      "execution_count": 24,
      "metadata": {
        "execution": {
          "iopub.execute_input": "2023-05-08T14:25:43.089582Z",
          "iopub.status.busy": "2023-05-08T14:25:43.089211Z",
          "iopub.status.idle": "2023-05-08T14:25:43.099538Z",
          "shell.execute_reply": "2023-05-08T14:25:43.098329Z",
          "shell.execute_reply.started": "2023-05-08T14:25:43.089541Z"
        },
        "id": "Uu_0NYKr5sEV",
        "trusted": true
      },
      "outputs": [],
      "source": [
        "from sklearn.preprocessing import LabelEncoder\n",
        "le = LabelEncoder()\n",
        "train_df['target'] = le.fit_transform(train_df['dx'])\n",
        "val_df['target'] = le.fit_transform(val_df['dx'])\n",
        "test_df['target'] = le.fit_transform(test_df['dx'])"
      ]
    },
    {
      "cell_type": "code",
      "execution_count": 25,
      "metadata": {
        "colab": {
          "base_uri": "https://localhost:8080/"
        },
        "execution": {
          "iopub.execute_input": "2023-05-08T14:25:43.101651Z",
          "iopub.status.busy": "2023-05-08T14:25:43.101254Z",
          "iopub.status.idle": "2023-05-08T14:25:43.114118Z",
          "shell.execute_reply": "2023-05-08T14:25:43.113055Z",
          "shell.execute_reply.started": "2023-05-08T14:25:43.101611Z"
        },
        "id": "IC4BPcGG5sEV",
        "outputId": "6a633a0f-b4be-4d88-f6f6-9e39644dca0c",
        "trusted": true
      },
      "outputs": [
        {
          "data": {
            "text/plain": [
              "5    3497\n",
              "4     946\n",
              "2     779\n",
              "1     387\n",
              "0     217\n",
              "6      96\n",
              "3      87\n",
              "Name: target, dtype: int64"
            ]
          },
          "execution_count": 25,
          "metadata": {},
          "output_type": "execute_result"
        }
      ],
      "source": [
        "train_df.target.value_counts()"
      ]
    },
    {
      "cell_type": "code",
      "execution_count": 26,
      "metadata": {
        "colab": {
          "base_uri": "https://localhost:8080/"
        },
        "id": "05l4y2VP8Y9q",
        "outputId": "6e73e73d-36c0-4569-9556-34c23fc97267"
      },
      "outputs": [
        {
          "name": "stdout",
          "output_type": "stream",
          "text": [
            "5    3497\n",
            "1    3483\n",
            "3    3480\n",
            "0    3472\n",
            "6    3456\n",
            "2    3116\n",
            "4    2838\n",
            "Name: target, dtype: int64\n"
          ]
        }
      ],
      "source": [
        "from collections import Counter\n",
        "from sklearn.utils import resample\n",
        "\n",
        "# Count the number of samples for each class\n",
        "class_counts = Counter(train_df['target'])\n",
        "\n",
        "# Get the size of the majority class\n",
        "majority_class_size = max(class_counts.values())\n",
        "\n",
        "# Oversample minority classes to match the size of the majority class\n",
        "for class_label, class_size in class_counts.items():\n",
        "    if class_label != train_df['target'].mode()[0]:\n",
        "        # Determine the number of times to resample the class\n",
        "        resample_rate = int(majority_class_size / class_size)\n",
        "        \n",
        "        X_subset = train_df[train_df['target'] == class_label].drop(['target'], axis=1)\n",
        "        y_subset = train_df[train_df['target'] == class_label]['target']\n",
        "        \n",
        "        # Resample the class with replacement\n",
        "        X_subset_resampled, y_subset_resampled = resample(X_subset, y_subset, \n",
        "                                                          replace=True, n_samples=(resample_rate-1)*class_size, \n",
        "                                                          random_state=42)\n",
        "        \n",
        "        # Concatenate the resampled data with the original data\n",
        "        train_df = pd.concat([train_df, pd.concat([X_subset_resampled, y_subset_resampled], axis=1)])\n",
        "\n",
        "# Verify that all classes have the same number of samples\n",
        "print(train_df['target'].value_counts())\n"
      ]
    },
    {
      "cell_type": "code",
      "execution_count": 27,
      "metadata": {
        "execution": {
          "iopub.execute_input": "2023-05-08T14:25:43.131661Z",
          "iopub.status.busy": "2023-05-08T14:25:43.131310Z",
          "iopub.status.idle": "2023-05-08T14:25:43.146690Z",
          "shell.execute_reply": "2023-05-08T14:25:43.146067Z",
          "shell.execute_reply.started": "2023-05-08T14:25:43.131623Z"
        },
        "id": "JK9sia3P5sEW",
        "trusted": true
      },
      "outputs": [],
      "source": [
        "train_df['sex'] = train_df['sex'].map({'male': 1, 'female': 0})\n",
        "val_df['sex'] = val_df['sex'].map({'male': 1, 'female': 0})\n",
        "test_df['sex'] = test_df['sex'].map({'male': 1, 'female': 0})\n",
        "\n",
        "train_df['sex'] = train_df['sex'].fillna(-1)\n",
        "val_df['sex'] = val_df['sex'].fillna(-1)\n",
        "test_df['sex'] = test_df['sex'].fillna(-1)\n"
      ]
    },
    {
      "cell_type": "code",
      "execution_count": 28,
      "metadata": {
        "execution": {
          "iopub.execute_input": "2023-05-08T14:25:43.149658Z",
          "iopub.status.busy": "2023-05-08T14:25:43.149387Z",
          "iopub.status.idle": "2023-05-08T14:25:43.172726Z",
          "shell.execute_reply": "2023-05-08T14:25:43.171915Z",
          "shell.execute_reply.started": "2023-05-08T14:25:43.149632Z"
        },
        "id": "DxptncWe5sEX",
        "trusted": true
      },
      "outputs": [],
      "source": [
        "train_df = pd.get_dummies(train_df, columns=['localization'],prefix='site')\n",
        "val_df = pd.get_dummies(val_df, columns=['localization'],prefix='site')\n",
        "\n",
        "test_df = pd.get_dummies(test_df, columns=['localization'],prefix='site')\n",
        "\n",
        "# adding missing cols to val and test sets\n",
        "val_df = val_df.reindex(columns=train_df.columns, fill_value=0)\n",
        "test_df = test_df.reindex(columns=train_df.columns, fill_value=0)"
      ]
    },
    {
      "cell_type": "code",
      "execution_count": 29,
      "metadata": {
        "execution": {
          "iopub.execute_input": "2023-05-08T14:25:43.351813Z",
          "iopub.status.busy": "2023-05-08T14:25:43.351499Z",
          "iopub.status.idle": "2023-05-08T14:25:43.356473Z",
          "shell.execute_reply": "2023-05-08T14:25:43.355260Z",
          "shell.execute_reply.started": "2023-05-08T14:25:43.351783Z"
        },
        "id": "mFaOHnUZ5sEX",
        "trusted": true
      },
      "outputs": [],
      "source": [
        "test = MelanomaDataset(df=test_df,\n",
        "                       train=False,\n",
        "                       transforms=test_transform)"
      ]
    },
    {
      "cell_type": "code",
      "execution_count": 30,
      "metadata": {
        "execution": {
          "iopub.execute_input": "2023-05-08T15:35:29.350372Z",
          "iopub.status.busy": "2023-05-08T15:35:29.350006Z",
          "iopub.status.idle": "2023-05-08T15:35:29.358555Z",
          "shell.execute_reply": "2023-05-08T15:35:29.357559Z",
          "shell.execute_reply.started": "2023-05-08T15:35:29.350340Z"
        },
        "id": "zYSNkJCR5sEX",
        "trusted": true
      },
      "outputs": [],
      "source": [
        "    \n",
        "class Net(nn.Module):\n",
        "    def __init__(self,b1 = False, b4 = False):\n",
        "        super(Net, self).__init__()\n",
        "        self.b1 = b1\n",
        "        self.b4 = b4\n",
        "        if self.b1:\n",
        "            self.arch = EfficientNet.from_pretrained('efficientnet-b1')\n",
        "            self.arch._fc = nn.Linear(in_features=1280, out_features=7, bias=True)\n",
        "            \n",
        "        elif self.b4:\n",
        "            self.arch = EfficientNet.from_pretrained('efficientnet-b4')\n",
        "            self.arch._fc = nn.Linear(in_features=1792, out_features=7, bias=True)\n",
        "\n",
        "        \n",
        "    def forward(self, x):\n",
        "        x = self.arch(x)\n",
        "        return x"
      ]
    },
    {
      "cell_type": "code",
      "execution_count": 31,
      "metadata": {
        "execution": {
          "iopub.execute_input": "2023-05-08T14:25:45.264627Z",
          "iopub.status.busy": "2023-05-08T14:25:45.264290Z",
          "iopub.status.idle": "2023-05-08T14:25:45.273584Z",
          "shell.execute_reply": "2023-05-08T14:25:45.272700Z",
          "shell.execute_reply.started": "2023-05-08T14:25:45.264595Z"
        },
        "id": "2jjM0jkw5sEY",
        "trusted": true
      },
      "outputs": [],
      "source": [
        "# class Net(nn.Module):\n",
        "#     def __init__(self,b1 = False, b4 = False):\n",
        "#         super(Net, self).__init__()\n",
        "#         self.b1 = b1\n",
        "#         self.b4 = b4\n",
        "        \n",
        "#         if self.b1:\n",
        "#             self.features = EfficientNet.from_pretrained('efficientnet-b1')\n",
        "#             self.classification = nn.Sequential(nn.Linear(1280, 7))  \n",
        "#         elif self.b4:\n",
        "#             self.features = EfficientNet.from_pretrained('efficientnet-b4')\n",
        "#             self.classification = nn.Sequential(nn.Linear(1792, 7))  \n",
        "\n",
        "        \n",
        "#     def forward(self, x):\n",
        "#         x = self.features.extract_features(x)\n",
        "        \n",
        "#         if self.b1:\n",
        "#             x = F.avg_pool2d(x, x.size()[2:]).reshape(-1, 1280)\n",
        "#         elif self.b4:\n",
        "#             x = F.avg_pool2d(x, x.size()[2:]).reshape(-1, 1792)       \n",
        "        \n",
        "#         out = self.classification(x)\n",
        "#         return out"
      ]
    },
    {
      "cell_type": "code",
      "execution_count": 32,
      "metadata": {
        "execution": {
          "iopub.execute_input": "2023-05-08T14:25:46.504582Z",
          "iopub.status.busy": "2023-05-08T14:25:46.504255Z",
          "iopub.status.idle": "2023-05-08T14:25:46.511941Z",
          "shell.execute_reply": "2023-05-08T14:25:46.511187Z",
          "shell.execute_reply.started": "2023-05-08T14:25:46.504549Z"
        },
        "id": "6hdj48XT5sEY",
        "trusted": true
      },
      "outputs": [],
      "source": [
        "epochs = 3  # Number of epochs to run\n",
        "model_path = 'model.pth'  # Path and filename to save model to\n",
        "es_patience = 3  # Early Stopping patience - for how many epochs with no improvements to wait\n",
        "TTA = 3 # Test Time Augmentation \n",
        "\n",
        "oof = np.zeros((len(train_df), 7))  # Out Of Fold predictions\n"
      ]
    },
    {
      "cell_type": "code",
      "execution_count": 33,
      "metadata": {
        "execution": {
          "iopub.execute_input": "2023-05-08T14:25:47.131277Z",
          "iopub.status.busy": "2023-05-08T14:25:47.130945Z",
          "iopub.status.idle": "2023-05-08T14:25:47.135933Z",
          "shell.execute_reply": "2023-05-08T14:25:47.134790Z",
          "shell.execute_reply.started": "2023-05-08T14:25:47.131246Z"
        },
        "id": "2GHilkKY5sEY",
        "trusted": true
      },
      "outputs": [],
      "source": [
        "from tqdm import tqdm\n",
        "import tqdm.notebook as tq\n",
        "import torch.nn.functional as F\n",
        "from sklearn.utils.class_weight import compute_class_weight"
      ]
    },
    {
      "cell_type": "code",
      "execution_count": 34,
      "metadata": {
        "execution": {
          "iopub.execute_input": "2023-05-08T14:25:47.871180Z",
          "iopub.status.busy": "2023-05-08T14:25:47.870796Z",
          "iopub.status.idle": "2023-05-08T14:25:47.883917Z",
          "shell.execute_reply": "2023-05-08T14:25:47.883078Z",
          "shell.execute_reply.started": "2023-05-08T14:25:47.871144Z"
        },
        "id": "EE70iXC65sEZ",
        "trusted": true
      },
      "outputs": [],
      "source": [
        "# Define Focal loss implementation\n",
        "class FocalLoss(nn.Module):\n",
        "    def __init__(self, gamma=2, alpha=None, reduction='mean'):\n",
        "        super(FocalLoss, self).__init__()\n",
        "        self.gamma = gamma\n",
        "        self.alpha = alpha\n",
        "        if isinstance(alpha,(float,int)): self.alpha = torch.Tensor([alpha,1-alpha])\n",
        "        if isinstance(alpha,list): self.alpha = torch.Tensor(alpha)\n",
        "        self.reduction = reduction\n",
        "\n",
        "    def forward(self, inputs, targets):\n",
        "        CE_loss = F.cross_entropy(inputs, targets, reduction=self.reduction, weight=self.alpha)\n",
        "        pt = torch.exp(-CE_loss)\n",
        "        F_loss = ((1-pt)**self.gamma) * CE_loss\n",
        "        if self.reduction == 'mean': return F_loss.mean()\n",
        "        else: return F_loss.sum()"
      ]
    },
    {
      "cell_type": "code",
      "execution_count": 35,
      "metadata": {
        "colab": {
          "base_uri": "https://localhost:8080/",
          "height": 252,
          "referenced_widgets": [
            "2e88513ef28d4d9dbf20dceb79e6609e",
            "1eea2fd6403049b8895ffda8478adc54",
            "ec974972876c4d0dbe061bba80b8d7ac",
            "1c2e0fba81914f819515e5d1f9b9e456",
            "0cbb3839d2814f6085c4eee2983ea189",
            "5edeb227230145c890a29f9e40e29e6f",
            "2a0b14e20bc64785b4505f663055167b",
            "86eabbeedb1441849fd9112523efb313",
            "b36a51e8f0c944379eeb6a1df8ee141b",
            "a709246670de4feca0f198b616a51631",
            "915bb226d9f64030869bf0f5e528b540",
            "5f39d01aaa2b4d67bce6153f946ae037",
            "0e00f05f7ca44475b56bf8292610d41c",
            "5b0a7a3d2c2a46c395106cff1eff6a37",
            "3ecfe15fd63e4a00afa9fa8228e28164",
            "77cb3c5e1e244378be68e37098169d40",
            "7d937fb696534855925cb356006ffa98",
            "a47d6c8f3ddd4ab9bb092fc4f2a45f9b",
            "3d7c317816c54f3a957ffaa79f5219c5",
            "27415f1469cf40a6b3b6c1c70400516a",
            "998e00396d9f4b44b0fd0f6511f186b9",
            "15585a3bda3e451a835137708c55f547",
            "22f34dd1779d4ad1a5b6539aa194cff4",
            "fc3a19bd04c842de852ae6fb3ff361cc",
            "6b929f3156a042258196ada658506f10",
            "2b1d9e707a8844c9b7555eee123ec9a0",
            "584ada71ef9e4609985de1553193d030",
            "8703dcc6614342abaf885bb04c54f732",
            "5d0b69e78af7464095d10b00de066db3",
            "79aaba51d3a4443fa302c9ee30e5e931",
            "f3206d5895d6497eaf3d1da259620a8a",
            "c7f3a7723440459abf0923493e07abaa",
            "c11c19bf6a6a44ccb7d04684a86edd21"
          ]
        },
        "execution": {
          "iopub.execute_input": "2023-05-08T15:35:35.154486Z",
          "iopub.status.busy": "2023-05-08T15:35:35.154130Z",
          "iopub.status.idle": "2023-05-08T16:39:17.797766Z",
          "shell.execute_reply": "2023-05-08T16:39:17.796608Z",
          "shell.execute_reply.started": "2023-05-08T15:35:35.154450Z"
        },
        "id": "07oEsQMs5sEZ",
        "outputId": "3a63a138-e361-4aae-cb5d-f9edc48ed073",
        "trusted": true
      },
      "outputs": [
        {
          "name": "stderr",
          "output_type": "stream",
          "text": [
            "Downloading: \"https://github.com/lukemelas/EfficientNet-PyTorch/releases/download/1.0/efficientnet-b1-f1951068.pth\" to /root/.cache/torch/hub/checkpoints/efficientnet-b1-f1951068.pth\n",
            "100%|██████████| 30.1M/30.1M [00:01<00:00, 16.6MB/s]\n"
          ]
        },
        {
          "name": "stdout",
          "output_type": "stream",
          "text": [
            "Loaded pretrained weights for efficientnet-b1\n"
          ]
        },
        {
          "name": "stderr",
          "output_type": "stream",
          "text": [
            "\r  0%|          | 0/3 [00:00<?, ?it/s]"
          ]
        },
        {
          "data": {
            "application/vnd.jupyter.widget-view+json": {
              "model_id": "2e88513ef28d4d9dbf20dceb79e6609e",
              "version_major": 2,
              "version_minor": 0
            },
            "text/plain": [
              "  0%|          | 0/1459 [00:00<?, ?it/s]"
            ]
          },
          "metadata": {},
          "output_type": "display_data"
        },
        {
          "name": "stderr",
          "output_type": "stream",
          "text": [
            "\r 33%|███▎      | 1/3 [23:47<47:35, 1427.54s/it]"
          ]
        },
        {
          "name": "stdout",
          "output_type": "stream",
          "text": [
            "Epoch 001: | Loss: 0.555 | Train acc: 0.808 | Val acc: 0.911 | Val roc_auc: 0.969 | Training time: 0:23:47\n"
          ]
        },
        {
          "data": {
            "application/vnd.jupyter.widget-view+json": {
              "model_id": "5f39d01aaa2b4d67bce6153f946ae037",
              "version_major": 2,
              "version_minor": 0
            },
            "text/plain": [
              "  0%|          | 0/1459 [00:00<?, ?it/s]"
            ]
          },
          "metadata": {},
          "output_type": "display_data"
        },
        {
          "name": "stderr",
          "output_type": "stream",
          "text": [
            "\r 67%|██████▋   | 2/3 [47:27<23:43, 1423.12s/it]"
          ]
        },
        {
          "name": "stdout",
          "output_type": "stream",
          "text": [
            "Epoch 002: | Loss: 0.190 | Train acc: 0.937 | Val acc: 0.895 | Val roc_auc: 0.974 | Training time: 0:23:39\n"
          ]
        },
        {
          "data": {
            "application/vnd.jupyter.widget-view+json": {
              "model_id": "22f34dd1779d4ad1a5b6539aa194cff4",
              "version_major": 2,
              "version_minor": 0
            },
            "text/plain": [
              "  0%|          | 0/1459 [00:00<?, ?it/s]"
            ]
          },
          "metadata": {},
          "output_type": "display_data"
        },
        {
          "name": "stderr",
          "output_type": "stream",
          "text": [
            "100%|██████████| 3/3 [1:11:09<00:00, 1423.16s/it]"
          ]
        },
        {
          "name": "stdout",
          "output_type": "stream",
          "text": [
            "Epoch 003: | Loss: 0.120 | Train acc: 0.961 | Val acc: 0.926 | Val roc_auc: 0.972 | Training time: 0:23:41\n"
          ]
        },
        {
          "name": "stderr",
          "output_type": "stream",
          "text": [
            "\n"
          ]
        }
      ],
      "source": [
        "\n",
        "best_val = None  # Best validation score within this fold\n",
        "patience = es_patience  # Current patience counter\n",
        "#     arch = EfficientNet.from_pretrained('efficientnet-b1')\n",
        "#     arch = models.resnet50(pretrained=True)\n",
        "\n",
        "\n",
        "model = Net(b1=True)  # New model for each fold\n",
        "model = model.to(device)\n",
        "\n",
        "#giving more importance to mel\n",
        "\n",
        "# Define weight factors\n",
        "class_factor_interest = 2.0\n",
        "class_factor_minority = 1.0\n",
        "class_factor_majority = 0.5\n",
        "\n",
        "# Get class labels and weights\n",
        "class_labels = np.unique(train_df['target'])\n",
        "class_weights_all = compute_class_weight('balanced', classes=class_labels, y=train_df['target'])\n",
        "\n",
        "# Modify class weights to reflect weight factors\n",
        "class_weights = np.zeros_like(class_weights_all)\n",
        "for i, weight in enumerate(class_weights_all):\n",
        "    if class_labels[i] == 4:  # class of interest\n",
        "        class_weights[i] = weight * class_factor_interest\n",
        "    elif weight == np.max(class_weights_all):  # majority class\n",
        "        class_weights[i] = weight * class_factor_majority\n",
        "    else:  # minority class\n",
        "        class_weights[i] = weight * class_factor_minority\n",
        "\n",
        "# Convert class weights to PyTorch tensor\n",
        "class_weights = torch.tensor(class_weights, dtype=torch.float32).to(device)\n",
        "\n",
        "# Initialize Focal loss object\n",
        "focal_loss = FocalLoss(gamma=2, alpha=class_weights)\n",
        "\n",
        "\n",
        "optim = torch.optim.Adam(model.parameters(), lr=0.0001)\n",
        "scheduler = ReduceLROnPlateau(optimizer=optim, mode='max', patience=1, verbose=True, factor=0.4)\n",
        "criterion = nn.CrossEntropyLoss(weight=class_weights)\n",
        "\n",
        "train = MelanomaDataset(df=train_df.reset_index(drop=True), \n",
        "                        train=True, \n",
        "                        transforms=train_transform)\n",
        "val = MelanomaDataset(df=val_df.reset_index(drop=True), \n",
        "                        train=True, \n",
        "                        transforms=test_transform)\n",
        "\n",
        "train_loader = DataLoader(dataset=train, batch_size=16, shuffle=True, num_workers=0)\n",
        "val_loader = DataLoader(dataset=val, batch_size=8, shuffle=False, num_workers=0)\n",
        "test_loader = DataLoader(dataset=test, batch_size=8, shuffle=False, num_workers=0)\n",
        "\n",
        "for epoch in tqdm(range(epochs)):\n",
        "    start_time = time.time()\n",
        "    correct = 0\n",
        "    epoch_loss = 0\n",
        "    model.train()\n",
        "\n",
        "    for x, y in tq.tqdm(train_loader):\n",
        "        x = torch.tensor(x, device=device, dtype=torch.float32)\n",
        "        y = torch.tensor(y, device=device, dtype=torch.long)\n",
        "        optim.zero_grad()\n",
        "        z = model(x)\n",
        "        # loss =  focal_loss(z, y)\n",
        "        loss =  criterion(z, y)\n",
        "        loss.backward()\n",
        "        optim.step()\n",
        "        pred = torch.argmax(z, dim=1)  # get the index of the highest value in out\n",
        "        correct += (pred.cpu() == y.cpu()).sum().item()  # tracking number of correctly predicted samples\n",
        "        epoch_loss += loss.item()\n",
        "    train_acc = correct / len(train_df)\n",
        "\n",
        "    model.eval()  # switch model to the evaluation mode\n",
        "    val_preds = torch.zeros((len(val_df), 7), dtype=torch.float32, device=device)\n",
        "    with torch.no_grad():  # Do not calculate gradient since we are only predicting\n",
        "        # Predicting on validation set\n",
        "        for j, (x_val, y_val) in enumerate(val_loader):\n",
        "            x_val = torch.tensor(x_val, device=device, dtype=torch.float32)\n",
        "            y_val = torch.tensor(y_val, device=device, dtype=torch.long)\n",
        "            z_val = model(x_val)\n",
        "            val_pred = torch.softmax(z_val, dim=1) # use softmax to convert logits to probabilities\n",
        "            val_preds[j*x_val.shape[0]:j*x_val.shape[0] + x_val.shape[0]] = val_pred\n",
        "\n",
        "        val_preds = torch.softmax(val_preds, dim=1) # use softmax to convert logits to probabilities\n",
        "        val_acc = accuracy_score(val_df['target'].values, torch.argmax(val_preds.cpu(), dim=1))\n",
        "        val_preds = val_preds.cpu().detach().numpy()\n",
        "        val_preds = val_preds.reshape(-1, 7) # reshape val_preds to a 2D tensor\n",
        "\n",
        "        val_roc = roc_auc_score(val_df['target'].values, val_preds, multi_class='ovr')\n",
        "\n",
        "\n",
        "        print('Epoch {:03}: | Loss: {:.3f} | Train acc: {:.3f} | Val acc: {:.3f} | Val roc_auc: {:.3f} | Training time: {}'.format(\n",
        "        epoch + 1, \n",
        "        epoch_loss/len(train_loader), \n",
        "        train_acc, \n",
        "        val_acc, \n",
        "        val_roc, \n",
        "        str(datetime.timedelta(seconds=time.time() - start_time))[:7]))\n",
        "\n",
        "        scheduler.step(val_roc)\n",
        "        # During the first iteration (first epoch) best validation is set to None\n",
        "        if not best_val:\n",
        "            best_val = val_roc  # So any validation roc_auc we have is the best one for now\n",
        "            torch.save(model, model_path)  # Saving the model\n",
        "            continue\n",
        "\n",
        "        if val_roc >= best_val:\n",
        "            best_val = val_roc\n",
        "            patience = es_patience  # Resetting patience since we have new best validation accuracy\n",
        "            torch.save(model, model_path)  # Saving current best model\n",
        "        else:\n",
        "            patience -= 1\n",
        "            if patience == 0:\n",
        "                print('Early stopping. Best Val roc_auc: {:.3f}'.format(best_val))\n",
        "                break\n",
        "\n"
      ]
    },
    {
      "cell_type": "code",
      "execution_count": 36,
      "metadata": {
        "execution": {
          "iopub.execute_input": "2023-05-08T16:39:17.800560Z",
          "iopub.status.busy": "2023-05-08T16:39:17.799959Z",
          "iopub.status.idle": "2023-05-08T16:39:17.806197Z",
          "shell.execute_reply": "2023-05-08T16:39:17.805197Z",
          "shell.execute_reply.started": "2023-05-08T16:39:17.800511Z"
        },
        "id": "md05GYfh5sEa",
        "trusted": true
      },
      "outputs": [],
      "source": [
        "test_loader = DataLoader(dataset=test, batch_size=8, shuffle=False,num_workers=0)"
      ]
    },
    {
      "cell_type": "code",
      "execution_count": 37,
      "metadata": {
        "colab": {
          "base_uri": "https://localhost:8080/"
        },
        "execution": {
          "iopub.execute_input": "2023-05-08T16:39:17.808331Z",
          "iopub.status.busy": "2023-05-08T16:39:17.807728Z",
          "iopub.status.idle": "2023-05-08T16:39:17.827789Z",
          "shell.execute_reply": "2023-05-08T16:39:17.826702Z",
          "shell.execute_reply.started": "2023-05-08T16:39:17.808280Z"
        },
        "id": "kFhUexd15sEa",
        "outputId": "75a60932-ec16-4717-df22-1bc888343fc8",
        "trusted": true
      },
      "outputs": [
        {
          "data": {
            "text/plain": [
              "nv       1604\n",
              "bkl       160\n",
              "mel        83\n",
              "bcc        64\n",
              "akiec      55\n",
              "vasc       23\n",
              "df         14\n",
              "Name: dx, dtype: int64"
            ]
          },
          "execution_count": 37,
          "metadata": {},
          "output_type": "execute_result"
        }
      ],
      "source": [
        "test_df.dx.value_counts()"
      ]
    },
    {
      "cell_type": "code",
      "execution_count": 38,
      "metadata": {
        "execution": {
          "iopub.execute_input": "2023-05-08T16:39:17.830153Z",
          "iopub.status.busy": "2023-05-08T16:39:17.829443Z",
          "iopub.status.idle": "2023-05-08T16:39:49.216679Z",
          "shell.execute_reply": "2023-05-08T16:39:49.215743Z",
          "shell.execute_reply.started": "2023-05-08T16:39:17.830108Z"
        },
        "id": "Nz7Nhf795sEa",
        "trusted": true
      },
      "outputs": [],
      "source": [
        "model = torch.load('./model.pth')\n",
        "model.eval()  # switch model to the evaluation mode\n",
        "preds = torch.zeros((len(test), 7), dtype=torch.float32, device=device)\n",
        "with torch.no_grad():\n",
        "\n",
        "  for i, x_test in enumerate(test_loader):  \n",
        "      x_test = torch.tensor(x_test, device=device, dtype=torch.float32)\n",
        "      z_test = model(x_test)\n",
        "      val_pred = torch.softmax(z_test, dim=1) # use softmax to convert logits to probabilities\n",
        "\n",
        "      preds[i*x_test.shape[0]:i*x_test.shape[0] + x_test.shape[0]] += z_test\n",
        "\n",
        "            \n",
        "  gc.collect()   \n",
        "           \n"
      ]
    },
    {
      "cell_type": "code",
      "execution_count": 39,
      "metadata": {
        "execution": {
          "iopub.execute_input": "2023-05-08T16:39:49.219162Z",
          "iopub.status.busy": "2023-05-08T16:39:49.218793Z",
          "iopub.status.idle": "2023-05-08T16:39:49.243760Z",
          "shell.execute_reply": "2023-05-08T16:39:49.242719Z",
          "shell.execute_reply.started": "2023-05-08T16:39:49.219132Z"
        },
        "id": "dSxtF-Lh5sEb",
        "trusted": true
      },
      "outputs": [],
      "source": [
        "from sklearn.metrics import accuracy_score, precision_score,recall_score, f1_score\n",
        "\n",
        "from sklearn.preprocessing import LabelBinarizer\n",
        "\n",
        "# Convert the target data to one-hot encoded format\n",
        "lb = LabelBinarizer()\n",
        "test_labels = lb.fit_transform(test_df['target'])\n",
        "\n",
        "# Get predictions for the test set\n",
        "test_preds = preds.cpu()\n",
        "\n",
        "# Convert the predictions to one-hot encoded format if needed\n",
        "if len(test_preds.shape) > 1 and test_preds.shape[1] > 1:\n",
        "    test_preds = np.argmax(test_preds, axis=1)\n",
        "    test_preds = lb.transform(test_preds)\n",
        "\n",
        "# Calculate metrics\n",
        "acc = accuracy_score(test_labels, test_preds)\n",
        "prec = precision_score(test_labels, test_preds, average='macro')\n",
        "rec = recall_score(test_labels, test_preds, average='macro')\n",
        "f1 = f1_score(test_labels, test_preds, average='macro')\n",
        "roc = roc_auc_score(test_labels, test_preds, multi_class='ovr')\n"
      ]
    },
    {
      "cell_type": "code",
      "execution_count": 40,
      "metadata": {
        "colab": {
          "base_uri": "https://localhost:8080/"
        },
        "execution": {
          "iopub.execute_input": "2023-05-08T16:39:49.245649Z",
          "iopub.status.busy": "2023-05-08T16:39:49.245294Z",
          "iopub.status.idle": "2023-05-08T16:39:49.253100Z",
          "shell.execute_reply": "2023-05-08T16:39:49.251507Z",
          "shell.execute_reply.started": "2023-05-08T16:39:49.245611Z"
        },
        "id": "wHeiiPzY5sEb",
        "outputId": "743739dc-c615-495b-f857-66fac5a4374c",
        "trusted": true
      },
      "outputs": [
        {
          "name": "stdout",
          "output_type": "stream",
          "text": [
            "acc  0.9056415376934598\n",
            "prec  0.780762800468896\n",
            "rec  0.7714150032072347\n",
            "f1  0.7605574082630762\n",
            "roc  0.8743907045025852\n"
          ]
        }
      ],
      "source": [
        "print(\"acc \", acc)\n",
        "print(\"prec \",prec)\n",
        "print(\"rec \",rec)\n",
        "print(\"f1 \",f1)\n",
        "print(\"roc \",roc)"
      ]
    },
    {
      "cell_type": "code",
      "execution_count": 41,
      "metadata": {
        "colab": {
          "base_uri": "https://localhost:8080/",
          "height": 472
        },
        "execution": {
          "iopub.execute_input": "2023-05-08T16:39:49.255374Z",
          "iopub.status.busy": "2023-05-08T16:39:49.254986Z",
          "iopub.status.idle": "2023-05-08T16:39:49.561393Z",
          "shell.execute_reply": "2023-05-08T16:39:49.560471Z",
          "shell.execute_reply.started": "2023-05-08T16:39:49.255336Z"
        },
        "id": "5IumPhoj5sEb",
        "outputId": "adb0b67e-8065-4005-ec62-d15bfa3a2fb9",
        "trusted": true
      },
      "outputs": [
        {
          "data": {
            "image/png": "[encoded data removed]",
            "text/plain": [
              "<Figure size 640x480 with 2 Axes>"
            ]
          },
          "metadata": {},
          "output_type": "display_data"
        }
      ],
      "source": [
        "from sklearn.metrics import confusion_matrix\n",
        "\n",
        "import seaborn as sns\n",
        "import matplotlib.pyplot as plt\n",
        "\n",
        "# Generate the confusion matrix\n",
        "conf_matrix = confusion_matrix(test_labels.argmax(axis=1), test_preds.argmax(axis=1))\n",
        "\n",
        "# Create a heatmap of the confusion matrix\n",
        "sns.heatmap(conf_matrix, annot=True, fmt='d', cmap='Blues')\n",
        "\n",
        "# Set the axis labels and title\n",
        "plt.xlabel('Predicted Label')\n",
        "plt.ylabel('True Label')\n",
        "plt.title('Confusion Matrix')\n",
        "\n",
        "# Display the plot\n",
        "plt.show()\n"
      ]
    },
    {
      "cell_type": "code",
      "execution_count": 42,
      "metadata": {
        "colab": {
          "base_uri": "https://localhost:8080/"
        },
        "execution": {
          "iopub.execute_input": "2023-05-08T16:39:49.563463Z",
          "iopub.status.busy": "2023-05-08T16:39:49.562880Z",
          "iopub.status.idle": "2023-05-08T16:39:49.571865Z",
          "shell.execute_reply": "2023-05-08T16:39:49.570485Z",
          "shell.execute_reply.started": "2023-05-08T16:39:49.563416Z"
        },
        "id": "2H-1VrCk5sEb",
        "outputId": "fa578143-9db5-4b53-b262-1b0c06f5a063",
        "trusted": true
      },
      "outputs": [
        {
          "name": "stdout",
          "output_type": "stream",
          "text": [
            "False Negative Rate for mel: 14.46%\n"
          ]
        }
      ],
      "source": [
        "# Extract the row and column corresponding to class 4: mel\n",
        "class_idx = 4\n",
        "fn = conf_matrix[class_idx, :].sum() - conf_matrix[class_idx, class_idx]\n",
        "\n",
        "# Calculate the percentage of instances from class 4 that were classified as another class\n",
        "fn_percent = (fn / conf_matrix[class_idx, :].sum()) * 100\n",
        "\n",
        "# Print the results\n",
        "print(f\"False Negative Rate for mel: {fn_percent:.2f}%\")"
      ]
    },
    {
      "cell_type": "code",
      "execution_count": 42,
      "metadata": {
        "id": "Ju2A8qGm5sEc"
      },
      "outputs": [],
      "source": []
    },
    {
      "cell_type": "code",
      "execution_count": null,
      "metadata": {
        "id": "do1g9qjF5sEc"
      },
      "outputs": [],
      "source": []
    }
  ],
  "metadata": {
    "accelerator": "GPU",
    "colab": {
      "gpuType": "T4",
      "machine_shape": "hm",
      "provenance": []
    },
    "gpuClass": "standard",
    "kernelspec": {
      "display_name": "Python 3",
      "language": "python",
      "name": "python3"
    },
    "language_info": {
      "codemirror_mode": {
        "name": "ipython",
        "version": 3
      },
      "file_extension": ".py",
      "mimetype": "text/x-python",
      "name": "python",
      "nbconvert_exporter": "python",
      "pygments_lexer": "ipython3",
      "version": "3.7.6"
    },
    "widgets": {
      "application/vnd.jupyter.widget-state+json": {
        "0cbb3839d2814f6085c4eee2983ea189": {
          "model_module": "@jupyter-widgets/base",
          "model_module_version": "1.2.0",
          "model_name": "LayoutModel",
          "state": {
            "_model_module": "@jupyter-widgets/base",
            "_model_module_version": "1.2.0",
            "_model_name": "LayoutModel",
            "_view_count": null,
            "_view_module": "@jupyter-widgets/base",
            "_view_module_version": "1.2.0",
            "_view_name": "LayoutView",
            "align_content": null,
            "align_items": null,
            "align_self": null,
            "border": null,
            "bottom": null,
            "display": null,
            "flex": null,
            "flex_flow": null,
            "grid_area": null,
            "grid_auto_columns": null,
            "grid_auto_flow": null,
            "grid_auto_rows": null,
            "grid_column": null,
            "grid_gap": null,
            "grid_row": null,
            "grid_template_areas": null,
            "grid_template_columns": null,
            "grid_template_rows": null,
            "height": null,
            "justify_content": null,
            "justify_items": null,
            "left": null,
            "margin": null,
            "max_height": null,
            "max_width": null,
            "min_height": null,
            "min_width": null,
            "object_fit": null,
            "object_position": null,
            "order": null,
            "overflow": null,
            "overflow_x": null,
            "overflow_y": null,
            "padding": null,
            "right": null,
            "top": null,
            "visibility": null,
            "width": null
          }
        },
        "0e00f05f7ca44475b56bf8292610d41c": {
          "model_module": "@jupyter-widgets/controls",
          "model_module_version": "1.5.0",
          "model_name": "HTMLModel",
          "state": {
            "_dom_classes": [],
            "_model_module": "@jupyter-widgets/controls",
            "_model_module_version": "1.5.0",
            "_model_name": "HTMLModel",
            "_view_count": null,
            "_view_module": "@jupyter-widgets/controls",
            "_view_module_version": "1.5.0",
            "_view_name": "HTMLView",
            "description": "",
            "description_tooltip": null,
            "layout": "IPY_MODEL_7d937fb696534855925cb356006ffa98",
            "placeholder": "​",
            "style": "IPY_MODEL_a47d6c8f3ddd4ab9bb092fc4f2a45f9b",
            "value": "100%"
          }
        },
        "15585a3bda3e451a835137708c55f547": {
          "model_module": "@jupyter-widgets/controls",
          "model_module_version": "1.5.0",
          "model_name": "DescriptionStyleModel",
          "state": {
            "_model_module": "@jupyter-widgets/controls",
            "_model_module_version": "1.5.0",
            "_model_name": "DescriptionStyleModel",
            "_view_count": null,
            "_view_module": "@jupyter-widgets/base",
            "_view_module_version": "1.2.0",
            "_view_name": "StyleView",
            "description_width": ""
          }
        },
        "1c2e0fba81914f819515e5d1f9b9e456": {
          "model_module": "@jupyter-widgets/controls",
          "model_module_version": "1.5.0",
          "model_name": "HTMLModel",
          "state": {
            "_dom_classes": [],
            "_model_module": "@jupyter-widgets/controls",
            "_model_module_version": "1.5.0",
            "_model_name": "HTMLModel",
            "_view_count": null,
            "_view_module": "@jupyter-widgets/controls",
            "_view_module_version": "1.5.0",
            "_view_name": "HTMLView",
            "description": "",
            "description_tooltip": null,
            "layout": "IPY_MODEL_a709246670de4feca0f198b616a51631",
            "placeholder": "​",
            "style": "IPY_MODEL_915bb226d9f64030869bf0f5e528b540",
            "value": " 1459/1459 [23:20&lt;00:00,  1.06it/s]"
          }
        },
        "1eea2fd6403049b8895ffda8478adc54": {
          "model_module": "@jupyter-widgets/controls",
          "model_module_version": "1.5.0",
          "model_name": "HTMLModel",
          "state": {
            "_dom_classes": [],
            "_model_module": "@jupyter-widgets/controls",
            "_model_module_version": "1.5.0",
            "_model_name": "HTMLModel",
            "_view_count": null,
            "_view_module": "@jupyter-widgets/controls",
            "_view_module_version": "1.5.0",
            "_view_name": "HTMLView",
            "description": "",
            "description_tooltip": null,
            "layout": "IPY_MODEL_5edeb227230145c890a29f9e40e29e6f",
            "placeholder": "​",
            "style": "IPY_MODEL_2a0b14e20bc64785b4505f663055167b",
            "value": "100%"
          }
        },
        "22f34dd1779d4ad1a5b6539aa194cff4": {
          "model_module": "@jupyter-widgets/controls",
          "model_module_version": "1.5.0",
          "model_name": "HBoxModel",
          "state": {
            "_dom_classes": [],
            "_model_module": "@jupyter-widgets/controls",
            "_model_module_version": "1.5.0",
            "_model_name": "HBoxModel",
            "_view_count": null,
            "_view_module": "@jupyter-widgets/controls",
            "_view_module_version": "1.5.0",
            "_view_name": "HBoxView",
            "box_style": "",
            "children": [
              "IPY_MODEL_fc3a19bd04c842de852ae6fb3ff361cc",
              "IPY_MODEL_6b929f3156a042258196ada658506f10",
              "IPY_MODEL_2b1d9e707a8844c9b7555eee123ec9a0"
            ],
            "layout": "IPY_MODEL_584ada71ef9e4609985de1553193d030"
          }
        },
        "27415f1469cf40a6b3b6c1c70400516a": {
          "model_module": "@jupyter-widgets/controls",
          "model_module_version": "1.5.0",
          "model_name": "ProgressStyleModel",
          "state": {
            "_model_module": "@jupyter-widgets/controls",
            "_model_module_version": "1.5.0",
            "_model_name": "ProgressStyleModel",
            "_view_count": null,
            "_view_module": "@jupyter-widgets/base",
            "_view_module_version": "1.2.0",
            "_view_name": "StyleView",
            "bar_color": null,
            "description_width": ""
          }
        },
        "2a0b14e20bc64785b4505f663055167b": {
          "model_module": "@jupyter-widgets/controls",
          "model_module_version": "1.5.0",
          "model_name": "DescriptionStyleModel",
          "state": {
            "_model_module": "@jupyter-widgets/controls",
            "_model_module_version": "1.5.0",
            "_model_name": "DescriptionStyleModel",
            "_view_count": null,
            "_view_module": "@jupyter-widgets/base",
            "_view_module_version": "1.2.0",
            "_view_name": "StyleView",
            "description_width": ""
          }
        },
        "2b1d9e707a8844c9b7555eee123ec9a0": {
          "model_module": "@jupyter-widgets/controls",
          "model_module_version": "1.5.0",
          "model_name": "HTMLModel",
          "state": {
            "_dom_classes": [],
            "_model_module": "@jupyter-widgets/controls",
            "_model_module_version": "1.5.0",
            "_model_name": "HTMLModel",
            "_view_count": null,
            "_view_module": "@jupyter-widgets/controls",
            "_view_module_version": "1.5.0",
            "_view_name": "HTMLView",
            "description": "",
            "description_tooltip": null,
            "layout": "IPY_MODEL_c7f3a7723440459abf0923493e07abaa",
            "placeholder": "​",
            "style": "IPY_MODEL_c11c19bf6a6a44ccb7d04684a86edd21",
            "value": " 1459/1459 [23:14&lt;00:00,  1.08it/s]"
          }
        },
        "2e88513ef28d4d9dbf20dceb79e6609e": {
          "model_module": "@jupyter-widgets/controls",
          "model_module_version": "1.5.0",
          "model_name": "HBoxModel",
          "state": {
            "_dom_classes": [],
            "_model_module": "@jupyter-widgets/controls",
            "_model_module_version": "1.5.0",
            "_model_name": "HBoxModel",
            "_view_count": null,
            "_view_module": "@jupyter-widgets/controls",
            "_view_module_version": "1.5.0",
            "_view_name": "HBoxView",
            "box_style": "",
            "children": [
              "IPY_MODEL_1eea2fd6403049b8895ffda8478adc54",
              "IPY_MODEL_ec974972876c4d0dbe061bba80b8d7ac",
              "IPY_MODEL_1c2e0fba81914f819515e5d1f9b9e456"
            ],
            "layout": "IPY_MODEL_0cbb3839d2814f6085c4eee2983ea189"
          }
        },
        "3d7c317816c54f3a957ffaa79f5219c5": {
          "model_module": "@jupyter-widgets/base",
          "model_module_version": "1.2.0",
          "model_name": "LayoutModel",
          "state": {
            "_model_module": "@jupyter-widgets/base",
            "_model_module_version": "1.2.0",
            "_model_name": "LayoutModel",
            "_view_count": null,
            "_view_module": "@jupyter-widgets/base",
            "_view_module_version": "1.2.0",
            "_view_name": "LayoutView",
            "align_content": null,
            "align_items": null,
            "align_self": null,
            "border": null,
            "bottom": null,
            "display": null,
            "flex": null,
            "flex_flow": null,
            "grid_area": null,
            "grid_auto_columns": null,
            "grid_auto_flow": null,
            "grid_auto_rows": null,
            "grid_column": null,
            "grid_gap": null,
            "grid_row": null,
            "grid_template_areas": null,
            "grid_template_columns": null,
            "grid_template_rows": null,
            "height": null,
            "justify_content": null,
            "justify_items": null,
            "left": null,
            "margin": null,
            "max_height": null,
            "max_width": null,
            "min_height": null,
            "min_width": null,
            "object_fit": null,
            "object_position": null,
            "order": null,
            "overflow": null,
            "overflow_x": null,
            "overflow_y": null,
            "padding": null,
            "right": null,
            "top": null,
            "visibility": null,
            "width": null
          }
        },
        "3ecfe15fd63e4a00afa9fa8228e28164": {
          "model_module": "@jupyter-widgets/controls",
          "model_module_version": "1.5.0",
          "model_name": "HTMLModel",
          "state": {
            "_dom_classes": [],
            "_model_module": "@jupyter-widgets/controls",
            "_model_module_version": "1.5.0",
            "_model_name": "HTMLModel",
            "_view_count": null,
            "_view_module": "@jupyter-widgets/controls",
            "_view_module_version": "1.5.0",
            "_view_name": "HTMLView",
            "description": "",
            "description_tooltip": null,
            "layout": "IPY_MODEL_998e00396d9f4b44b0fd0f6511f186b9",
            "placeholder": "​",
            "style": "IPY_MODEL_15585a3bda3e451a835137708c55f547",
            "value": " 1459/1459 [23:12&lt;00:00,  1.07it/s]"
          }
        },
        "584ada71ef9e4609985de1553193d030": {
          "model_module": "@jupyter-widgets/base",
          "model_module_version": "1.2.0",
          "model_name": "LayoutModel",
          "state": {
            "_model_module": "@jupyter-widgets/base",
            "_model_module_version": "1.2.0",
            "_model_name": "LayoutModel",
            "_view_count": null,
            "_view_module": "@jupyter-widgets/base",
            "_view_module_version": "1.2.0",
            "_view_name": "LayoutView",
            "align_content": null,
            "align_items": null,
            "align_self": null,
            "border": null,
            "bottom": null,
            "display": null,
            "flex": null,
            "flex_flow": null,
            "grid_area": null,
            "grid_auto_columns": null,
            "grid_auto_flow": null,
            "grid_auto_rows": null,
            "grid_column": null,
            "grid_gap": null,
            "grid_row": null,
            "grid_template_areas": null,
            "grid_template_columns": null,
            "grid_template_rows": null,
            "height": null,
            "justify_content": null,
            "justify_items": null,
            "left": null,
            "margin": null,
            "max_height": null,
            "max_width": null,
            "min_height": null,
            "min_width": null,
            "object_fit": null,
            "object_position": null,
            "order": null,
            "overflow": null,
            "overflow_x": null,
            "overflow_y": null,
            "padding": null,
            "right": null,
            "top": null,
            "visibility": null,
            "width": null
          }
        },
        "5b0a7a3d2c2a46c395106cff1eff6a37": {
          "model_module": "@jupyter-widgets/controls",
          "model_module_version": "1.5.0",
          "model_name": "FloatProgressModel",
          "state": {
            "_dom_classes": [],
            "_model_module": "@jupyter-widgets/controls",
            "_model_module_version": "1.5.0",
            "_model_name": "FloatProgressModel",
            "_view_count": null,
            "_view_module": "@jupyter-widgets/controls",
            "_view_module_version": "1.5.0",
            "_view_name": "ProgressView",
            "bar_style": "success",
            "description": "",
            "description_tooltip": null,
            "layout": "IPY_MODEL_3d7c317816c54f3a957ffaa79f5219c5",
            "max": 1459,
            "min": 0,
            "orientation": "horizontal",
            "style": "IPY_MODEL_27415f1469cf40a6b3b6c1c70400516a",
            "value": 1459
          }
        },
        "5d0b69e78af7464095d10b00de066db3": {
          "model_module": "@jupyter-widgets/controls",
          "model_module_version": "1.5.0",
          "model_name": "DescriptionStyleModel",
          "state": {
            "_model_module": "@jupyter-widgets/controls",
            "_model_module_version": "1.5.0",
            "_model_name": "DescriptionStyleModel",
            "_view_count": null,
            "_view_module": "@jupyter-widgets/base",
            "_view_module_version": "1.2.0",
            "_view_name": "StyleView",
            "description_width": ""
          }
        },
        "5edeb227230145c890a29f9e40e29e6f": {
          "model_module": "@jupyter-widgets/base",
          "model_module_version": "1.2.0",
          "model_name": "LayoutModel",
          "state": {
            "_model_module": "@jupyter-widgets/base",
            "_model_module_version": "1.2.0",
            "_model_name": "LayoutModel",
            "_view_count": null,
            "_view_module": "@jupyter-widgets/base",
            "_view_module_version": "1.2.0",
            "_view_name": "LayoutView",
            "align_content": null,
            "align_items": null,
            "align_self": null,
            "border": null,
            "bottom": null,
            "display": null,
            "flex": null,
            "flex_flow": null,
            "grid_area": null,
            "grid_auto_columns": null,
            "grid_auto_flow": null,
            "grid_auto_rows": null,
            "grid_column": null,
            "grid_gap": null,
            "grid_row": null,
            "grid_template_areas": null,
            "grid_template_columns": null,
            "grid_template_rows": null,
            "height": null,
            "justify_content": null,
            "justify_items": null,
            "left": null,
            "margin": null,
            "max_height": null,
            "max_width": null,
            "min_height": null,
            "min_width": null,
            "object_fit": null,
            "object_position": null,
            "order": null,
            "overflow": null,
            "overflow_x": null,
            "overflow_y": null,
            "padding": null,
            "right": null,
            "top": null,
            "visibility": null,
            "width": null
          }
        },
        "5f39d01aaa2b4d67bce6153f946ae037": {
          "model_module": "@jupyter-widgets/controls",
          "model_module_version": "1.5.0",
          "model_name": "HBoxModel",
          "state": {
            "_dom_classes": [],
            "_model_module": "@jupyter-widgets/controls",
            "_model_module_version": "1.5.0",
            "_model_name": "HBoxModel",
            "_view_count": null,
            "_view_module": "@jupyter-widgets/controls",
            "_view_module_version": "1.5.0",
            "_view_name": "HBoxView",
            "box_style": "",
            "children": [
              "IPY_MODEL_0e00f05f7ca44475b56bf8292610d41c",
              "IPY_MODEL_5b0a7a3d2c2a46c395106cff1eff6a37",
              "IPY_MODEL_3ecfe15fd63e4a00afa9fa8228e28164"
            ],
            "layout": "IPY_MODEL_77cb3c5e1e244378be68e37098169d40"
          }
        },
        "6b929f3156a042258196ada658506f10": {
          "model_module": "@jupyter-widgets/controls",
          "model_module_version": "1.5.0",
          "model_name": "FloatProgressModel",
          "state": {
            "_dom_classes": [],
            "_model_module": "@jupyter-widgets/controls",
            "_model_module_version": "1.5.0",
            "_model_name": "FloatProgressModel",
            "_view_count": null,
            "_view_module": "@jupyter-widgets/controls",
            "_view_module_version": "1.5.0",
            "_view_name": "ProgressView",
            "bar_style": "success",
            "description": "",
            "description_tooltip": null,
            "layout": "IPY_MODEL_79aaba51d3a4443fa302c9ee30e5e931",
            "max": 1459,
            "min": 0,
            "orientation": "horizontal",
            "style": "IPY_MODEL_f3206d5895d6497eaf3d1da259620a8a",
            "value": 1459
          }
        },
        "77cb3c5e1e244378be68e37098169d40": {
          "model_module": "@jupyter-widgets/base",
          "model_module_version": "1.2.0",
          "model_name": "LayoutModel",
          "state": {
            "_model_module": "@jupyter-widgets/base",
            "_model_module_version": "1.2.0",
            "_model_name": "LayoutModel",
            "_view_count": null,
            "_view_module": "@jupyter-widgets/base",
            "_view_module_version": "1.2.0",
            "_view_name": "LayoutView",
            "align_content": null,
            "align_items": null,
            "align_self": null,
            "border": null,
            "bottom": null,
            "display": null,
            "flex": null,
            "flex_flow": null,
            "grid_area": null,
            "grid_auto_columns": null,
            "grid_auto_flow": null,
            "grid_auto_rows": null,
            "grid_column": null,
            "grid_gap": null,
            "grid_row": null,
            "grid_template_areas": null,
            "grid_template_columns": null,
            "grid_template_rows": null,
            "height": null,
            "justify_content": null,
            "justify_items": null,
            "left": null,
            "margin": null,
            "max_height": null,
            "max_width": null,
            "min_height": null,
            "min_width": null,
            "object_fit": null,
            "object_position": null,
            "order": null,
            "overflow": null,
            "overflow_x": null,
            "overflow_y": null,
            "padding": null,
            "right": null,
            "top": null,
            "visibility": null,
            "width": null
          }
        },
        "79aaba51d3a4443fa302c9ee30e5e931": {
          "model_module": "@jupyter-widgets/base",
          "model_module_version": "1.2.0",
          "model_name": "LayoutModel",
          "state": {
            "_model_module": "@jupyter-widgets/base",
            "_model_module_version": "1.2.0",
            "_model_name": "LayoutModel",
            "_view_count": null,
            "_view_module": "@jupyter-widgets/base",
            "_view_module_version": "1.2.0",
            "_view_name": "LayoutView",
            "align_content": null,
            "align_items": null,
            "align_self": null,
            "border": null,
            "bottom": null,
            "display": null,
            "flex": null,
            "flex_flow": null,
            "grid_area": null,
            "grid_auto_columns": null,
            "grid_auto_flow": null,
            "grid_auto_rows": null,
            "grid_column": null,
            "grid_gap": null,
            "grid_row": null,
            "grid_template_areas": null,
            "grid_template_columns": null,
            "grid_template_rows": null,
            "height": null,
            "justify_content": null,
            "justify_items": null,
            "left": null,
            "margin": null,
            "max_height": null,
            "max_width": null,
            "min_height": null,
            "min_width": null,
            "object_fit": null,
            "object_position": null,
            "order": null,
            "overflow": null,
            "overflow_x": null,
            "overflow_y": null,
            "padding": null,
            "right": null,
            "top": null,
            "visibility": null,
            "width": null
          }
        },
        "7d937fb696534855925cb356006ffa98": {
          "model_module": "@jupyter-widgets/base",
          "model_module_version": "1.2.0",
          "model_name": "LayoutModel",
          "state": {
            "_model_module": "@jupyter-widgets/base",
            "_model_module_version": "1.2.0",
            "_model_name": "LayoutModel",
            "_view_count": null,
            "_view_module": "@jupyter-widgets/base",
            "_view_module_version": "1.2.0",
            "_view_name": "LayoutView",
            "align_content": null,
            "align_items": null,
            "align_self": null,
            "border": null,
            "bottom": null,
            "display": null,
            "flex": null,
            "flex_flow": null,
            "grid_area": null,
            "grid_auto_columns": null,
            "grid_auto_flow": null,
            "grid_auto_rows": null,
            "grid_column": null,
            "grid_gap": null,
            "grid_row": null,
            "grid_template_areas": null,
            "grid_template_columns": null,
            "grid_template_rows": null,
            "height": null,
            "justify_content": null,
            "justify_items": null,
            "left": null,
            "margin": null,
            "max_height": null,
            "max_width": null,
            "min_height": null,
            "min_width": null,
            "object_fit": null,
            "object_position": null,
            "order": null,
            "overflow": null,
            "overflow_x": null,
            "overflow_y": null,
            "padding": null,
            "right": null,
            "top": null,
            "visibility": null,
            "width": null
          }
        },
        "86eabbeedb1441849fd9112523efb313": {
          "model_module": "@jupyter-widgets/base",
          "model_module_version": "1.2.0",
          "model_name": "LayoutModel",
          "state": {
            "_model_module": "@jupyter-widgets/base",
            "_model_module_version": "1.2.0",
            "_model_name": "LayoutModel",
            "_view_count": null,
            "_view_module": "@jupyter-widgets/base",
            "_view_module_version": "1.2.0",
            "_view_name": "LayoutView",
            "align_content": null,
            "align_items": null,
            "align_self": null,
            "border": null,
            "bottom": null,
            "display": null,
            "flex": null,
            "flex_flow": null,
            "grid_area": null,
            "grid_auto_columns": null,
            "grid_auto_flow": null,
            "grid_auto_rows": null,
            "grid_column": null,
            "grid_gap": null,
            "grid_row": null,
            "grid_template_areas": null,
            "grid_template_columns": null,
            "grid_template_rows": null,
            "height": null,
            "justify_content": null,
            "justify_items": null,
            "left": null,
            "margin": null,
            "max_height": null,
            "max_width": null,
            "min_height": null,
            "min_width": null,
            "object_fit": null,
            "object_position": null,
            "order": null,
            "overflow": null,
            "overflow_x": null,
            "overflow_y": null,
            "padding": null,
            "right": null,
            "top": null,
            "visibility": null,
            "width": null
          }
        },
        "8703dcc6614342abaf885bb04c54f732": {
          "model_module": "@jupyter-widgets/base",
          "model_module_version": "1.2.0",
          "model_name": "LayoutModel",
          "state": {
            "_model_module": "@jupyter-widgets/base",
            "_model_module_version": "1.2.0",
            "_model_name": "LayoutModel",
            "_view_count": null,
            "_view_module": "@jupyter-widgets/base",
            "_view_module_version": "1.2.0",
            "_view_name": "LayoutView",
            "align_content": null,
            "align_items": null,
            "align_self": null,
            "border": null,
            "bottom": null,
            "display": null,
            "flex": null,
            "flex_flow": null,
            "grid_area": null,
            "grid_auto_columns": null,
            "grid_auto_flow": null,
            "grid_auto_rows": null,
            "grid_column": null,
            "grid_gap": null,
            "grid_row": null,
            "grid_template_areas": null,
            "grid_template_columns": null,
            "grid_template_rows": null,
            "height": null,
            "justify_content": null,
            "justify_items": null,
            "left": null,
            "margin": null,
            "max_height": null,
            "max_width": null,
            "min_height": null,
            "min_width": null,
            "object_fit": null,
            "object_position": null,
            "order": null,
            "overflow": null,
            "overflow_x": null,
            "overflow_y": null,
            "padding": null,
            "right": null,
            "top": null,
            "visibility": null,
            "width": null
          }
        },
        "915bb226d9f64030869bf0f5e528b540": {
          "model_module": "@jupyter-widgets/controls",
          "model_module_version": "1.5.0",
          "model_name": "DescriptionStyleModel",
          "state": {
            "_model_module": "@jupyter-widgets/controls",
            "_model_module_version": "1.5.0",
            "_model_name": "DescriptionStyleModel",
            "_view_count": null,
            "_view_module": "@jupyter-widgets/base",
            "_view_module_version": "1.2.0",
            "_view_name": "StyleView",
            "description_width": ""
          }
        },
        "998e00396d9f4b44b0fd0f6511f186b9": {
          "model_module": "@jupyter-widgets/base",
          "model_module_version": "1.2.0",
          "model_name": "LayoutModel",
          "state": {
            "_model_module": "@jupyter-widgets/base",
            "_model_module_version": "1.2.0",
            "_model_name": "LayoutModel",
            "_view_count": null,
            "_view_module": "@jupyter-widgets/base",
            "_view_module_version": "1.2.0",
            "_view_name": "LayoutView",
            "align_content": null,
            "align_items": null,
            "align_self": null,
            "border": null,
            "bottom": null,
            "display": null,
            "flex": null,
            "flex_flow": null,
            "grid_area": null,
            "grid_auto_columns": null,
            "grid_auto_flow": null,
            "grid_auto_rows": null,
            "grid_column": null,
            "grid_gap": null,
            "grid_row": null,
            "grid_template_areas": null,
            "grid_template_columns": null,
            "grid_template_rows": null,
            "height": null,
            "justify_content": null,
            "justify_items": null,
            "left": null,
            "margin": null,
            "max_height": null,
            "max_width": null,
            "min_height": null,
            "min_width": null,
            "object_fit": null,
            "object_position": null,
            "order": null,
            "overflow": null,
            "overflow_x": null,
            "overflow_y": null,
            "padding": null,
            "right": null,
            "top": null,
            "visibility": null,
            "width": null
          }
        },
        "a47d6c8f3ddd4ab9bb092fc4f2a45f9b": {
          "model_module": "@jupyter-widgets/controls",
          "model_module_version": "1.5.0",
          "model_name": "DescriptionStyleModel",
          "state": {
            "_model_module": "@jupyter-widgets/controls",
            "_model_module_version": "1.5.0",
            "_model_name": "DescriptionStyleModel",
            "_view_count": null,
            "_view_module": "@jupyter-widgets/base",
            "_view_module_version": "1.2.0",
            "_view_name": "StyleView",
            "description_width": ""
          }
        },
        "a709246670de4feca0f198b616a51631": {
          "model_module": "@jupyter-widgets/base",
          "model_module_version": "1.2.0",
          "model_name": "LayoutModel",
          "state": {
            "_model_module": "@jupyter-widgets/base",
            "_model_module_version": "1.2.0",
            "_model_name": "LayoutModel",
            "_view_count": null,
            "_view_module": "@jupyter-widgets/base",
            "_view_module_version": "1.2.0",
            "_view_name": "LayoutView",
            "align_content": null,
            "align_items": null,
            "align_self": null,
            "border": null,
            "bottom": null,
            "display": null,
            "flex": null,
            "flex_flow": null,
            "grid_area": null,
            "grid_auto_columns": null,
            "grid_auto_flow": null,
            "grid_auto_rows": null,
            "grid_column": null,
            "grid_gap": null,
            "grid_row": null,
            "grid_template_areas": null,
            "grid_template_columns": null,
            "grid_template_rows": null,
            "height": null,
            "justify_content": null,
            "justify_items": null,
            "left": null,
            "margin": null,
            "max_height": null,
            "max_width": null,
            "min_height": null,
            "min_width": null,
            "object_fit": null,
            "object_position": null,
            "order": null,
            "overflow": null,
            "overflow_x": null,
            "overflow_y": null,
            "padding": null,
            "right": null,
            "top": null,
            "visibility": null,
            "width": null
          }
        },
        "b36a51e8f0c944379eeb6a1df8ee141b": {
          "model_module": "@jupyter-widgets/controls",
          "model_module_version": "1.5.0",
          "model_name": "ProgressStyleModel",
          "state": {
            "_model_module": "@jupyter-widgets/controls",
            "_model_module_version": "1.5.0",
            "_model_name": "ProgressStyleModel",
            "_view_count": null,
            "_view_module": "@jupyter-widgets/base",
            "_view_module_version": "1.2.0",
            "_view_name": "StyleView",
            "bar_color": null,
            "description_width": ""
          }
        },
        "c11c19bf6a6a44ccb7d04684a86edd21": {
          "model_module": "@jupyter-widgets/controls",
          "model_module_version": "1.5.0",
          "model_name": "DescriptionStyleModel",
          "state": {
            "_model_module": "@jupyter-widgets/controls",
            "_model_module_version": "1.5.0",
            "_model_name": "DescriptionStyleModel",
            "_view_count": null,
            "_view_module": "@jupyter-widgets/base",
            "_view_module_version": "1.2.0",
            "_view_name": "StyleView",
            "description_width": ""
          }
        },
        "c7f3a7723440459abf0923493e07abaa": {
          "model_module": "@jupyter-widgets/base",
          "model_module_version": "1.2.0",
          "model_name": "LayoutModel",
          "state": {
            "_model_module": "@jupyter-widgets/base",
            "_model_module_version": "1.2.0",
            "_model_name": "LayoutModel",
            "_view_count": null,
            "_view_module": "@jupyter-widgets/base",
            "_view_module_version": "1.2.0",
            "_view_name": "LayoutView",
            "align_content": null,
            "align_items": null,
            "align_self": null,
            "border": null,
            "bottom": null,
            "display": null,
            "flex": null,
            "flex_flow": null,
            "grid_area": null,
            "grid_auto_columns": null,
            "grid_auto_flow": null,
            "grid_auto_rows": null,
            "grid_column": null,
            "grid_gap": null,
            "grid_row": null,
            "grid_template_areas": null,
            "grid_template_columns": null,
            "grid_template_rows": null,
            "height": null,
            "justify_content": null,
            "justify_items": null,
            "left": null,
            "margin": null,
            "max_height": null,
            "max_width": null,
            "min_height": null,
            "min_width": null,
            "object_fit": null,
            "object_position": null,
            "order": null,
            "overflow": null,
            "overflow_x": null,
            "overflow_y": null,
            "padding": null,
            "right": null,
            "top": null,
            "visibility": null,
            "width": null
          }
        },
        "ec974972876c4d0dbe061bba80b8d7ac": {
          "model_module": "@jupyter-widgets/controls",
          "model_module_version": "1.5.0",
          "model_name": "FloatProgressModel",
          "state": {
            "_dom_classes": [],
            "_model_module": "@jupyter-widgets/controls",
            "_model_module_version": "1.5.0",
            "_model_name": "FloatProgressModel",
            "_view_count": null,
            "_view_module": "@jupyter-widgets/controls",
            "_view_module_version": "1.5.0",
            "_view_name": "ProgressView",
            "bar_style": "success",
            "description": "",
            "description_tooltip": null,
            "layout": "IPY_MODEL_86eabbeedb1441849fd9112523efb313",
            "max": 1459,
            "min": 0,
            "orientation": "horizontal",
            "style": "IPY_MODEL_b36a51e8f0c944379eeb6a1df8ee141b",
            "value": 1459
          }
        },
        "f3206d5895d6497eaf3d1da259620a8a": {
          "model_module": "@jupyter-widgets/controls",
          "model_module_version": "1.5.0",
          "model_name": "ProgressStyleModel",
          "state": {
            "_model_module": "@jupyter-widgets/controls",
            "_model_module_version": "1.5.0",
            "_model_name": "ProgressStyleModel",
            "_view_count": null,
            "_view_module": "@jupyter-widgets/base",
            "_view_module_version": "1.2.0",
            "_view_name": "StyleView",
            "bar_color": null,
            "description_width": ""
          }
        },
        "fc3a19bd04c842de852ae6fb3ff361cc": {
          "model_module": "@jupyter-widgets/controls",
          "model_module_version": "1.5.0",
          "model_name": "HTMLModel",
          "state": {
            "_dom_classes": [],
            "_model_module": "@jupyter-widgets/controls",
            "_model_module_version": "1.5.0",
            "_model_name": "HTMLModel",
            "_view_count": null,
            "_view_module": "@jupyter-widgets/controls",
            "_view_module_version": "1.5.0",
            "_view_name": "HTMLView",
            "description": "",
            "description_tooltip": null,
            "layout": "IPY_MODEL_8703dcc6614342abaf885bb04c54f732",
            "placeholder": "​",
            "style": "IPY_MODEL_5d0b69e78af7464095d10b00de066db3",
            "value": "100%"
          }
        }
      }
    }
  },
  "nbformat": 4,
  "nbformat_minor": 0
}
