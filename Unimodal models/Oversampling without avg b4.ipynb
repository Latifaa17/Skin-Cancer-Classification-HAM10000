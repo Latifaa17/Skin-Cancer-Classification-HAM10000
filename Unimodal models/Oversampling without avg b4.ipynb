{
  "cells": [
    {
      "cell_type": "code",
      "execution_count": 1,
      "metadata": {
        "id": "sCTK565r6A2v"
      },
      "outputs": [],
      "source": [
        "! mkdir ~/.kaggle"
      ]
    },
    {
      "cell_type": "code",
      "execution_count": 2,
      "metadata": {
        "id": "PXa_KHa26BtM"
      },
      "outputs": [],
      "source": [
        "! cp kaggle.json ~/.kaggle/"
      ]
    },
    {
      "cell_type": "code",
      "execution_count": 3,
      "metadata": {
        "id": "LF9L5S976B0y"
      },
      "outputs": [],
      "source": [
        "! chmod 600 ~/.kaggle/kaggle.json"
      ]
    },
    {
      "cell_type": "code",
      "execution_count": 4,
      "metadata": {
        "colab": {
          "base_uri": "https://localhost:8080/"
        },
        "id": "TEMb6gf-6CW6",
        "outputId": "97f642a5-cec5-4aed-c3ac-c987ec1c2aed"
      },
      "outputs": [
        {
          "name": "stdout",
          "output_type": "stream",
          "text": [
            "Downloading skin-cancer-mnist-ham10000.zip to /content\n",
            "100% 5.20G/5.20G [00:39<00:00, 134MB/s]\n",
            "100% 5.20G/5.20G [00:39<00:00, 140MB/s]\n"
          ]
        }
      ],
      "source": [
        "!kaggle datasets download kmader/skin-cancer-mnist-ham10000"
      ]
    },
    {
      "cell_type": "code",
      "execution_count": null,
      "metadata": {
        "colab": {
          "base_uri": "https://localhost:8080/"
        },
        "id": "yr3aV4-a6CY1",
        "outputId": "dbfd759c-16a5-4cbc-d204-9ca21c5ef040"
      },
      "outputs": [],
      "source": [
        "!unzip skin-cancer-mnist-ham10000.zip"
      ]
    },
    {
      "cell_type": "code",
      "execution_count": null,
      "metadata": {
        "colab": {
          "base_uri": "https://localhost:8080/"
        },
        "id": "meFwe48r5sEO",
        "outputId": "4fdca78f-20b8-48ae-b93e-3e4f0847d254"
      },
      "outputs": [],
      "source": [
        "!pip install efficientnet_pytorch torchtoolbox"
      ]
    },
    {
      "cell_type": "code",
      "execution_count": 7,
      "metadata": {
        "id": "UfpIUSxC5sEQ"
      },
      "outputs": [],
      "source": [
        "import torch\n",
        "import torchvision\n",
        "from torchvision import models,transforms\n",
        "\n",
        "import torch.nn.functional as F\n",
        "import torch.nn as nn\n",
        "from torchvision import transforms\n",
        "from torch.utils.data import Dataset, DataLoader, Subset\n",
        "from torch.optim.lr_scheduler import ReduceLROnPlateau\n",
        "from sklearn.metrics import accuracy_score, roc_auc_score\n",
        "from sklearn.model_selection import StratifiedKFold, GroupKFold\n",
        "import pandas as pd\n",
        "import numpy as np\n",
        "import gc\n",
        "import os\n",
        "import cv2\n",
        "import time\n",
        "import datetime\n",
        "import warnings\n",
        "import matplotlib.pyplot as plt\n",
        "import seaborn as sns\n",
        "from efficientnet_pytorch import EfficientNet\n",
        "\n",
        "from sklearn.model_selection import train_test_split\n",
        "\n",
        "import torch.nn.functional as F\n",
        "\n",
        "%matplotlib inline"
      ]
    },
    {
      "cell_type": "code",
      "execution_count": 8,
      "metadata": {
        "id": "ghM8s-Bt5sER"
      },
      "outputs": [],
      "source": [
        "# At least fixing some random seeds. \n",
        "# It is still impossible to make results 100% reproducible when using GPU\n",
        "warnings.simplefilter('ignore')\n",
        "torch.manual_seed(47)\n",
        "np.random.seed(47)"
      ]
    },
    {
      "cell_type": "code",
      "execution_count": 9,
      "metadata": {
        "id": "fy7TqjKM5sER"
      },
      "outputs": [],
      "source": [
        "device = torch.device(\"cuda\" if torch.cuda.is_available() else \"cpu\")"
      ]
    },
    {
      "cell_type": "code",
      "execution_count": 10,
      "metadata": {
        "id": "FwZi4xdk5sES"
      },
      "outputs": [],
      "source": [
        "class MelanomaDataset(Dataset):\n",
        "    def __init__(self, df: pd.DataFrame, train: bool = True, transforms = None):\n",
        "        \"\"\"\n",
        "        Class initialization\n",
        "        Args:\n",
        "            df (pd.DataFrame): DataFrame with data description\n",
        "            imfolder (str): folder with images\n",
        "            train (bool): flag of whether a training dataset is being initialized or testing one\n",
        "            transforms: image transformation method to be applied\n",
        "            \n",
        "        \"\"\"\n",
        "        self.df = df\n",
        "        self.path1 = '/content/HAM10000_images_part_1'\n",
        "        self.path2 = '/content/HAM10000_images_part_2'\n",
        "        # self.path1 = '/kaggle/input/skin-cancer-mnist-ham10000/HAM10000_images_part_1'\n",
        "        # self.path2 = '/kaggle/input/skin-cancer-mnist-ham10000/HAM10000_images_part_2'\n",
        "        self.transforms = transforms\n",
        "        self.train = train\n",
        "        \n",
        "    def __getitem__(self, index):\n",
        "        \n",
        "        image_path = os.path.join(self.path1, self.df.iloc[index]['image_id'] + '.jpg')\n",
        "        if os.path.exists(image_path):\n",
        "            image = cv2.imread(image_path)\n",
        "        else:\n",
        "            # If the image is not in part 1, try to load it from part 2\n",
        "            image_path = os.path.join(self.path2, self.df.iloc[index]['image_id'] + '.jpg')\n",
        "            if os.path.exists(image_path):\n",
        "                image = cv2.imread(image_path)\n",
        "\n",
        "        if self.transforms:\n",
        "            x = self.transforms(image)\n",
        "            \n",
        "        if self.train:\n",
        "            y = self.df.loc[index]['target']\n",
        "            return x, y\n",
        "        else:\n",
        "            return x\n",
        "    \n",
        "    def __len__(self):\n",
        "        return len(self.df)\n",
        "    \n",
        "    def _get_label(self, dataset, idx):\n",
        "        return self.df.iloc[idx]['target']\n",
        "    \n",
        "    \n"
      ]
    },
    {
      "cell_type": "code",
      "execution_count": 11,
      "metadata": {
        "id": "rOkvaqlo5sET"
      },
      "outputs": [],
      "source": [
        "train_transform = transforms.Compose([\n",
        "    transforms.ToPILImage(),\n",
        "    #transforms.RandomResizedCrop(size=240, scale=(0.8, 1.0)),\n",
        "    transforms.RandomHorizontalFlip(),\n",
        "    transforms.RandomVerticalFlip(),\n",
        "    transforms.ToTensor(),\n",
        "    transforms.Normalize(mean=[0.485, 0.456, 0.406],std=[0.229, 0.224, 0.225])\n",
        "])\n",
        "test_transform = transforms.Compose([\n",
        "    transforms.ToTensor(),\n",
        "    transforms.Normalize(mean=[0.485, 0.456, 0.406],std=[0.229, 0.224, 0.225])\n",
        "])\n"
      ]
    },
    {
      "cell_type": "code",
      "execution_count": 12,
      "metadata": {
        "colab": {
          "base_uri": "https://localhost:8080/"
        },
        "id": "jx7SotwS5sET",
        "outputId": "ec2b149e-7d36-4a40-ad04-f61888a742df"
      },
      "outputs": [
        {
          "name": "stdout",
          "output_type": "stream",
          "text": [
            "6009\n",
            "2003\n",
            "2003\n"
          ]
        }
      ],
      "source": [
        "df = pd.read_csv('/content/HAM10000_metadata.csv')\n",
        "# df = pd.read_csv('/content/metadata_ABCD.csv')\n",
        "\n",
        "\n",
        "# this will tell us how many images are associated with each lesion_id\n",
        "df_undup = df.groupby('lesion_id').count()\n",
        "# now we filter out lesion_id's that have only one image associated with it\n",
        "df_undup = df_undup[df_undup['image_id'] == 1]\n",
        "df_undup.reset_index(inplace=True)\n",
        "\n",
        "def get_duplicates(x):\n",
        "    unique_list = list(df_undup['lesion_id'])\n",
        "    if x in unique_list:\n",
        "        return 'unduplicated'\n",
        "    else:\n",
        "        return 'duplicated'\n",
        "\n",
        "# create a new colum that is a copy of the lesion_id column\n",
        "df['duplicates'] = df['lesion_id']\n",
        "# apply the function to this new column\n",
        "df['duplicates'] = df['duplicates'].apply(get_duplicates)\n",
        "\n",
        "df_undup  = df[df['duplicates'] == 'unduplicated']\n",
        "\n",
        "#now we create a test set using df_undup because we are sure that none of these images have augmented duplicates in the train set\n",
        "y = df_undup['dx']\n",
        "_, test_df_csv = train_test_split(df_undup, test_size=0.7265, random_state=101, stratify=y)\n",
        "test_df_csv.shape\n",
        "\n",
        "# This set will be df_original excluding all rows that are in the test set\n",
        "# This function identifies if an image is part of the train or test set.\n",
        "def get_test_rows(x):\n",
        "    # create a list of all the lesion_id's in the val test\n",
        "    test_list = list(test_df_csv['image_id'])\n",
        "    if str(x) in test_list:\n",
        "        return 'test'\n",
        "    else:\n",
        "        return 'train'\n",
        "\n",
        "# identify train and test rows\n",
        "# create a new colum that is a copy of the image_id column\n",
        "df['train_or_test'] = df['image_id']\n",
        "# apply the function to this new column\n",
        "df['train_or_test'] = df['train_or_test'].apply(get_test_rows)\n",
        "# filter out train rows\n",
        "train_df_csv = df[df['train_or_test'] == 'train']\n",
        "\n",
        "# Split the test into 50% test and 50% validation\n",
        "test_df, val_df = train_test_split(test_df_csv, test_size=0.5, random_state=101, stratify=test_df_csv['dx'])\n",
        "\n",
        "train_df = train_df_csv\n",
        "print(len(train_df))\n",
        "print(len(val_df))\n",
        "print(len(test_df))"
      ]
    },
    {
      "cell_type": "code",
      "execution_count": 13,
      "metadata": {
        "colab": {
          "base_uri": "https://localhost:8080/"
        },
        "id": "Ol2j5aQg5sEU",
        "outputId": "427a53f2-c237-4525-e387-3b5a89f82482"
      },
      "outputs": [
        {
          "data": {
            "text/plain": [
              "nv       3497\n",
              "mel       946\n",
              "bkl       779\n",
              "bcc       387\n",
              "akiec     217\n",
              "vasc       96\n",
              "df         87\n",
              "Name: dx, dtype: int64"
            ]
          },
          "execution_count": 13,
          "metadata": {},
          "output_type": "execute_result"
        }
      ],
      "source": [
        "train_df.dx.value_counts()"
      ]
    },
    {
      "cell_type": "code",
      "execution_count": 14,
      "metadata": {
        "id": "Uu_0NYKr5sEV"
      },
      "outputs": [],
      "source": [
        "from sklearn.preprocessing import LabelEncoder\n",
        "le = LabelEncoder()\n",
        "train_df['target'] = le.fit_transform(train_df['dx'])\n",
        "val_df['target'] = le.fit_transform(val_df['dx'])\n",
        "test_df['target'] = le.fit_transform(test_df['dx'])"
      ]
    },
    {
      "cell_type": "code",
      "execution_count": 15,
      "metadata": {
        "colab": {
          "base_uri": "https://localhost:8080/"
        },
        "id": "IC4BPcGG5sEV",
        "outputId": "349dadab-2950-41c1-a6ff-4114defd972c"
      },
      "outputs": [
        {
          "data": {
            "text/plain": [
              "5    3497\n",
              "4     946\n",
              "2     779\n",
              "1     387\n",
              "0     217\n",
              "6      96\n",
              "3      87\n",
              "Name: target, dtype: int64"
            ]
          },
          "execution_count": 15,
          "metadata": {},
          "output_type": "execute_result"
        }
      ],
      "source": [
        "train_df.target.value_counts()"
      ]
    },
    {
      "cell_type": "code",
      "execution_count": 16,
      "metadata": {
        "colab": {
          "base_uri": "https://localhost:8080/"
        },
        "id": "05l4y2VP8Y9q",
        "outputId": "19fe5b00-549e-4be4-fb5b-d86171361121"
      },
      "outputs": [
        {
          "name": "stdout",
          "output_type": "stream",
          "text": [
            "5    3497\n",
            "1    3483\n",
            "3    3480\n",
            "0    3472\n",
            "6    3456\n",
            "2    3116\n",
            "4    2838\n",
            "Name: target, dtype: int64\n"
          ]
        }
      ],
      "source": [
        "from collections import Counter\n",
        "from sklearn.utils import resample\n",
        "\n",
        "# Count the number of samples for each class\n",
        "class_counts = Counter(train_df['target'])\n",
        "\n",
        "# Get the size of the majority class\n",
        "majority_class_size = max(class_counts.values())\n",
        "\n",
        "# Oversample minority classes to match the size of the majority class\n",
        "for class_label, class_size in class_counts.items():\n",
        "    if class_label != train_df['target'].mode()[0]:\n",
        "        # Determine the number of times to resample the class\n",
        "        resample_rate = int(majority_class_size / class_size)\n",
        "        \n",
        "        X_subset = train_df[train_df['target'] == class_label].drop(['target'], axis=1)\n",
        "        y_subset = train_df[train_df['target'] == class_label]['target']\n",
        "        \n",
        "        # Resample the class with replacement\n",
        "        X_subset_resampled, y_subset_resampled = resample(X_subset, y_subset, \n",
        "                                                          replace=True, n_samples=(resample_rate-1)*class_size, \n",
        "                                                          random_state=42)\n",
        "        \n",
        "        # Concatenate the resampled data with the original data\n",
        "        train_df = pd.concat([train_df, pd.concat([X_subset_resampled, y_subset_resampled], axis=1)])\n",
        "\n",
        "# Verify that all classes have the same number of samples\n",
        "print(train_df['target'].value_counts())\n"
      ]
    },
    {
      "cell_type": "code",
      "execution_count": 17,
      "metadata": {
        "id": "JK9sia3P5sEW"
      },
      "outputs": [],
      "source": [
        "train_df['sex'] = train_df['sex'].map({'male': 1, 'female': 0})\n",
        "val_df['sex'] = val_df['sex'].map({'male': 1, 'female': 0})\n",
        "test_df['sex'] = test_df['sex'].map({'male': 1, 'female': 0})\n",
        "\n",
        "train_df['sex'] = train_df['sex'].fillna(-1)\n",
        "val_df['sex'] = val_df['sex'].fillna(-1)\n",
        "test_df['sex'] = test_df['sex'].fillna(-1)\n"
      ]
    },
    {
      "cell_type": "code",
      "execution_count": 18,
      "metadata": {
        "id": "DxptncWe5sEX"
      },
      "outputs": [],
      "source": [
        "train_df = pd.get_dummies(train_df, columns=['localization'],prefix='site')\n",
        "val_df = pd.get_dummies(val_df, columns=['localization'],prefix='site')\n",
        "\n",
        "test_df = pd.get_dummies(test_df, columns=['localization'],prefix='site')\n",
        "\n",
        "# adding missing cols to val and test sets\n",
        "val_df = val_df.reindex(columns=train_df.columns, fill_value=0)\n",
        "test_df = test_df.reindex(columns=train_df.columns, fill_value=0)"
      ]
    },
    {
      "cell_type": "code",
      "execution_count": 19,
      "metadata": {
        "id": "mFaOHnUZ5sEX"
      },
      "outputs": [],
      "source": [
        "test = MelanomaDataset(df=test_df,\n",
        "                       train=False,\n",
        "                       transforms=test_transform)"
      ]
    },
    {
      "cell_type": "code",
      "execution_count": 20,
      "metadata": {
        "id": "zYSNkJCR5sEX"
      },
      "outputs": [],
      "source": [
        "    \n",
        "class Net(nn.Module):\n",
        "    def __init__(self,b1 = False, b4 = False):\n",
        "        super(Net, self).__init__()\n",
        "        self.b1 = b1\n",
        "        self.b4 = b4\n",
        "        if self.b1:\n",
        "            self.arch = EfficientNet.from_pretrained('efficientnet-b1')\n",
        "            self.arch._fc = nn.Linear(in_features=1280, out_features=7, bias=True)\n",
        "            \n",
        "        elif self.b4:\n",
        "            self.arch = EfficientNet.from_pretrained('efficientnet-b4')\n",
        "            self.arch._fc = nn.Linear(in_features=1792, out_features=7, bias=True)\n",
        "\n",
        "        \n",
        "    def forward(self, x):\n",
        "        x = self.arch(x)\n",
        "        return x"
      ]
    },
    {
      "cell_type": "code",
      "execution_count": 21,
      "metadata": {
        "id": "2jjM0jkw5sEY"
      },
      "outputs": [],
      "source": [
        "# class Net(nn.Module):\n",
        "#     def __init__(self,b1 = False, b4 = False):\n",
        "#         super(Net, self).__init__()\n",
        "#         self.b1 = b1\n",
        "#         self.b4 = b4\n",
        "        \n",
        "#         if self.b1:\n",
        "#             self.features = EfficientNet.from_pretrained('efficientnet-b1')\n",
        "#             self.classification = nn.Sequential(nn.Linear(1280, 7))  \n",
        "#         elif self.b4:\n",
        "#             self.features = EfficientNet.from_pretrained('efficientnet-b4')\n",
        "#             self.classification = nn.Sequential(nn.Linear(1792, 7))  \n",
        "\n",
        "        \n",
        "#     def forward(self, x):\n",
        "#         x = self.features.extract_features(x)\n",
        "        \n",
        "#         if self.b1:\n",
        "#             x = F.avg_pool2d(x, x.size()[2:]).reshape(-1, 1280)\n",
        "#         elif self.b4:\n",
        "#             x = F.avg_pool2d(x, x.size()[2:]).reshape(-1, 1792)       \n",
        "        \n",
        "#         out = self.classification(x)\n",
        "#         return out"
      ]
    },
    {
      "cell_type": "code",
      "execution_count": 22,
      "metadata": {
        "id": "6hdj48XT5sEY"
      },
      "outputs": [],
      "source": [
        "epochs = 3  # Number of epochs to run\n",
        "model_path = 'model.pth'  # Path and filename to save model to\n",
        "es_patience = 3  # Early Stopping patience - for how many epochs with no improvements to wait\n",
        "TTA = 3 # Test Time Augmentation \n",
        "\n",
        "oof = np.zeros((len(train_df), 7))  # Out Of Fold predictions\n"
      ]
    },
    {
      "cell_type": "code",
      "execution_count": 23,
      "metadata": {
        "id": "2GHilkKY5sEY"
      },
      "outputs": [],
      "source": [
        "from tqdm import tqdm\n",
        "import tqdm.notebook as tq\n",
        "import torch.nn.functional as F\n",
        "from sklearn.utils.class_weight import compute_class_weight"
      ]
    },
    {
      "cell_type": "code",
      "execution_count": 24,
      "metadata": {
        "id": "EE70iXC65sEZ"
      },
      "outputs": [],
      "source": [
        "# Define Focal loss implementation\n",
        "class FocalLoss(nn.Module):\n",
        "    def __init__(self, gamma=2, alpha=None, reduction='mean'):\n",
        "        super(FocalLoss, self).__init__()\n",
        "        self.gamma = gamma\n",
        "        self.alpha = alpha\n",
        "        if isinstance(alpha,(float,int)): self.alpha = torch.Tensor([alpha,1-alpha])\n",
        "        if isinstance(alpha,list): self.alpha = torch.Tensor(alpha)\n",
        "        self.reduction = reduction\n",
        "\n",
        "    def forward(self, inputs, targets):\n",
        "        CE_loss = F.cross_entropy(inputs, targets, reduction=self.reduction, weight=self.alpha)\n",
        "        pt = torch.exp(-CE_loss)\n",
        "        F_loss = ((1-pt)**self.gamma) * CE_loss\n",
        "        if self.reduction == 'mean': return F_loss.mean()\n",
        "        else: return F_loss.sum()"
      ]
    },
    {
      "cell_type": "code",
      "execution_count": 25,
      "metadata": {
        "colab": {
          "base_uri": "https://localhost:8080/",
          "height": 269,
          "referenced_widgets": [
            "f375438d51164edf8682c182d7870084",
            "ec2614449f24492d9f416714bd9814bc",
            "94f2903c9a2c46a9a59f9c2f475cd277",
            "b1368dfb6e5c4f26b122a7e407dbde0a",
            "f2ca752e4b90403ca516dba30b33f3cb",
            "082f61e749d94371984743167134baba",
            "051a063782da4d72abfd3f178b772312",
            "e5403bfe84744d0b85216737922826e6",
            "7a2a16f845794238800f3e7cf78c53a7",
            "c242b732aab148949a96baf1d784113a",
            "5818505c1fd241398789a6b6ca95381a",
            "1f558b9bad0b4992924fcd7d13002ca6",
            "aa85ffbd52a84cf8bda272b71138f2c4",
            "fc085e2c4c9441edbf6f93fd08e44227",
            "41c4c1c1b4f4492494d742a50ff7a088",
            "f1bff390cc574261b27e4c34c669dab7",
            "bb6040df97a64d3eb1d42d3fe0bae00a",
            "7ed28c6dc6e94651a2f7a45d36ce7aa6",
            "377d223227474426983a34148dc7045c",
            "6cf394d274f44a71808fc365c703f13c",
            "e6912650bbac4d4181950757e092a5c2",
            "8b8146407fcb412c9728976b555e457d",
            "e08edf68601c45bf813ddea034874e48",
            "2bf908a0b66e479eae153973284325eb",
            "78043eb511ea4482817c96e048ec435e",
            "82d4e49f7e94417bb8fd5f4ee082b871",
            "7badff3cdaf2428b8827d3cd46b2ad28",
            "4206d575b59d4ffebc4a59e2d64f1ff0",
            "e1a154135a724f5198593d3484661c97",
            "945e196415134ac68257d829008e06d7",
            "687aad2901c84d819209ed1338dbcb6d",
            "71af7098e7de47e180c429d97a412756",
            "5e4008248a204d9ab0282c2c903d0e39"
          ]
        },
        "id": "07oEsQMs5sEZ",
        "outputId": "b5020066-7551-4554-e3ad-3ee0629befb8"
      },
      "outputs": [
        {
          "name": "stderr",
          "output_type": "stream",
          "text": [
            "Downloading: \"https://github.com/lukemelas/EfficientNet-PyTorch/releases/download/1.0/efficientnet-b4-6ed6700e.pth\" to /root/.cache/torch/hub/checkpoints/efficientnet-b4-6ed6700e.pth\n",
            "100%|██████████| 74.4M/74.4M [00:00<00:00, 206MB/s]\n"
          ]
        },
        {
          "name": "stdout",
          "output_type": "stream",
          "text": [
            "Loaded pretrained weights for efficientnet-b4\n"
          ]
        },
        {
          "name": "stderr",
          "output_type": "stream",
          "text": [
            "\r  0%|          | 0/3 [00:00<?, ?it/s]"
          ]
        },
        {
          "data": {
            "application/vnd.jupyter.widget-view+json": {
              "model_id": "f375438d51164edf8682c182d7870084",
              "version_major": 2,
              "version_minor": 0
            },
            "text/plain": [
              "  0%|          | 0/2918 [00:00<?, ?it/s]"
            ]
          },
          "metadata": {},
          "output_type": "display_data"
        },
        {
          "name": "stderr",
          "output_type": "stream",
          "text": [
            "\r 33%|███▎      | 1/3 [41:37<1:23:14, 2497.39s/it]"
          ]
        },
        {
          "name": "stdout",
          "output_type": "stream",
          "text": [
            "Epoch 001: | Loss: 0.515 | Train acc: 0.824 | Val acc: 0.841 | Val roc_auc: 0.958 | Training time: 0:41:37\n"
          ]
        },
        {
          "data": {
            "application/vnd.jupyter.widget-view+json": {
              "model_id": "1f558b9bad0b4992924fcd7d13002ca6",
              "version_major": 2,
              "version_minor": 0
            },
            "text/plain": [
              "  0%|          | 0/2918 [00:00<?, ?it/s]"
            ]
          },
          "metadata": {},
          "output_type": "display_data"
        },
        {
          "name": "stdout",
          "output_type": "stream",
          "text": [
            "Epoch 002: | Loss: 0.186 | Train acc: 0.940 | Val acc: 0.935 | Val roc_auc: 0.980 | Training time: 0:41:25\n"
          ]
        },
        {
          "name": "stderr",
          "output_type": "stream",
          "text": [
            "\r 67%|██████▋   | 2/3 [1:23:02<41:30, 2490.37s/it]"
          ]
        },
        {
          "data": {
            "application/vnd.jupyter.widget-view+json": {
              "model_id": "e08edf68601c45bf813ddea034874e48",
              "version_major": 2,
              "version_minor": 0
            },
            "text/plain": [
              "  0%|          | 0/2918 [00:00<?, ?it/s]"
            ]
          },
          "metadata": {},
          "output_type": "display_data"
        },
        {
          "name": "stdout",
          "output_type": "stream",
          "text": [
            "Epoch 003: | Loss: 0.110 | Train acc: 0.965 | Val acc: 0.929 | Val roc_auc: 0.983 | Training time: 0:41:21\n"
          ]
        },
        {
          "name": "stderr",
          "output_type": "stream",
          "text": [
            "100%|██████████| 3/3 [2:04:24<00:00, 2488.32s/it]\n"
          ]
        }
      ],
      "source": [
        "\n",
        "best_val = None  # Best validation score within this fold\n",
        "patience = es_patience  # Current patience counter\n",
        "#     arch = EfficientNet.from_pretrained('efficientnet-b1')\n",
        "#     arch = models.resnet50(pretrained=True)\n",
        "\n",
        "\n",
        "model = Net(b4=True)  # New model for each fold\n",
        "model = model.to(device)\n",
        "\n",
        "#giving more importance to mel\n",
        "\n",
        "# Define weight factors\n",
        "class_factor_interest = 2.0\n",
        "class_factor_minority = 1.0\n",
        "class_factor_majority = 0.5\n",
        "\n",
        "# Get class labels and weights\n",
        "class_labels = np.unique(train_df['target'])\n",
        "class_weights_all = compute_class_weight('balanced', classes=class_labels, y=train_df['target'])\n",
        "\n",
        "# Modify class weights to reflect weight factors\n",
        "class_weights = np.zeros_like(class_weights_all)\n",
        "for i, weight in enumerate(class_weights_all):\n",
        "    if class_labels[i] == 4:  # class of interest\n",
        "        class_weights[i] = weight * class_factor_interest\n",
        "    elif weight == np.max(class_weights_all):  # majority class\n",
        "        class_weights[i] = weight * class_factor_majority\n",
        "    else:  # minority class\n",
        "        class_weights[i] = weight * class_factor_minority\n",
        "\n",
        "# Convert class weights to PyTorch tensor\n",
        "class_weights = torch.tensor(class_weights, dtype=torch.float32).to(device)\n",
        "\n",
        "# Initialize Focal loss object\n",
        "focal_loss = FocalLoss(gamma=2, alpha=class_weights)\n",
        "\n",
        "\n",
        "optim = torch.optim.Adam(model.parameters(), lr=0.0001)\n",
        "scheduler = ReduceLROnPlateau(optimizer=optim, mode='max', patience=1, verbose=True, factor=0.4)\n",
        "criterion = nn.CrossEntropyLoss(weight=class_weights)\n",
        "\n",
        "train = MelanomaDataset(df=train_df.reset_index(drop=True), \n",
        "                        train=True, \n",
        "                        transforms=train_transform)\n",
        "val = MelanomaDataset(df=val_df.reset_index(drop=True), \n",
        "                        train=True, \n",
        "                        transforms=test_transform)\n",
        "\n",
        "train_loader = DataLoader(dataset=train, batch_size=8, shuffle=True, num_workers=0)\n",
        "val_loader = DataLoader(dataset=val, batch_size=4, shuffle=False, num_workers=0)\n",
        "test_loader = DataLoader(dataset=test, batch_size=4, shuffle=False, num_workers=0)\n",
        "\n",
        "for epoch in tqdm(range(epochs)):\n",
        "    start_time = time.time()\n",
        "    correct = 0\n",
        "    epoch_loss = 0\n",
        "    model.train()\n",
        "\n",
        "    for x, y in tq.tqdm(train_loader):\n",
        "        x = torch.tensor(x, device=device, dtype=torch.float32)\n",
        "        y = torch.tensor(y, device=device, dtype=torch.long)\n",
        "        optim.zero_grad()\n",
        "        z = model(x)\n",
        "        # loss =  focal_loss(z, y)\n",
        "        loss =  criterion(z, y)\n",
        "        loss.backward()\n",
        "        optim.step()\n",
        "        pred = torch.argmax(z, dim=1)  # get the index of the highest value in out\n",
        "        correct += (pred.cpu() == y.cpu()).sum().item()  # tracking number of correctly predicted samples\n",
        "        epoch_loss += loss.item()\n",
        "    train_acc = correct / len(train_df)\n",
        "\n",
        "    model.eval()  # switch model to the evaluation mode\n",
        "    val_preds = torch.zeros((len(val_df), 7), dtype=torch.float32, device=device)\n",
        "    with torch.no_grad():  # Do not calculate gradient since we are only predicting\n",
        "        # Predicting on validation set\n",
        "        for j, (x_val, y_val) in enumerate(val_loader):\n",
        "            x_val = torch.tensor(x_val, device=device, dtype=torch.float32)\n",
        "            y_val = torch.tensor(y_val, device=device, dtype=torch.long)\n",
        "            z_val = model(x_val)\n",
        "            val_pred = torch.softmax(z_val, dim=1) # use softmax to convert logits to probabilities\n",
        "            val_preds[j*x_val.shape[0]:j*x_val.shape[0] + x_val.shape[0]] = val_pred\n",
        "\n",
        "        val_preds = torch.softmax(val_preds, dim=1) # use softmax to convert logits to probabilities\n",
        "        val_acc = accuracy_score(val_df['target'].values, torch.argmax(val_preds.cpu(), dim=1))\n",
        "        val_preds = val_preds.cpu().detach().numpy()\n",
        "        val_preds = val_preds.reshape(-1, 7) # reshape val_preds to a 2D tensor\n",
        "\n",
        "        val_roc = roc_auc_score(val_df['target'].values, val_preds, multi_class='ovr')\n",
        "\n",
        "\n",
        "        print('Epoch {:03}: | Loss: {:.3f} | Train acc: {:.3f} | Val acc: {:.3f} | Val roc_auc: {:.3f} | Training time: {}'.format(\n",
        "        epoch + 1, \n",
        "        epoch_loss/len(train_loader), \n",
        "        train_acc, \n",
        "        val_acc, \n",
        "        val_roc, \n",
        "        str(datetime.timedelta(seconds=time.time() - start_time))[:7]))\n",
        "\n",
        "        scheduler.step(val_roc)\n",
        "        # During the first iteration (first epoch) best validation is set to None\n",
        "        if not best_val:\n",
        "            best_val = val_roc  # So any validation roc_auc we have is the best one for now\n",
        "            torch.save(model, model_path)  # Saving the model\n",
        "            continue\n",
        "\n",
        "        if val_roc >= best_val:\n",
        "            best_val = val_roc\n",
        "            patience = es_patience  # Resetting patience since we have new best validation accuracy\n",
        "            torch.save(model, model_path)  # Saving current best model\n",
        "        else:\n",
        "            patience -= 1\n",
        "            if patience == 0:\n",
        "                print('Early stopping. Best Val roc_auc: {:.3f}'.format(best_val))\n",
        "                break\n",
        "\n"
      ]
    },
    {
      "cell_type": "code",
      "execution_count": 26,
      "metadata": {
        "id": "md05GYfh5sEa"
      },
      "outputs": [],
      "source": [
        "test_loader = DataLoader(dataset=test, batch_size=4, shuffle=False,num_workers=0)"
      ]
    },
    {
      "cell_type": "code",
      "execution_count": 27,
      "metadata": {
        "colab": {
          "base_uri": "https://localhost:8080/"
        },
        "id": "kFhUexd15sEa",
        "outputId": "d80a86a9-8da8-4e63-dfdb-6d29478b6784"
      },
      "outputs": [
        {
          "data": {
            "text/plain": [
              "nv       1604\n",
              "bkl       160\n",
              "mel        83\n",
              "bcc        64\n",
              "akiec      55\n",
              "vasc       23\n",
              "df         14\n",
              "Name: dx, dtype: int64"
            ]
          },
          "execution_count": 27,
          "metadata": {},
          "output_type": "execute_result"
        }
      ],
      "source": [
        "test_df.dx.value_counts()"
      ]
    },
    {
      "cell_type": "code",
      "execution_count": 28,
      "metadata": {
        "id": "Nz7Nhf795sEa"
      },
      "outputs": [],
      "source": [
        "model = torch.load('./model.pth')\n",
        "model.eval()  # switch model to the evaluation mode\n",
        "preds = torch.zeros((len(test), 7), dtype=torch.float32, device=device)\n",
        "with torch.no_grad():\n",
        "\n",
        "  for i, x_test in enumerate(test_loader):  \n",
        "      x_test = torch.tensor(x_test, device=device, dtype=torch.float32)\n",
        "      z_test = model(x_test)\n",
        "      val_pred = torch.softmax(z_test, dim=1) # use softmax to convert logits to probabilities\n",
        "\n",
        "      preds[i*x_test.shape[0]:i*x_test.shape[0] + x_test.shape[0]] += z_test\n",
        "\n",
        "            \n",
        "  gc.collect()   \n",
        "           \n"
      ]
    },
    {
      "cell_type": "code",
      "execution_count": 29,
      "metadata": {
        "id": "dSxtF-Lh5sEb"
      },
      "outputs": [],
      "source": [
        "from sklearn.metrics import accuracy_score, precision_score,recall_score, f1_score\n",
        "\n",
        "from sklearn.preprocessing import LabelBinarizer\n",
        "\n",
        "# Convert the target data to one-hot encoded format\n",
        "lb = LabelBinarizer()\n",
        "test_labels = lb.fit_transform(test_df['target'])\n",
        "\n",
        "# Get predictions for the test set\n",
        "test_preds = preds.cpu()\n",
        "\n",
        "# Convert the predictions to one-hot encoded format if needed\n",
        "if len(test_preds.shape) > 1 and test_preds.shape[1] > 1:\n",
        "    test_preds = np.argmax(test_preds, axis=1)\n",
        "    test_preds = lb.transform(test_preds)\n",
        "\n",
        "# Calculate metrics\n",
        "acc = accuracy_score(test_labels, test_preds)\n",
        "prec = precision_score(test_labels, test_preds, average='macro')\n",
        "rec = recall_score(test_labels, test_preds, average='macro')\n",
        "f1 = f1_score(test_labels, test_preds, average='macro')\n",
        "roc = roc_auc_score(test_labels, test_preds, multi_class='ovr')\n"
      ]
    },
    {
      "cell_type": "code",
      "execution_count": 30,
      "metadata": {
        "colab": {
          "base_uri": "https://localhost:8080/"
        },
        "id": "wHeiiPzY5sEb",
        "outputId": "34ff3733-09ba-4af2-91f4-421da8c03466"
      },
      "outputs": [
        {
          "name": "stdout",
          "output_type": "stream",
          "text": [
            "acc  0.9206190713929107\n",
            "prec  0.7627460668369246\n",
            "rec  0.7460772248106418\n",
            "f1  0.7490862732386808\n",
            "roc  0.8601237929857489\n"
          ]
        }
      ],
      "source": [
        "print(\"acc \", acc)\n",
        "print(\"prec \",prec)\n",
        "print(\"rec \",rec)\n",
        "print(\"f1 \",f1)\n",
        "print(\"roc \",roc)"
      ]
    },
    {
      "cell_type": "code",
      "execution_count": 31,
      "metadata": {
        "colab": {
          "base_uri": "https://localhost:8080/",
          "height": 472
        },
        "id": "5IumPhoj5sEb",
        "outputId": "fd95744a-ecf8-481e-dbed-1480832cdf6c"
      },
      "outputs": [
        {
          "data": {
            "image/png": "[encoded data removed]",
            "text/plain": [
              "<Figure size 640x480 with 2 Axes>"
            ]
          },
          "metadata": {},
          "output_type": "display_data"
        }
      ],
      "source": [
        "from sklearn.metrics import confusion_matrix\n",
        "\n",
        "import seaborn as sns\n",
        "import matplotlib.pyplot as plt\n",
        "\n",
        "# Generate the confusion matrix\n",
        "conf_matrix = confusion_matrix(test_labels.argmax(axis=1), test_preds.argmax(axis=1))\n",
        "\n",
        "# Create a heatmap of the confusion matrix\n",
        "sns.heatmap(conf_matrix, annot=True, fmt='d', cmap='Blues')\n",
        "\n",
        "# Set the axis labels and title\n",
        "plt.xlabel('Predicted Label')\n",
        "plt.ylabel('True Label')\n",
        "plt.title('Confusion Matrix')\n",
        "\n",
        "# Display the plot\n",
        "plt.show()\n"
      ]
    },
    {
      "cell_type": "code",
      "execution_count": 32,
      "metadata": {
        "colab": {
          "base_uri": "https://localhost:8080/"
        },
        "id": "2H-1VrCk5sEb",
        "outputId": "e3484f7c-1e1e-46e6-9551-636fbb614745"
      },
      "outputs": [
        {
          "name": "stdout",
          "output_type": "stream",
          "text": [
            "False Negative Rate for mel: 36.14%\n"
          ]
        }
      ],
      "source": [
        "# Extract the row and column corresponding to class 4: mel\n",
        "class_idx = 4\n",
        "fn = conf_matrix[class_idx, :].sum() - conf_matrix[class_idx, class_idx]\n",
        "\n",
        "# Calculate the percentage of instances from class 4 that were classified as another class\n",
        "fn_percent = (fn / conf_matrix[class_idx, :].sum()) * 100\n",
        "\n",
        "# Print the results\n",
        "print(f\"False Negative Rate for mel: {fn_percent:.2f}%\")"
      ]
    },
    {
      "cell_type": "code",
      "execution_count": 32,
      "metadata": {
        "id": "Ju2A8qGm5sEc"
      },
      "outputs": [],
      "source": []
    },
    {
      "cell_type": "code",
      "execution_count": null,
      "metadata": {
        "id": "do1g9qjF5sEc"
      },
      "outputs": [],
      "source": []
    }
  ],
  "metadata": {
    "accelerator": "GPU",
    "colab": {
      "machine_shape": "hm",
      "provenance": []
    },
    "gpuClass": "standard",
    "kernelspec": {
      "display_name": "Python 3",
      "language": "python",
      "name": "python3"
    },
    "language_info": {
      "codemirror_mode": {
        "name": "ipython",
        "version": 3
      },
      "file_extension": ".py",
      "mimetype": "text/x-python",
      "name": "python",
      "nbconvert_exporter": "python",
      "pygments_lexer": "ipython3",
      "version": "3.7.6"
    },
    "widgets": {
      "application/vnd.jupyter.widget-state+json": {
        "051a063782da4d72abfd3f178b772312": {
          "model_module": "@jupyter-widgets/controls",
          "model_module_version": "1.5.0",
          "model_name": "DescriptionStyleModel",
          "state": {
            "_model_module": "@jupyter-widgets/controls",
            "_model_module_version": "1.5.0",
            "_model_name": "DescriptionStyleModel",
            "_view_count": null,
            "_view_module": "@jupyter-widgets/base",
            "_view_module_version": "1.2.0",
            "_view_name": "StyleView",
            "description_width": ""
          }
        },
        "082f61e749d94371984743167134baba": {
          "model_module": "@jupyter-widgets/base",
          "model_module_version": "1.2.0",
          "model_name": "LayoutModel",
          "state": {
            "_model_module": "@jupyter-widgets/base",
            "_model_module_version": "1.2.0",
            "_model_name": "LayoutModel",
            "_view_count": null,
            "_view_module": "@jupyter-widgets/base",
            "_view_module_version": "1.2.0",
            "_view_name": "LayoutView",
            "align_content": null,
            "align_items": null,
            "align_self": null,
            "border": null,
            "bottom": null,
            "display": null,
            "flex": null,
            "flex_flow": null,
            "grid_area": null,
            "grid_auto_columns": null,
            "grid_auto_flow": null,
            "grid_auto_rows": null,
            "grid_column": null,
            "grid_gap": null,
            "grid_row": null,
            "grid_template_areas": null,
            "grid_template_columns": null,
            "grid_template_rows": null,
            "height": null,
            "justify_content": null,
            "justify_items": null,
            "left": null,
            "margin": null,
            "max_height": null,
            "max_width": null,
            "min_height": null,
            "min_width": null,
            "object_fit": null,
            "object_position": null,
            "order": null,
            "overflow": null,
            "overflow_x": null,
            "overflow_y": null,
            "padding": null,
            "right": null,
            "top": null,
            "visibility": null,
            "width": null
          }
        },
        "1f558b9bad0b4992924fcd7d13002ca6": {
          "model_module": "@jupyter-widgets/controls",
          "model_module_version": "1.5.0",
          "model_name": "HBoxModel",
          "state": {
            "_dom_classes": [],
            "_model_module": "@jupyter-widgets/controls",
            "_model_module_version": "1.5.0",
            "_model_name": "HBoxModel",
            "_view_count": null,
            "_view_module": "@jupyter-widgets/controls",
            "_view_module_version": "1.5.0",
            "_view_name": "HBoxView",
            "box_style": "",
            "children": [
              "IPY_MODEL_aa85ffbd52a84cf8bda272b71138f2c4",
              "IPY_MODEL_fc085e2c4c9441edbf6f93fd08e44227",
              "IPY_MODEL_41c4c1c1b4f4492494d742a50ff7a088"
            ],
            "layout": "IPY_MODEL_f1bff390cc574261b27e4c34c669dab7"
          }
        },
        "2bf908a0b66e479eae153973284325eb": {
          "model_module": "@jupyter-widgets/controls",
          "model_module_version": "1.5.0",
          "model_name": "HTMLModel",
          "state": {
            "_dom_classes": [],
            "_model_module": "@jupyter-widgets/controls",
            "_model_module_version": "1.5.0",
            "_model_name": "HTMLModel",
            "_view_count": null,
            "_view_module": "@jupyter-widgets/controls",
            "_view_module_version": "1.5.0",
            "_view_name": "HTMLView",
            "description": "",
            "description_tooltip": null,
            "layout": "IPY_MODEL_4206d575b59d4ffebc4a59e2d64f1ff0",
            "placeholder": "​",
            "style": "IPY_MODEL_e1a154135a724f5198593d3484661c97",
            "value": "100%"
          }
        },
        "377d223227474426983a34148dc7045c": {
          "model_module": "@jupyter-widgets/base",
          "model_module_version": "1.2.0",
          "model_name": "LayoutModel",
          "state": {
            "_model_module": "@jupyter-widgets/base",
            "_model_module_version": "1.2.0",
            "_model_name": "LayoutModel",
            "_view_count": null,
            "_view_module": "@jupyter-widgets/base",
            "_view_module_version": "1.2.0",
            "_view_name": "LayoutView",
            "align_content": null,
            "align_items": null,
            "align_self": null,
            "border": null,
            "bottom": null,
            "display": null,
            "flex": null,
            "flex_flow": null,
            "grid_area": null,
            "grid_auto_columns": null,
            "grid_auto_flow": null,
            "grid_auto_rows": null,
            "grid_column": null,
            "grid_gap": null,
            "grid_row": null,
            "grid_template_areas": null,
            "grid_template_columns": null,
            "grid_template_rows": null,
            "height": null,
            "justify_content": null,
            "justify_items": null,
            "left": null,
            "margin": null,
            "max_height": null,
            "max_width": null,
            "min_height": null,
            "min_width": null,
            "object_fit": null,
            "object_position": null,
            "order": null,
            "overflow": null,
            "overflow_x": null,
            "overflow_y": null,
            "padding": null,
            "right": null,
            "top": null,
            "visibility": null,
            "width": null
          }
        },
        "41c4c1c1b4f4492494d742a50ff7a088": {
          "model_module": "@jupyter-widgets/controls",
          "model_module_version": "1.5.0",
          "model_name": "HTMLModel",
          "state": {
            "_dom_classes": [],
            "_model_module": "@jupyter-widgets/controls",
            "_model_module_version": "1.5.0",
            "_model_name": "HTMLModel",
            "_view_count": null,
            "_view_module": "@jupyter-widgets/controls",
            "_view_module_version": "1.5.0",
            "_view_name": "HTMLView",
            "description": "",
            "description_tooltip": null,
            "layout": "IPY_MODEL_e6912650bbac4d4181950757e092a5c2",
            "placeholder": "​",
            "style": "IPY_MODEL_8b8146407fcb412c9728976b555e457d",
            "value": " 2918/2918 [40:34&lt;00:00,  1.29it/s]"
          }
        },
        "4206d575b59d4ffebc4a59e2d64f1ff0": {
          "model_module": "@jupyter-widgets/base",
          "model_module_version": "1.2.0",
          "model_name": "LayoutModel",
          "state": {
            "_model_module": "@jupyter-widgets/base",
            "_model_module_version": "1.2.0",
            "_model_name": "LayoutModel",
            "_view_count": null,
            "_view_module": "@jupyter-widgets/base",
            "_view_module_version": "1.2.0",
            "_view_name": "LayoutView",
            "align_content": null,
            "align_items": null,
            "align_self": null,
            "border": null,
            "bottom": null,
            "display": null,
            "flex": null,
            "flex_flow": null,
            "grid_area": null,
            "grid_auto_columns": null,
            "grid_auto_flow": null,
            "grid_auto_rows": null,
            "grid_column": null,
            "grid_gap": null,
            "grid_row": null,
            "grid_template_areas": null,
            "grid_template_columns": null,
            "grid_template_rows": null,
            "height": null,
            "justify_content": null,
            "justify_items": null,
            "left": null,
            "margin": null,
            "max_height": null,
            "max_width": null,
            "min_height": null,
            "min_width": null,
            "object_fit": null,
            "object_position": null,
            "order": null,
            "overflow": null,
            "overflow_x": null,
            "overflow_y": null,
            "padding": null,
            "right": null,
            "top": null,
            "visibility": null,
            "width": null
          }
        },
        "5818505c1fd241398789a6b6ca95381a": {
          "model_module": "@jupyter-widgets/controls",
          "model_module_version": "1.5.0",
          "model_name": "DescriptionStyleModel",
          "state": {
            "_model_module": "@jupyter-widgets/controls",
            "_model_module_version": "1.5.0",
            "_model_name": "DescriptionStyleModel",
            "_view_count": null,
            "_view_module": "@jupyter-widgets/base",
            "_view_module_version": "1.2.0",
            "_view_name": "StyleView",
            "description_width": ""
          }
        },
        "5e4008248a204d9ab0282c2c903d0e39": {
          "model_module": "@jupyter-widgets/controls",
          "model_module_version": "1.5.0",
          "model_name": "DescriptionStyleModel",
          "state": {
            "_model_module": "@jupyter-widgets/controls",
            "_model_module_version": "1.5.0",
            "_model_name": "DescriptionStyleModel",
            "_view_count": null,
            "_view_module": "@jupyter-widgets/base",
            "_view_module_version": "1.2.0",
            "_view_name": "StyleView",
            "description_width": ""
          }
        },
        "687aad2901c84d819209ed1338dbcb6d": {
          "model_module": "@jupyter-widgets/controls",
          "model_module_version": "1.5.0",
          "model_name": "ProgressStyleModel",
          "state": {
            "_model_module": "@jupyter-widgets/controls",
            "_model_module_version": "1.5.0",
            "_model_name": "ProgressStyleModel",
            "_view_count": null,
            "_view_module": "@jupyter-widgets/base",
            "_view_module_version": "1.2.0",
            "_view_name": "StyleView",
            "bar_color": null,
            "description_width": ""
          }
        },
        "6cf394d274f44a71808fc365c703f13c": {
          "model_module": "@jupyter-widgets/controls",
          "model_module_version": "1.5.0",
          "model_name": "ProgressStyleModel",
          "state": {
            "_model_module": "@jupyter-widgets/controls",
            "_model_module_version": "1.5.0",
            "_model_name": "ProgressStyleModel",
            "_view_count": null,
            "_view_module": "@jupyter-widgets/base",
            "_view_module_version": "1.2.0",
            "_view_name": "StyleView",
            "bar_color": null,
            "description_width": ""
          }
        },
        "71af7098e7de47e180c429d97a412756": {
          "model_module": "@jupyter-widgets/base",
          "model_module_version": "1.2.0",
          "model_name": "LayoutModel",
          "state": {
            "_model_module": "@jupyter-widgets/base",
            "_model_module_version": "1.2.0",
            "_model_name": "LayoutModel",
            "_view_count": null,
            "_view_module": "@jupyter-widgets/base",
            "_view_module_version": "1.2.0",
            "_view_name": "LayoutView",
            "align_content": null,
            "align_items": null,
            "align_self": null,
            "border": null,
            "bottom": null,
            "display": null,
            "flex": null,
            "flex_flow": null,
            "grid_area": null,
            "grid_auto_columns": null,
            "grid_auto_flow": null,
            "grid_auto_rows": null,
            "grid_column": null,
            "grid_gap": null,
            "grid_row": null,
            "grid_template_areas": null,
            "grid_template_columns": null,
            "grid_template_rows": null,
            "height": null,
            "justify_content": null,
            "justify_items": null,
            "left": null,
            "margin": null,
            "max_height": null,
            "max_width": null,
            "min_height": null,
            "min_width": null,
            "object_fit": null,
            "object_position": null,
            "order": null,
            "overflow": null,
            "overflow_x": null,
            "overflow_y": null,
            "padding": null,
            "right": null,
            "top": null,
            "visibility": null,
            "width": null
          }
        },
        "78043eb511ea4482817c96e048ec435e": {
          "model_module": "@jupyter-widgets/controls",
          "model_module_version": "1.5.0",
          "model_name": "FloatProgressModel",
          "state": {
            "_dom_classes": [],
            "_model_module": "@jupyter-widgets/controls",
            "_model_module_version": "1.5.0",
            "_model_name": "FloatProgressModel",
            "_view_count": null,
            "_view_module": "@jupyter-widgets/controls",
            "_view_module_version": "1.5.0",
            "_view_name": "ProgressView",
            "bar_style": "success",
            "description": "",
            "description_tooltip": null,
            "layout": "IPY_MODEL_945e196415134ac68257d829008e06d7",
            "max": 2918,
            "min": 0,
            "orientation": "horizontal",
            "style": "IPY_MODEL_687aad2901c84d819209ed1338dbcb6d",
            "value": 2918
          }
        },
        "7a2a16f845794238800f3e7cf78c53a7": {
          "model_module": "@jupyter-widgets/controls",
          "model_module_version": "1.5.0",
          "model_name": "ProgressStyleModel",
          "state": {
            "_model_module": "@jupyter-widgets/controls",
            "_model_module_version": "1.5.0",
            "_model_name": "ProgressStyleModel",
            "_view_count": null,
            "_view_module": "@jupyter-widgets/base",
            "_view_module_version": "1.2.0",
            "_view_name": "StyleView",
            "bar_color": null,
            "description_width": ""
          }
        },
        "7badff3cdaf2428b8827d3cd46b2ad28": {
          "model_module": "@jupyter-widgets/base",
          "model_module_version": "1.2.0",
          "model_name": "LayoutModel",
          "state": {
            "_model_module": "@jupyter-widgets/base",
            "_model_module_version": "1.2.0",
            "_model_name": "LayoutModel",
            "_view_count": null,
            "_view_module": "@jupyter-widgets/base",
            "_view_module_version": "1.2.0",
            "_view_name": "LayoutView",
            "align_content": null,
            "align_items": null,
            "align_self": null,
            "border": null,
            "bottom": null,
            "display": null,
            "flex": null,
            "flex_flow": null,
            "grid_area": null,
            "grid_auto_columns": null,
            "grid_auto_flow": null,
            "grid_auto_rows": null,
            "grid_column": null,
            "grid_gap": null,
            "grid_row": null,
            "grid_template_areas": null,
            "grid_template_columns": null,
            "grid_template_rows": null,
            "height": null,
            "justify_content": null,
            "justify_items": null,
            "left": null,
            "margin": null,
            "max_height": null,
            "max_width": null,
            "min_height": null,
            "min_width": null,
            "object_fit": null,
            "object_position": null,
            "order": null,
            "overflow": null,
            "overflow_x": null,
            "overflow_y": null,
            "padding": null,
            "right": null,
            "top": null,
            "visibility": null,
            "width": null
          }
        },
        "7ed28c6dc6e94651a2f7a45d36ce7aa6": {
          "model_module": "@jupyter-widgets/controls",
          "model_module_version": "1.5.0",
          "model_name": "DescriptionStyleModel",
          "state": {
            "_model_module": "@jupyter-widgets/controls",
            "_model_module_version": "1.5.0",
            "_model_name": "DescriptionStyleModel",
            "_view_count": null,
            "_view_module": "@jupyter-widgets/base",
            "_view_module_version": "1.2.0",
            "_view_name": "StyleView",
            "description_width": ""
          }
        },
        "82d4e49f7e94417bb8fd5f4ee082b871": {
          "model_module": "@jupyter-widgets/controls",
          "model_module_version": "1.5.0",
          "model_name": "HTMLModel",
          "state": {
            "_dom_classes": [],
            "_model_module": "@jupyter-widgets/controls",
            "_model_module_version": "1.5.0",
            "_model_name": "HTMLModel",
            "_view_count": null,
            "_view_module": "@jupyter-widgets/controls",
            "_view_module_version": "1.5.0",
            "_view_name": "HTMLView",
            "description": "",
            "description_tooltip": null,
            "layout": "IPY_MODEL_71af7098e7de47e180c429d97a412756",
            "placeholder": "​",
            "style": "IPY_MODEL_5e4008248a204d9ab0282c2c903d0e39",
            "value": " 2918/2918 [40:31&lt;00:00,  1.30it/s]"
          }
        },
        "8b8146407fcb412c9728976b555e457d": {
          "model_module": "@jupyter-widgets/controls",
          "model_module_version": "1.5.0",
          "model_name": "DescriptionStyleModel",
          "state": {
            "_model_module": "@jupyter-widgets/controls",
            "_model_module_version": "1.5.0",
            "_model_name": "DescriptionStyleModel",
            "_view_count": null,
            "_view_module": "@jupyter-widgets/base",
            "_view_module_version": "1.2.0",
            "_view_name": "StyleView",
            "description_width": ""
          }
        },
        "945e196415134ac68257d829008e06d7": {
          "model_module": "@jupyter-widgets/base",
          "model_module_version": "1.2.0",
          "model_name": "LayoutModel",
          "state": {
            "_model_module": "@jupyter-widgets/base",
            "_model_module_version": "1.2.0",
            "_model_name": "LayoutModel",
            "_view_count": null,
            "_view_module": "@jupyter-widgets/base",
            "_view_module_version": "1.2.0",
            "_view_name": "LayoutView",
            "align_content": null,
            "align_items": null,
            "align_self": null,
            "border": null,
            "bottom": null,
            "display": null,
            "flex": null,
            "flex_flow": null,
            "grid_area": null,
            "grid_auto_columns": null,
            "grid_auto_flow": null,
            "grid_auto_rows": null,
            "grid_column": null,
            "grid_gap": null,
            "grid_row": null,
            "grid_template_areas": null,
            "grid_template_columns": null,
            "grid_template_rows": null,
            "height": null,
            "justify_content": null,
            "justify_items": null,
            "left": null,
            "margin": null,
            "max_height": null,
            "max_width": null,
            "min_height": null,
            "min_width": null,
            "object_fit": null,
            "object_position": null,
            "order": null,
            "overflow": null,
            "overflow_x": null,
            "overflow_y": null,
            "padding": null,
            "right": null,
            "top": null,
            "visibility": null,
            "width": null
          }
        },
        "94f2903c9a2c46a9a59f9c2f475cd277": {
          "model_module": "@jupyter-widgets/controls",
          "model_module_version": "1.5.0",
          "model_name": "FloatProgressModel",
          "state": {
            "_dom_classes": [],
            "_model_module": "@jupyter-widgets/controls",
            "_model_module_version": "1.5.0",
            "_model_name": "FloatProgressModel",
            "_view_count": null,
            "_view_module": "@jupyter-widgets/controls",
            "_view_module_version": "1.5.0",
            "_view_name": "ProgressView",
            "bar_style": "success",
            "description": "",
            "description_tooltip": null,
            "layout": "IPY_MODEL_e5403bfe84744d0b85216737922826e6",
            "max": 2918,
            "min": 0,
            "orientation": "horizontal",
            "style": "IPY_MODEL_7a2a16f845794238800f3e7cf78c53a7",
            "value": 2918
          }
        },
        "aa85ffbd52a84cf8bda272b71138f2c4": {
          "model_module": "@jupyter-widgets/controls",
          "model_module_version": "1.5.0",
          "model_name": "HTMLModel",
          "state": {
            "_dom_classes": [],
            "_model_module": "@jupyter-widgets/controls",
            "_model_module_version": "1.5.0",
            "_model_name": "HTMLModel",
            "_view_count": null,
            "_view_module": "@jupyter-widgets/controls",
            "_view_module_version": "1.5.0",
            "_view_name": "HTMLView",
            "description": "",
            "description_tooltip": null,
            "layout": "IPY_MODEL_bb6040df97a64d3eb1d42d3fe0bae00a",
            "placeholder": "​",
            "style": "IPY_MODEL_7ed28c6dc6e94651a2f7a45d36ce7aa6",
            "value": "100%"
          }
        },
        "b1368dfb6e5c4f26b122a7e407dbde0a": {
          "model_module": "@jupyter-widgets/controls",
          "model_module_version": "1.5.0",
          "model_name": "HTMLModel",
          "state": {
            "_dom_classes": [],
            "_model_module": "@jupyter-widgets/controls",
            "_model_module_version": "1.5.0",
            "_model_name": "HTMLModel",
            "_view_count": null,
            "_view_module": "@jupyter-widgets/controls",
            "_view_module_version": "1.5.0",
            "_view_name": "HTMLView",
            "description": "",
            "description_tooltip": null,
            "layout": "IPY_MODEL_c242b732aab148949a96baf1d784113a",
            "placeholder": "​",
            "style": "IPY_MODEL_5818505c1fd241398789a6b6ca95381a",
            "value": " 2918/2918 [40:46&lt;00:00,  1.30it/s]"
          }
        },
        "bb6040df97a64d3eb1d42d3fe0bae00a": {
          "model_module": "@jupyter-widgets/base",
          "model_module_version": "1.2.0",
          "model_name": "LayoutModel",
          "state": {
            "_model_module": "@jupyter-widgets/base",
            "_model_module_version": "1.2.0",
            "_model_name": "LayoutModel",
            "_view_count": null,
            "_view_module": "@jupyter-widgets/base",
            "_view_module_version": "1.2.0",
            "_view_name": "LayoutView",
            "align_content": null,
            "align_items": null,
            "align_self": null,
            "border": null,
            "bottom": null,
            "display": null,
            "flex": null,
            "flex_flow": null,
            "grid_area": null,
            "grid_auto_columns": null,
            "grid_auto_flow": null,
            "grid_auto_rows": null,
            "grid_column": null,
            "grid_gap": null,
            "grid_row": null,
            "grid_template_areas": null,
            "grid_template_columns": null,
            "grid_template_rows": null,
            "height": null,
            "justify_content": null,
            "justify_items": null,
            "left": null,
            "margin": null,
            "max_height": null,
            "max_width": null,
            "min_height": null,
            "min_width": null,
            "object_fit": null,
            "object_position": null,
            "order": null,
            "overflow": null,
            "overflow_x": null,
            "overflow_y": null,
            "padding": null,
            "right": null,
            "top": null,
            "visibility": null,
            "width": null
          }
        },
        "c242b732aab148949a96baf1d784113a": {
          "model_module": "@jupyter-widgets/base",
          "model_module_version": "1.2.0",
          "model_name": "LayoutModel",
          "state": {
            "_model_module": "@jupyter-widgets/base",
            "_model_module_version": "1.2.0",
            "_model_name": "LayoutModel",
            "_view_count": null,
            "_view_module": "@jupyter-widgets/base",
            "_view_module_version": "1.2.0",
            "_view_name": "LayoutView",
            "align_content": null,
            "align_items": null,
            "align_self": null,
            "border": null,
            "bottom": null,
            "display": null,
            "flex": null,
            "flex_flow": null,
            "grid_area": null,
            "grid_auto_columns": null,
            "grid_auto_flow": null,
            "grid_auto_rows": null,
            "grid_column": null,
            "grid_gap": null,
            "grid_row": null,
            "grid_template_areas": null,
            "grid_template_columns": null,
            "grid_template_rows": null,
            "height": null,
            "justify_content": null,
            "justify_items": null,
            "left": null,
            "margin": null,
            "max_height": null,
            "max_width": null,
            "min_height": null,
            "min_width": null,
            "object_fit": null,
            "object_position": null,
            "order": null,
            "overflow": null,
            "overflow_x": null,
            "overflow_y": null,
            "padding": null,
            "right": null,
            "top": null,
            "visibility": null,
            "width": null
          }
        },
        "e08edf68601c45bf813ddea034874e48": {
          "model_module": "@jupyter-widgets/controls",
          "model_module_version": "1.5.0",
          "model_name": "HBoxModel",
          "state": {
            "_dom_classes": [],
            "_model_module": "@jupyter-widgets/controls",
            "_model_module_version": "1.5.0",
            "_model_name": "HBoxModel",
            "_view_count": null,
            "_view_module": "@jupyter-widgets/controls",
            "_view_module_version": "1.5.0",
            "_view_name": "HBoxView",
            "box_style": "",
            "children": [
              "IPY_MODEL_2bf908a0b66e479eae153973284325eb",
              "IPY_MODEL_78043eb511ea4482817c96e048ec435e",
              "IPY_MODEL_82d4e49f7e94417bb8fd5f4ee082b871"
            ],
            "layout": "IPY_MODEL_7badff3cdaf2428b8827d3cd46b2ad28"
          }
        },
        "e1a154135a724f5198593d3484661c97": {
          "model_module": "@jupyter-widgets/controls",
          "model_module_version": "1.5.0",
          "model_name": "DescriptionStyleModel",
          "state": {
            "_model_module": "@jupyter-widgets/controls",
            "_model_module_version": "1.5.0",
            "_model_name": "DescriptionStyleModel",
            "_view_count": null,
            "_view_module": "@jupyter-widgets/base",
            "_view_module_version": "1.2.0",
            "_view_name": "StyleView",
            "description_width": ""
          }
        },
        "e5403bfe84744d0b85216737922826e6": {
          "model_module": "@jupyter-widgets/base",
          "model_module_version": "1.2.0",
          "model_name": "LayoutModel",
          "state": {
            "_model_module": "@jupyter-widgets/base",
            "_model_module_version": "1.2.0",
            "_model_name": "LayoutModel",
            "_view_count": null,
            "_view_module": "@jupyter-widgets/base",
            "_view_module_version": "1.2.0",
            "_view_name": "LayoutView",
            "align_content": null,
            "align_items": null,
            "align_self": null,
            "border": null,
            "bottom": null,
            "display": null,
            "flex": null,
            "flex_flow": null,
            "grid_area": null,
            "grid_auto_columns": null,
            "grid_auto_flow": null,
            "grid_auto_rows": null,
            "grid_column": null,
            "grid_gap": null,
            "grid_row": null,
            "grid_template_areas": null,
            "grid_template_columns": null,
            "grid_template_rows": null,
            "height": null,
            "justify_content": null,
            "justify_items": null,
            "left": null,
            "margin": null,
            "max_height": null,
            "max_width": null,
            "min_height": null,
            "min_width": null,
            "object_fit": null,
            "object_position": null,
            "order": null,
            "overflow": null,
            "overflow_x": null,
            "overflow_y": null,
            "padding": null,
            "right": null,
            "top": null,
            "visibility": null,
            "width": null
          }
        },
        "e6912650bbac4d4181950757e092a5c2": {
          "model_module": "@jupyter-widgets/base",
          "model_module_version": "1.2.0",
          "model_name": "LayoutModel",
          "state": {
            "_model_module": "@jupyter-widgets/base",
            "_model_module_version": "1.2.0",
            "_model_name": "LayoutModel",
            "_view_count": null,
            "_view_module": "@jupyter-widgets/base",
            "_view_module_version": "1.2.0",
            "_view_name": "LayoutView",
            "align_content": null,
            "align_items": null,
            "align_self": null,
            "border": null,
            "bottom": null,
            "display": null,
            "flex": null,
            "flex_flow": null,
            "grid_area": null,
            "grid_auto_columns": null,
            "grid_auto_flow": null,
            "grid_auto_rows": null,
            "grid_column": null,
            "grid_gap": null,
            "grid_row": null,
            "grid_template_areas": null,
            "grid_template_columns": null,
            "grid_template_rows": null,
            "height": null,
            "justify_content": null,
            "justify_items": null,
            "left": null,
            "margin": null,
            "max_height": null,
            "max_width": null,
            "min_height": null,
            "min_width": null,
            "object_fit": null,
            "object_position": null,
            "order": null,
            "overflow": null,
            "overflow_x": null,
            "overflow_y": null,
            "padding": null,
            "right": null,
            "top": null,
            "visibility": null,
            "width": null
          }
        },
        "ec2614449f24492d9f416714bd9814bc": {
          "model_module": "@jupyter-widgets/controls",
          "model_module_version": "1.5.0",
          "model_name": "HTMLModel",
          "state": {
            "_dom_classes": [],
            "_model_module": "@jupyter-widgets/controls",
            "_model_module_version": "1.5.0",
            "_model_name": "HTMLModel",
            "_view_count": null,
            "_view_module": "@jupyter-widgets/controls",
            "_view_module_version": "1.5.0",
            "_view_name": "HTMLView",
            "description": "",
            "description_tooltip": null,
            "layout": "IPY_MODEL_082f61e749d94371984743167134baba",
            "placeholder": "​",
            "style": "IPY_MODEL_051a063782da4d72abfd3f178b772312",
            "value": "100%"
          }
        },
        "f1bff390cc574261b27e4c34c669dab7": {
          "model_module": "@jupyter-widgets/base",
          "model_module_version": "1.2.0",
          "model_name": "LayoutModel",
          "state": {
            "_model_module": "@jupyter-widgets/base",
            "_model_module_version": "1.2.0",
            "_model_name": "LayoutModel",
            "_view_count": null,
            "_view_module": "@jupyter-widgets/base",
            "_view_module_version": "1.2.0",
            "_view_name": "LayoutView",
            "align_content": null,
            "align_items": null,
            "align_self": null,
            "border": null,
            "bottom": null,
            "display": null,
            "flex": null,
            "flex_flow": null,
            "grid_area": null,
            "grid_auto_columns": null,
            "grid_auto_flow": null,
            "grid_auto_rows": null,
            "grid_column": null,
            "grid_gap": null,
            "grid_row": null,
            "grid_template_areas": null,
            "grid_template_columns": null,
            "grid_template_rows": null,
            "height": null,
            "justify_content": null,
            "justify_items": null,
            "left": null,
            "margin": null,
            "max_height": null,
            "max_width": null,
            "min_height": null,
            "min_width": null,
            "object_fit": null,
            "object_position": null,
            "order": null,
            "overflow": null,
            "overflow_x": null,
            "overflow_y": null,
            "padding": null,
            "right": null,
            "top": null,
            "visibility": null,
            "width": null
          }
        },
        "f2ca752e4b90403ca516dba30b33f3cb": {
          "model_module": "@jupyter-widgets/base",
          "model_module_version": "1.2.0",
          "model_name": "LayoutModel",
          "state": {
            "_model_module": "@jupyter-widgets/base",
            "_model_module_version": "1.2.0",
            "_model_name": "LayoutModel",
            "_view_count": null,
            "_view_module": "@jupyter-widgets/base",
            "_view_module_version": "1.2.0",
            "_view_name": "LayoutView",
            "align_content": null,
            "align_items": null,
            "align_self": null,
            "border": null,
            "bottom": null,
            "display": null,
            "flex": null,
            "flex_flow": null,
            "grid_area": null,
            "grid_auto_columns": null,
            "grid_auto_flow": null,
            "grid_auto_rows": null,
            "grid_column": null,
            "grid_gap": null,
            "grid_row": null,
            "grid_template_areas": null,
            "grid_template_columns": null,
            "grid_template_rows": null,
            "height": null,
            "justify_content": null,
            "justify_items": null,
            "left": null,
            "margin": null,
            "max_height": null,
            "max_width": null,
            "min_height": null,
            "min_width": null,
            "object_fit": null,
            "object_position": null,
            "order": null,
            "overflow": null,
            "overflow_x": null,
            "overflow_y": null,
            "padding": null,
            "right": null,
            "top": null,
            "visibility": null,
            "width": null
          }
        },
        "f375438d51164edf8682c182d7870084": {
          "model_module": "@jupyter-widgets/controls",
          "model_module_version": "1.5.0",
          "model_name": "HBoxModel",
          "state": {
            "_dom_classes": [],
            "_model_module": "@jupyter-widgets/controls",
            "_model_module_version": "1.5.0",
            "_model_name": "HBoxModel",
            "_view_count": null,
            "_view_module": "@jupyter-widgets/controls",
            "_view_module_version": "1.5.0",
            "_view_name": "HBoxView",
            "box_style": "",
            "children": [
              "IPY_MODEL_ec2614449f24492d9f416714bd9814bc",
              "IPY_MODEL_94f2903c9a2c46a9a59f9c2f475cd277",
              "IPY_MODEL_b1368dfb6e5c4f26b122a7e407dbde0a"
            ],
            "layout": "IPY_MODEL_f2ca752e4b90403ca516dba30b33f3cb"
          }
        },
        "fc085e2c4c9441edbf6f93fd08e44227": {
          "model_module": "@jupyter-widgets/controls",
          "model_module_version": "1.5.0",
          "model_name": "FloatProgressModel",
          "state": {
            "_dom_classes": [],
            "_model_module": "@jupyter-widgets/controls",
            "_model_module_version": "1.5.0",
            "_model_name": "FloatProgressModel",
            "_view_count": null,
            "_view_module": "@jupyter-widgets/controls",
            "_view_module_version": "1.5.0",
            "_view_name": "ProgressView",
            "bar_style": "success",
            "description": "",
            "description_tooltip": null,
            "layout": "IPY_MODEL_377d223227474426983a34148dc7045c",
            "max": 2918,
            "min": 0,
            "orientation": "horizontal",
            "style": "IPY_MODEL_6cf394d274f44a71808fc365c703f13c",
            "value": 2918
          }
        }
      }
    }
  },
  "nbformat": 4,
  "nbformat_minor": 0
}
